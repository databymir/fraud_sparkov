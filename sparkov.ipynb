{
 "cells": [
  {
   "cell_type": "markdown",
   "id": "87695698-e4db-4a0c-80de-dd19cad7c9fe",
   "metadata": {},
   "source": [
    "# Fraud Detection: Credit Card Transactions <a class='anchor' id='top'></a>\n",
    "## Author: Oliverius, Miranda"
   ]
  },
  {
   "cell_type": "markdown",
   "id": "cca4b679-d02b-47ee-aa41-a0b44bc49b53",
   "metadata": {},
   "source": [
    "## Table of Contents:"
   ]
  },
  {
   "cell_type": "markdown",
   "id": "2da65dee-d40d-4162-a0b4-ad67adfb14d2",
   "metadata": {},
   "source": [
    "* [Introduction](#intro)\n",
    "* [Get the Data](#data)\n",
    "* [Data Overview & Preparation](#overview)\n",
    "* [Exploratory Data Analysis](#explore)\n",
    "* [Data Preprocessing](#preprocess)\n",
    "* [Shortlist Promising Models](#shortlist)\n",
    "* [Conclusion](#conclusion)\n",
    "* [Reflections](#reflections)\n",
    "* [References](#references)\n",
    "* [Appendices](#appendices)"
   ]
  },
  {
   "cell_type": "markdown",
   "id": "15c57fa0-611c-4242-bbbe-5b0360d116c8",
   "metadata": {},
   "source": [
    "## Introduction <a class='anchor' id='intro'></a>"
   ]
  },
  {
   "cell_type": "markdown",
   "id": "f803df0b-889e-4983-affb-b9f01237a470",
   "metadata": {},
   "source": [
    "### Business Problem"
   ]
  },
  {
   "cell_type": "markdown",
   "id": "5d61e50a-ec81-4868-ae7f-1e059462919d",
   "metadata": {},
   "source": [
    "Opportunities for fraud are vast, as credit card information is no longer confined to physical cards but stored in password managers, internet browsers, and mobile payment apps. While it's convenient to pay for groceries with a tap of a smartwatch when a wallet is forgotten, it carries the risk of data misuse by fraudsters for unauthorized purchases.\n",
    "\n",
    "This fraud strategy & analytics project aims to swiftly detect and prevent fraudulent transactions while balancing this with the need for premium customer service. The customer base values seamless, uninterrupted service with minimal disruptions, making it essential to address fraud without compromising user experience."
   ]
  },
  {
   "cell_type": "markdown",
   "id": "77a26f4d-8eff-411b-9f43-d5303f56f726",
   "metadata": {},
   "source": [
    "### Machine Learning Task"
   ]
  },
  {
   "cell_type": "markdown",
   "id": "a4070e15-38f6-4f8b-a8c4-5153b7c16143",
   "metadata": {},
   "source": [
    "Fraud detection is a classification task, where machine learning models aim to predict categories rather than numeric values. This project will utilize supervised machine learning algorithms, meaning models will be trained on labeled data categorizing transactions as either 'fraudulent' or 'legitimate.\n",
    "\n",
    "Considering the preferences of the customer base, it is essential to prioritize the accurate detection of fraudulent credit card transactions to protect customers while minimizing unnecessary disruptions to legitimate transactions as the models are trained and evaluated."
   ]
  },
  {
   "cell_type": "markdown",
   "id": "10b8d38e-3077-436f-87bc-374fe5a33f5b",
   "metadata": {},
   "source": [
    "### Metrics"
   ]
  },
  {
   "cell_type": "markdown",
   "id": "76822861-5c7f-41cf-961d-93fe820ec101",
   "metadata": {},
   "source": [
    "Possible outcomes of the classification model's predictions include:\n",
    "\n",
    "1. True Positive: A fraudulent transaction is correctly identified as fraud\n",
    "2. True Negative: A legitimate transaction is correctly identified as legitimate\n",
    "3. False Positive: A legitimate transaction is incorrectly flagged as fraud\n",
    "4. False Negative: A fraudulent transaction is incorrectly allowed to proceed as legitimate\n",
    "\n",
    "Models will be evaluated based on accuracy, precision, recall, F1 score, and AUC-ROC:\n",
    "\n",
    "1. Accuracy: Measures how often the model correctly predicts whether a transaction is fraudulent or legitimate.\n",
    "2. Precision: Evaluates how accurate the positive predictions are; for transactions flagged as fraud, how often is that flag correct?\n",
    "3. Recall: Measures how well the model identifies actual fraud; for fraudulent transactions, how often is the fraud detected?\n",
    "4. F1 Score: The harmonic mean of precision and recall, balancing both metrics, but only reaching a high value if both are strong.\n",
    "5. AUC-ROC: Measures the model’s ability to distinguish between classes, with values closer to 1 indicating better model performance.\n",
    "\n",
    "In this case, precision is prioritized to avoid inconveniencing customers with unnecessary transaction blocks or false alarms. It is preferable to allow a small number of false negatives (missed fraud) rather than cause a large number of false positives. As long as accuracy and recall remain at acceptable levels, minimizing false positives is the focus. The AUC-ROC score also provides a measure of the model’s overall classification ability across different thresholds."
   ]
  },
  {
   "cell_type": "markdown",
   "id": "6f627f52-6315-412e-a287-2acff80c43ae",
   "metadata": {},
   "source": [
    "## Get the Data <a class='anchor' id='data'></a>"
   ]
  },
  {
   "cell_type": "markdown",
   "id": "0c763df8-76b6-43e7-8b83-c5ea64ee49d1",
   "metadata": {},
   "source": [
    "[Click Here to Return to Top](#top)"
   ]
  },
  {
   "cell_type": "markdown",
   "id": "56978323-d99a-4028-b1b4-ceeed583d0f3",
   "metadata": {},
   "source": [
    "This dataset was downloaded from Kartik Shenoy's Kaggle, and is described as \"a simulated credit card transaction dataset containing legitimate and fraud transactions from the duration 1st Jan 2019 - 31st Dec 2020. It covers credit cards of 1000 customers doing transactions with a pool of 800 merchants\" (Shenoy, 2020). Shenoy notes that he utilized the \"Sparkov Data Generation | Github tool created by Brandon Harris\" to run the simulation and convert the files to a standard format."
   ]
  },
  {
   "cell_type": "markdown",
   "id": "1161a449-e5e4-4b0c-8ea5-43f6eba86050",
   "metadata": {},
   "source": [
    "### Data Import"
   ]
  },
  {
   "cell_type": "markdown",
   "id": "d9823475-5735-4333-a6cb-63e1ad246a27",
   "metadata": {},
   "source": [
    "To get started, common Python libraries for data manipulation, visualization, machine learning, and metrics should be imported. These libraries provide a more flexible and purpose-driven approach to working with data than using base Python alone."
   ]
  },
  {
   "cell_type": "code",
   "execution_count": 1,
   "id": "5c6f9d4e-afe7-4ad9-a03d-9a8b203b0fee",
   "metadata": {},
   "outputs": [],
   "source": [
    "# load libraries\n",
    "## *** DATA MANIPULATION ***\n",
    "import pandas as pd\n",
    "import numpy as np\n",
    "import scipy.stats as stats\n",
    "\n",
    "## *** DATA VISUALIZATION ***\n",
    "import matplotlib.pyplot as plt\n",
    "import seaborn as sns\n",
    "from IPython.display import display\n",
    "\n",
    "## *** MACHINE LEARNING ***\n",
    "import pickle\n",
    "import joblib\n",
    "from sklearn.model_selection import train_test_split\n",
    "from sklearn.base import BaseEstimator, TransformerMixin\n",
    "from sklearn.impute import SimpleImputer\n",
    "from sklearn.preprocessing import MinMaxScaler, OneHotEncoder\n",
    "from sklearn.compose import ColumnTransformer\n",
    "from sklearn.pipeline import make_pipeline, Pipeline\n",
    "from imblearn.over_sampling import SMOTE\n",
    "from sklearn.model_selection import RandomizedSearchCV, cross_val_predict, StratifiedKFold, cross_val_score\n",
    "from sklearn.ensemble import RandomForestClassifier, VotingClassifier\n",
    "from sklearn.linear_model import LogisticRegression\n",
    "import xgboost as xgb\n",
    "from xgboost import XGBClassifier\n",
    "import tensorflow as tf\n",
    "from tensorflow.keras.models import Sequential, load_model\n",
    "from tensorflow.keras.layers import Input, Dense, Dropout\n",
    "from scikeras.wrappers import KerasClassifier\n",
    "from tensorflow.keras.callbacks import EarlyStopping\n",
    "\n",
    "## *** METRICS ***\n",
    "from sklearn.metrics import precision_score, recall_score, f1_score, accuracy_score, roc_auc_score, confusion_matrix, roc_curve, auc\n",
    "from sklearn.metrics import ConfusionMatrixDisplay as cmd"
   ]
  },
  {
   "cell_type": "markdown",
   "id": "495407ca-4c73-43ea-b8ef-6eb803b55404",
   "metadata": {},
   "source": [
    "Upfront, a global random seed is set to ensure reproducibility for all subsequent operations that utilize NumPy."
   ]
  },
  {
   "cell_type": "code",
   "execution_count": 2,
   "id": "c2c6a606-47cc-4c05-b70b-ac2db961dbc9",
   "metadata": {},
   "outputs": [],
   "source": [
    "# set random seed for reproducibility\n",
    "np.random.seed(42)"
   ]
  },
  {
   "cell_type": "markdown",
   "id": "5b25b396-b4bf-4676-9aad-40cee22f51c0",
   "metadata": {},
   "source": [
    "Next, the data is imported into the notebook to begin exploratory data analysis. The data is in two comma-separated values (CSV) files, which must be placed in the same file location as the notebook for the following code to run properly."
   ]
  },
  {
   "cell_type": "code",
   "execution_count": 3,
   "id": "b153edb2-5ee6-4fd4-a33a-ae2977b3722d",
   "metadata": {},
   "outputs": [],
   "source": [
    "# import data from CSV files\n",
    "original_train = pd.read_csv('datasets/fraudTrain.csv')\n",
    "original_test = pd.read_csv('datasets/fraudTest.csv')"
   ]
  },
  {
   "cell_type": "markdown",
   "id": "5ed2de29-e6d1-49c4-8a37-75dd00228c32",
   "metadata": {},
   "source": [
    "Next, combining the original training and test datasets enables a unified train-test split, ensuring that the sampling process is representative and that the data distribution is consistent across both sets. This approach allows for more robust model evaluation and validation."
   ]
  },
  {
   "cell_type": "code",
   "execution_count": 4,
   "id": "be0916e0-0f17-4aff-aa90-a1de8d26cb24",
   "metadata": {},
   "outputs": [],
   "source": [
    "# concatenate original training and test sets\n",
    "cc_transactions = pd.concat([original_train, original_test], axis=0)"
   ]
  },
  {
   "cell_type": "markdown",
   "id": "f3182996-46d5-4212-b7a7-c890fe12d5f3",
   "metadata": {},
   "source": [
    "<a class='anchor' id='main_a'></a>\n",
    "Lastly, several variables were saved during the more compute-intensive phases of the project to avoid repeating hyperparameter tuning, metric calculations, and model training. The original code used to compute these variables has been commented out to prevent re-execution but remains in the notebook for reference. If needed, this code can be uncommented to rerun the process when changes are made.\n",
    "\n",
    "For efficiency and to reduce repository clutter, all variables were stored in a single pickle file. The code used to save the variables is provided in [Appendix A](#appendix_a). Below is the code to load the saved variables before they are utilized throughout the notebook."
   ]
  },
  {
   "cell_type": "code",
   "execution_count": 5,
   "id": "1e2b403d-6cc7-4e26-9719-4cb2f5d54da8",
   "metadata": {},
   "outputs": [],
   "source": [
    "# load stored variables\n",
    "with open('stored_variables.pkl', 'rb') as f:\n",
    "    loaded_variables = pickle.load(f)"
   ]
  },
  {
   "cell_type": "markdown",
   "id": "bc4cc735-536c-48dd-9a63-0735ee5797bb",
   "metadata": {},
   "source": [
    "### Data Size & Type"
   ]
  },
  {
   "cell_type": "markdown",
   "id": "375c7fbb-037c-4a7a-b5d0-cce6f619b224",
   "metadata": {},
   "source": [
    "The data size and type are checked to understand the scope of the data, the number of missing values, and the data types present. This helps identify initial tasks necessary for data cleaning and preprocessing."
   ]
  },
  {
   "cell_type": "code",
   "execution_count": 6,
   "id": "da66a523-e073-4227-939f-308d161aa58f",
   "metadata": {},
   "outputs": [
    {
     "name": "stdout",
     "output_type": "stream",
     "text": [
      "<class 'pandas.core.frame.DataFrame'>\n",
      "Index: 1852394 entries, 0 to 555718\n",
      "Data columns (total 23 columns):\n",
      " #   Column                 Non-Null Count    Dtype  \n",
      "---  ------                 --------------    -----  \n",
      " 0   Unnamed: 0             1852394 non-null  int64  \n",
      " 1   trans_date_trans_time  1852394 non-null  object \n",
      " 2   cc_num                 1852394 non-null  int64  \n",
      " 3   merchant               1852394 non-null  object \n",
      " 4   category               1852394 non-null  object \n",
      " 5   amt                    1852394 non-null  float64\n",
      " 6   first                  1852394 non-null  object \n",
      " 7   last                   1852394 non-null  object \n",
      " 8   gender                 1852394 non-null  object \n",
      " 9   street                 1852394 non-null  object \n",
      " 10  city                   1852394 non-null  object \n",
      " 11  state                  1852394 non-null  object \n",
      " 12  zip                    1852394 non-null  int64  \n",
      " 13  lat                    1852394 non-null  float64\n",
      " 14  long                   1852394 non-null  float64\n",
      " 15  city_pop               1852394 non-null  int64  \n",
      " 16  job                    1852394 non-null  object \n",
      " 17  dob                    1852394 non-null  object \n",
      " 18  trans_num              1852394 non-null  object \n",
      " 19  unix_time              1852394 non-null  int64  \n",
      " 20  merch_lat              1852394 non-null  float64\n",
      " 21  merch_long             1852394 non-null  float64\n",
      " 22  is_fraud               1852394 non-null  int64  \n",
      "dtypes: float64(5), int64(6), object(12)\n",
      "memory usage: 339.2+ MB\n",
      "None\n"
     ]
    }
   ],
   "source": [
    "# check data size & type\n",
    "print(cc_transactions.info(verbose=True, show_counts=True))"
   ]
  },
  {
   "cell_type": "markdown",
   "id": "00f091e2-8fae-4bb2-9886-5677e2192f57",
   "metadata": {},
   "source": [
    "__Observations:__\n",
    "\n",
    "__1. There are 1,852,394 total instances.__\n",
    "\n",
    "An instance refers to an individual record or data row and is sometimes referred to as an \"observation\". In this case, each instance represents a row of data for one credit card transaction.\n",
    "\n",
    "__2. There are 23 columns.__\n",
    "\n",
    "The 'is_fraud' column serves as the target variable that the model aims to predict, while the other columns denote various data features. Features are the input variables used by the model and are commonly referred to as predictors or attributes.\n",
    "\n",
    "In the data, each column records information about each observation, such as the merchant, category, and amount of each transaction.\n",
    "\n",
    "__3. Every column has 1,852,394 non-null values, which means that there are no null values in the dataset.__\n",
    "\n",
    "Null values indicate absent data or data that is not available. Since the dataset contains no null values, there is no need to perform data removal or imputation during preprocessing. However, imputation steps will be included in the preprocessing pipeline so that the model can handle any future data that is introduced with missing values.\n",
    "\n",
    "__4. The data includes both numeric and categorical data types.__\n",
    "\n",
    "Columns designated with a \"float64\" data type contain numeric values that include decimal points, whereas columns labeled with an \"int64\" data type consist of integers (whole numbers). The \"object\" data type is used for text data, encompassing alphabetic characters rather than solely numeric values.\n",
    "\n",
    "Exploratory data analysis should assess whether any numeric data should be treated as categorical. Additionally, since machine learning algorithms typically favor numeric data, categorical variables will need to be encoded to convert them into a numeric format.\n",
    "\n",
    "__5. The column named \"Unnamed: 0\" has an unusual designation that lacks context regarding its contents.__\n",
    "\n",
    "While all features will be examined for their predictive value, the peculiarity of this column name suggests it may not provide meaningful data."
   ]
  },
  {
   "cell_type": "markdown",
   "id": "3b4a4688-a90f-40d8-9d92-7308514d454d",
   "metadata": {},
   "source": [
    "### Data Features & Descriptions"
   ]
  },
  {
   "cell_type": "markdown",
   "id": "906a97b3-c5ef-4e0c-8376-bfbd3c2cc4af",
   "metadata": {},
   "source": [
    "The features of the data are listed below, along with their descriptions. The Kaggle page did not provide an explicit data dictionary, but the column names are straightforward."
   ]
  },
  {
   "cell_type": "markdown",
   "id": "76b79c6a-798e-4d51-86b2-a5a682c60e81",
   "metadata": {},
   "source": [
    "1. __Unnamed: 0__: unknown contents, will explore below\n",
    "2. __trans_date_trans_time__: the date and time of the transaction\n",
    "3. __cc_num__: the identifying number of the credit card that was used for payment\n",
    "4. __merchant__: the merchant who was paid\n",
    "5. __category__: the expense category that describes what the transaction was for\n",
    "6. __amt__: the amount of the transaction\n",
    "7. __first__: the first name of the cardholder\n",
    "8. __last__: the last name of the cardholder\n",
    "9. __gender__: the gender of the cardholder\n",
    "10. __street__: the street address of the cardholder\n",
    "11. __city__: the city of the cardholder\n",
    "12. __state__: the state of the cardholder\n",
    "13. __zip__: the zip code of the cardholder\n",
    "14. __lat__: the latitude of the cardholder's address\n",
    "15. __long__: the longitude of the cardholder's address\n",
    "16. __city_pop__: the population of the city associated with the cardholder\n",
    "17. __job__: the cardholder's occupation\n",
    "18. __dob__: the cardholder's date of birth\n",
    "19. __trans_num__: a unique identifier for the transaction\n",
    "20. __unix_time__: Unix time is \"the number of seconds since the Unix epoch\" and serves as a \"standard for time representation in many computing systems.\" (Stevens, 1998)\n",
    "21. __merch_lat__: the latitude of the merchant\n",
    "22. __merch_long__: the longitude of the merchant\n",
    "23. __is_fraud__: a binary indicator denoting whether a transaction is fraudulent (1) or legitimate (0)"
   ]
  },
  {
   "cell_type": "markdown",
   "id": "c8d42ea4-acf5-4eff-a170-645821b5c275",
   "metadata": {},
   "source": [
    "Next, the first five rows of data are viewed with the data descriptions in mind before documenting initial observations."
   ]
  },
  {
   "cell_type": "code",
   "execution_count": 7,
   "id": "82760a78-8bfa-4d5d-a010-effda2c6f714",
   "metadata": {},
   "outputs": [
    {
     "data": {
      "text/html": [
       "<div>\n",
       "<style scoped>\n",
       "    .dataframe tbody tr th:only-of-type {\n",
       "        vertical-align: middle;\n",
       "    }\n",
       "\n",
       "    .dataframe tbody tr th {\n",
       "        vertical-align: top;\n",
       "    }\n",
       "\n",
       "    .dataframe thead th {\n",
       "        text-align: right;\n",
       "    }\n",
       "</style>\n",
       "<table border=\"1\" class=\"dataframe\">\n",
       "  <thead>\n",
       "    <tr style=\"text-align: right;\">\n",
       "      <th></th>\n",
       "      <th>Unnamed: 0</th>\n",
       "      <th>trans_date_trans_time</th>\n",
       "      <th>cc_num</th>\n",
       "      <th>merchant</th>\n",
       "      <th>category</th>\n",
       "      <th>amt</th>\n",
       "      <th>first</th>\n",
       "      <th>last</th>\n",
       "      <th>gender</th>\n",
       "      <th>street</th>\n",
       "      <th>...</th>\n",
       "      <th>lat</th>\n",
       "      <th>long</th>\n",
       "      <th>city_pop</th>\n",
       "      <th>job</th>\n",
       "      <th>dob</th>\n",
       "      <th>trans_num</th>\n",
       "      <th>unix_time</th>\n",
       "      <th>merch_lat</th>\n",
       "      <th>merch_long</th>\n",
       "      <th>is_fraud</th>\n",
       "    </tr>\n",
       "  </thead>\n",
       "  <tbody>\n",
       "    <tr>\n",
       "      <th>0</th>\n",
       "      <td>0</td>\n",
       "      <td>2019-01-01 00:00:18</td>\n",
       "      <td>2703186189652095</td>\n",
       "      <td>fraud_Rippin, Kub and Mann</td>\n",
       "      <td>misc_net</td>\n",
       "      <td>4.97</td>\n",
       "      <td>Jennifer</td>\n",
       "      <td>Banks</td>\n",
       "      <td>F</td>\n",
       "      <td>561 Perry Cove</td>\n",
       "      <td>...</td>\n",
       "      <td>36.0788</td>\n",
       "      <td>-81.1781</td>\n",
       "      <td>3495</td>\n",
       "      <td>Psychologist, counselling</td>\n",
       "      <td>1988-03-09</td>\n",
       "      <td>0b242abb623afc578575680df30655b9</td>\n",
       "      <td>1325376018</td>\n",
       "      <td>36.011293</td>\n",
       "      <td>-82.048315</td>\n",
       "      <td>0</td>\n",
       "    </tr>\n",
       "    <tr>\n",
       "      <th>1</th>\n",
       "      <td>1</td>\n",
       "      <td>2019-01-01 00:00:44</td>\n",
       "      <td>630423337322</td>\n",
       "      <td>fraud_Heller, Gutmann and Zieme</td>\n",
       "      <td>grocery_pos</td>\n",
       "      <td>107.23</td>\n",
       "      <td>Stephanie</td>\n",
       "      <td>Gill</td>\n",
       "      <td>F</td>\n",
       "      <td>43039 Riley Greens Suite 393</td>\n",
       "      <td>...</td>\n",
       "      <td>48.8878</td>\n",
       "      <td>-118.2105</td>\n",
       "      <td>149</td>\n",
       "      <td>Special educational needs teacher</td>\n",
       "      <td>1978-06-21</td>\n",
       "      <td>1f76529f8574734946361c461b024d99</td>\n",
       "      <td>1325376044</td>\n",
       "      <td>49.159047</td>\n",
       "      <td>-118.186462</td>\n",
       "      <td>0</td>\n",
       "    </tr>\n",
       "    <tr>\n",
       "      <th>2</th>\n",
       "      <td>2</td>\n",
       "      <td>2019-01-01 00:00:51</td>\n",
       "      <td>38859492057661</td>\n",
       "      <td>fraud_Lind-Buckridge</td>\n",
       "      <td>entertainment</td>\n",
       "      <td>220.11</td>\n",
       "      <td>Edward</td>\n",
       "      <td>Sanchez</td>\n",
       "      <td>M</td>\n",
       "      <td>594 White Dale Suite 530</td>\n",
       "      <td>...</td>\n",
       "      <td>42.1808</td>\n",
       "      <td>-112.2620</td>\n",
       "      <td>4154</td>\n",
       "      <td>Nature conservation officer</td>\n",
       "      <td>1962-01-19</td>\n",
       "      <td>a1a22d70485983eac12b5b88dad1cf95</td>\n",
       "      <td>1325376051</td>\n",
       "      <td>43.150704</td>\n",
       "      <td>-112.154481</td>\n",
       "      <td>0</td>\n",
       "    </tr>\n",
       "    <tr>\n",
       "      <th>3</th>\n",
       "      <td>3</td>\n",
       "      <td>2019-01-01 00:01:16</td>\n",
       "      <td>3534093764340240</td>\n",
       "      <td>fraud_Kutch, Hermiston and Farrell</td>\n",
       "      <td>gas_transport</td>\n",
       "      <td>45.00</td>\n",
       "      <td>Jeremy</td>\n",
       "      <td>White</td>\n",
       "      <td>M</td>\n",
       "      <td>9443 Cynthia Court Apt. 038</td>\n",
       "      <td>...</td>\n",
       "      <td>46.2306</td>\n",
       "      <td>-112.1138</td>\n",
       "      <td>1939</td>\n",
       "      <td>Patent attorney</td>\n",
       "      <td>1967-01-12</td>\n",
       "      <td>6b849c168bdad6f867558c3793159a81</td>\n",
       "      <td>1325376076</td>\n",
       "      <td>47.034331</td>\n",
       "      <td>-112.561071</td>\n",
       "      <td>0</td>\n",
       "    </tr>\n",
       "    <tr>\n",
       "      <th>4</th>\n",
       "      <td>4</td>\n",
       "      <td>2019-01-01 00:03:06</td>\n",
       "      <td>375534208663984</td>\n",
       "      <td>fraud_Keeling-Crist</td>\n",
       "      <td>misc_pos</td>\n",
       "      <td>41.96</td>\n",
       "      <td>Tyler</td>\n",
       "      <td>Garcia</td>\n",
       "      <td>M</td>\n",
       "      <td>408 Bradley Rest</td>\n",
       "      <td>...</td>\n",
       "      <td>38.4207</td>\n",
       "      <td>-79.4629</td>\n",
       "      <td>99</td>\n",
       "      <td>Dance movement psychotherapist</td>\n",
       "      <td>1986-03-28</td>\n",
       "      <td>a41d7549acf90789359a9aa5346dcb46</td>\n",
       "      <td>1325376186</td>\n",
       "      <td>38.674999</td>\n",
       "      <td>-78.632459</td>\n",
       "      <td>0</td>\n",
       "    </tr>\n",
       "  </tbody>\n",
       "</table>\n",
       "<p>5 rows × 23 columns</p>\n",
       "</div>"
      ],
      "text/plain": [
       "   Unnamed: 0 trans_date_trans_time            cc_num  \\\n",
       "0           0   2019-01-01 00:00:18  2703186189652095   \n",
       "1           1   2019-01-01 00:00:44      630423337322   \n",
       "2           2   2019-01-01 00:00:51    38859492057661   \n",
       "3           3   2019-01-01 00:01:16  3534093764340240   \n",
       "4           4   2019-01-01 00:03:06   375534208663984   \n",
       "\n",
       "                             merchant       category     amt      first  \\\n",
       "0          fraud_Rippin, Kub and Mann       misc_net    4.97   Jennifer   \n",
       "1     fraud_Heller, Gutmann and Zieme    grocery_pos  107.23  Stephanie   \n",
       "2                fraud_Lind-Buckridge  entertainment  220.11     Edward   \n",
       "3  fraud_Kutch, Hermiston and Farrell  gas_transport   45.00     Jeremy   \n",
       "4                 fraud_Keeling-Crist       misc_pos   41.96      Tyler   \n",
       "\n",
       "      last gender                        street  ...      lat      long  \\\n",
       "0    Banks      F                561 Perry Cove  ...  36.0788  -81.1781   \n",
       "1     Gill      F  43039 Riley Greens Suite 393  ...  48.8878 -118.2105   \n",
       "2  Sanchez      M      594 White Dale Suite 530  ...  42.1808 -112.2620   \n",
       "3    White      M   9443 Cynthia Court Apt. 038  ...  46.2306 -112.1138   \n",
       "4   Garcia      M              408 Bradley Rest  ...  38.4207  -79.4629   \n",
       "\n",
       "   city_pop                                job         dob  \\\n",
       "0      3495          Psychologist, counselling  1988-03-09   \n",
       "1       149  Special educational needs teacher  1978-06-21   \n",
       "2      4154        Nature conservation officer  1962-01-19   \n",
       "3      1939                    Patent attorney  1967-01-12   \n",
       "4        99     Dance movement psychotherapist  1986-03-28   \n",
       "\n",
       "                          trans_num   unix_time  merch_lat  merch_long  \\\n",
       "0  0b242abb623afc578575680df30655b9  1325376018  36.011293  -82.048315   \n",
       "1  1f76529f8574734946361c461b024d99  1325376044  49.159047 -118.186462   \n",
       "2  a1a22d70485983eac12b5b88dad1cf95  1325376051  43.150704 -112.154481   \n",
       "3  6b849c168bdad6f867558c3793159a81  1325376076  47.034331 -112.561071   \n",
       "4  a41d7549acf90789359a9aa5346dcb46  1325376186  38.674999  -78.632459   \n",
       "\n",
       "   is_fraud  \n",
       "0         0  \n",
       "1         0  \n",
       "2         0  \n",
       "3         0  \n",
       "4         0  \n",
       "\n",
       "[5 rows x 23 columns]"
      ]
     },
     "execution_count": 7,
     "metadata": {},
     "output_type": "execute_result"
    }
   ],
   "source": [
    "# display the first five rows of data\n",
    "cc_transactions.head()"
   ]
  },
  {
   "cell_type": "markdown",
   "id": "b8f59d40-45af-4a79-b75c-1435f8f76803",
   "metadata": {},
   "source": [
    "__Observations:__\n",
    "\n",
    "__1. The \"Unnamed: 0\" variable just contains zero-based index numbers for each transaction.__\n",
    "\n",
    "Due to the concatenation of the original train and test sets, the combined dataset likely repeats index numbers in this column. This information holds no predictive value, so this feature will be dropped during feature selection.\n",
    "\n",
    "__2. The \"trans_date_trans_time\" variable holds details about several time units.__\n",
    "\n",
    "Feature engineering can derive different components from the timestamp values, such as the month, day of the week, or time of day, to investigate whether these temporal factors can help predict whether a transaction is fraudulent.\n",
    "\n",
    "__3. The \"cc_num\" and \"zip\" variables are categorical variables stored as numeric values.__\n",
    "\n",
    "They should be treated as categorical during exploratory data analysis and any data preprocessing tasks if they are used as predictive features.\n",
    "\n",
    "__4. The \"unix_time\" variable provides a second lens for viewing time-based data.__\n",
    "\n",
    "The inclusion of both the \"timestamp\" and \"unix_time\" variables allows for a comprehensive exploration of time-based data, but careful feature selection will be essential to retain only the most informative features and avoid unnecessary dimensionality in the model inputs.\n",
    "\n",
    "__5. The \"is_fraud\" variable is already in a binary numeric format.__\n",
    "\n",
    "This variable will not require any transformation to be in the desired format for model training."
   ]
  },
  {
   "cell_type": "markdown",
   "id": "15dccd29-ade3-4e16-b869-24b03cba040a",
   "metadata": {},
   "source": [
    "### Label Attribute"
   ]
  },
  {
   "cell_type": "markdown",
   "id": "1efbc615-9361-4923-8fb6-b0b1b56ce626",
   "metadata": {},
   "source": [
    "The goal is to identify fraudulent credit card transactions. Per a review of the feature descriptions, \"is_fraud\" is the label attribute, providing a binary classification indicating whether each transaction is fraudulent or legitimate.\n",
    "\n",
    "When evaluating the label attribute, it's crucial to assess whether the data is balanced. Class imbalance occurs when one class has a significantly higher number of observations than another. In scenarios like fraud detection, datasets frequently exhibit imbalance, with a much larger proportion of legitimate transactions compared to fraudulent ones. The impact of such imbalanced datasets in machine learning can be illustrated by the following example:\n",
    "\n",
    "If a dataset consists of 2% fraudulent transactions and 98% legitimate transactions, an algorithm that predicts every transaction as legitimate would achieve 98% accuracy, despite lacking any real capability to detect fraud.\n",
    "\n",
    "Examining the value counts for this attribute will help confirm whether the dataset is imbalanced."
   ]
  },
  {
   "cell_type": "code",
   "execution_count": 8,
   "id": "2b133074-84c5-49c2-9d04-c85e21195708",
   "metadata": {},
   "outputs": [],
   "source": [
    "# save value counts for the label attribute\n",
    "class_counts = cc_transactions['is_fraud'].value_counts()"
   ]
  },
  {
   "cell_type": "code",
   "execution_count": 9,
   "id": "f1f576c2-4291-4b44-afb7-3464f20db9e9",
   "metadata": {},
   "outputs": [],
   "source": [
    "# save value proportions for the label attribute\n",
    "class_props = round(cc_transactions['is_fraud'].value_counts(normalize=True), 4)"
   ]
  },
  {
   "cell_type": "code",
   "execution_count": 10,
   "id": "8eef1cd5-3173-4576-900b-e060625c3aee",
   "metadata": {},
   "outputs": [
    {
     "data": {
      "text/html": [
       "<div>\n",
       "<style scoped>\n",
       "    .dataframe tbody tr th:only-of-type {\n",
       "        vertical-align: middle;\n",
       "    }\n",
       "\n",
       "    .dataframe tbody tr th {\n",
       "        vertical-align: top;\n",
       "    }\n",
       "\n",
       "    .dataframe thead th {\n",
       "        text-align: right;\n",
       "    }\n",
       "</style>\n",
       "<table border=\"1\" class=\"dataframe\">\n",
       "  <thead>\n",
       "    <tr style=\"text-align: right;\">\n",
       "      <th></th>\n",
       "      <th>count</th>\n",
       "      <th>prop</th>\n",
       "    </tr>\n",
       "    <tr>\n",
       "      <th>is_fraud</th>\n",
       "      <th></th>\n",
       "      <th></th>\n",
       "    </tr>\n",
       "  </thead>\n",
       "  <tbody>\n",
       "    <tr>\n",
       "      <th>0</th>\n",
       "      <td>1842743</td>\n",
       "      <td>0.9948</td>\n",
       "    </tr>\n",
       "    <tr>\n",
       "      <th>1</th>\n",
       "      <td>9651</td>\n",
       "      <td>0.0052</td>\n",
       "    </tr>\n",
       "  </tbody>\n",
       "</table>\n",
       "</div>"
      ],
      "text/plain": [
       "            count    prop\n",
       "is_fraud                 \n",
       "0         1842743  0.9948\n",
       "1            9651  0.0052"
      ]
     },
     "execution_count": 10,
     "metadata": {},
     "output_type": "execute_result"
    }
   ],
   "source": [
    "# view summary of counts and proportions for the label attribute\n",
    "pd.DataFrame({'count': class_counts, 'prop': class_props})"
   ]
  },
  {
   "cell_type": "markdown",
   "id": "5a54b403-0160-4cb1-9b12-ae6ec7a76ef8",
   "metadata": {},
   "source": [
    "Notably, the Sparkov-generated dataset has a significant class imbalance, with 99.48% of the transactions representing legitimate purchases and only 0.52% of the transactiosn representing fraudulent transactions. As noted above, this is representative of what one would expect in the real world, where legitimate transactions are significantly more prevalent than fraudulent ones.\n",
    "\n",
    "Unfortunately, performing machine learning tasks with a large class imbalance can lead to a model that may have a high rate of overall accuracy without actually exhibiting any aptitude for identifying fraudulent transactions.\n",
    "\n",
    "Three common methods to combat class imbalance are:\n",
    "1. Undersampling: This technique involves randomly sampling roughly 'n' observations from the majority class to match the number of observations in the minority class.\n",
    "    * Pro: The machine learning model utilizes a balanced dataset for training, which helps reduce bias towards the majority class\n",
    "    * Con: The sampled majority class may not capture important information, potentially leading to a loss of valuable data\n",
    "2. Oversampling: This method involves sampling the minority class with replacement until it has roughly 'n' observations, matching the majority class count.\n",
    "    * Pro: It maintains most or all of the data from the majority class, effectively addressing the shortcomings of undersampling\n",
    "    * Con: This approach can create a dataset that does not accurately reflect the original sample or the real-life population, potentially leading to overfitting\n",
    "3. Synthetic Minority Over-Sampling Technique (SMOTE): This technique generates synthetic examples of the minority class by interpolating between existing minority instances and their nearest neighbors.\n",
    "    * Pro: This technique creates a more diverse set of synthetic examples, effectively smoothing the decision boundary and improving model performance\n",
    "    * Con: The interpolation may lead to the creation of synthetic samples that do not accurately represent the actual minority class, potentially introducing noise (Chawla et al., 2004)\n",
    "\n",
    "Exploratory data analysis (EDA) will be performed before selecting a method for correcting class imbalance. This approach ensures that the analysis is based on the original data and facilitates an assessment of the characteristics of the imbalance, which will guide the selection of the most appropriate correction method."
   ]
  },
  {
   "cell_type": "markdown",
   "id": "7f1fc46b-0f24-4545-97f6-0264711f561d",
   "metadata": {},
   "source": [
    "### Data Split"
   ]
  },
  {
   "cell_type": "markdown",
   "id": "1af30ba6-664d-4029-9f07-78c0b1519567",
   "metadata": {},
   "source": [
    "To enhance the model's ability to generalize to new data, it is essential to split the dataset into a training set and a test set. The training set consists of the instances used to train the model, while the test set is reserved for evaluating the model's performance on unseen data, specifically its ability to predict fraudulent transactions.\n",
    "\n",
    "To perform the data split, the label attribute is separated from the predictive features, designating the label attribute as 'X' and the predictive features as 'y.' The resulting label and feature datasets are then divided into training and test sets, allocating 80% for training and 20% for testing.\n",
    "\n",
    "Any class imbalance correction methods will be applied solely to the training set to ensure that the test set remains a more representative sample, allowing for an accurate assessment of the model's effectiveness."
   ]
  },
  {
   "cell_type": "code",
   "execution_count": 11,
   "id": "c1f57b1b-5ffd-4d93-90f5-401eb44e87f5",
   "metadata": {},
   "outputs": [],
   "source": [
    "# store predictive features\n",
    "X = cc_transactions.drop('is_fraud', axis=1)"
   ]
  },
  {
   "cell_type": "code",
   "execution_count": 12,
   "id": "45a1f8f1-976e-4b1d-b344-af5953d14309",
   "metadata": {},
   "outputs": [],
   "source": [
    "# store label attribute\n",
    "y = cc_transactions['is_fraud']"
   ]
  },
  {
   "cell_type": "code",
   "execution_count": 13,
   "id": "b1e133aa-1297-4b14-abde-5992df7d4957",
   "metadata": {},
   "outputs": [],
   "source": [
    "# split into training and test sets\n",
    "X_train, X_test, y_train, y_test = train_test_split(\n",
    "    X, \n",
    "    y, \n",
    "    # allocate 80% to training and 20% to testing\n",
    "    test_size=0.2,\n",
    "    # stratify to ensure proportionate amount of each class in both sets\n",
    "    stratify=y, \n",
    "    # set random_state for reproducibility\n",
    "    random_state=42\n",
    ")"
   ]
  },
  {
   "cell_type": "markdown",
   "id": "a549ac2e-5e3f-4abb-bf9d-460b42350185",
   "metadata": {},
   "source": [
    "## Data Overview & Preparation <a class='anchor' id='overview'></a>"
   ]
  },
  {
   "cell_type": "markdown",
   "id": "0427938a-6d34-429d-8db6-b6741704b8ea",
   "metadata": {},
   "source": [
    "[Click Here to Return to Top](#top)"
   ]
  },
  {
   "cell_type": "markdown",
   "id": "68f7cf8a-7e5b-4d50-9f5f-f49557a469a1",
   "metadata": {},
   "source": [
    "Before determining which features to include in the model, it is essential to conduct a thorough exploration of the data to identify the following:\n",
    "\n",
    "1. What types of data are present, and how does that influence the exploration and modeling approach?\n",
    "2. What features can be modified or added through feature engineering to enhance analysis?\n",
    "3. What insights can be derived from the statistical characteristics of the data?\n",
    "4. What insights can be gained through data visualization?\n",
    "\n",
    "Notably, anomalies or outliers will not be removed for this project, as fraudulent activity is often characterized by such irregularities.\n",
    "\n",
    "Finally, when the data is split, the predictive features are separated from the label attribute. For convenience and efficiency during data exploration, the training data is consolidated into a single data frame."
   ]
  },
  {
   "cell_type": "code",
   "execution_count": 14,
   "id": "8da3890f-8904-44da-8e41-a4b15839d2fc",
   "metadata": {},
   "outputs": [],
   "source": [
    "# combine training data\n",
    "cc_transactions_train = pd.concat((X_train, y_train), axis=1)"
   ]
  },
  {
   "cell_type": "markdown",
   "id": "1d0c0edb-cdde-436d-a1ac-92a22af6f263",
   "metadata": {},
   "source": [
    "### Studying Attributes"
   ]
  },
  {
   "cell_type": "markdown",
   "id": "8b800555-5078-4595-aabe-8620e307a93b",
   "metadata": {},
   "source": [
    "Understanding the types of data in the dataset is crucial for selecting the appropriate descriptive statistics and visualizations for further exploration.\n",
    "\n",
    "Below, two broad data categories are defined, and each attribute is classified into its corresponding data type:\n",
    "\n",
    "__1. Categorical data__ refers to non-numeric data that can be grouped based on some qualitative characteristic or trait. This includes the following features:\n",
    "* Unnamed: 0\n",
    "* cc_num\n",
    "* merchant\n",
    "* category\n",
    "* first\n",
    "* last\n",
    "* gender\n",
    "* street\n",
    "* city\n",
    "* state\n",
    "* zip\n",
    "* job\n",
    "* trans_num\n",
    "\n",
    "__2. Quantitative data__ refers to data that takes the form of numeric values, where the values hold meaning beyond their order or rank and are measurable. This includes the following features:\n",
    "* trans_date_trans_time\n",
    "* amt\n",
    "* lat\n",
    "* long\n",
    "* city_pop\n",
    "* dob\n",
    "* unix_time\n",
    "* merch_lat\n",
    "* merch_long"
   ]
  },
  {
   "cell_type": "markdown",
   "id": "988aa8d6-da33-442b-b20a-afb20318ee46",
   "metadata": {},
   "source": [
    "As noted above, the 'Unnamed: 0' variable contains indexing information that is irrelevant to the machine learning task. Given the likelihood of additional features being deemed unnecessary after each feature engineering step, an empty list is created to add features to. The entire list will be removed in one step before computing descriptive statistics and generating data visualizations."
   ]
  },
  {
   "cell_type": "code",
   "execution_count": 15,
   "id": "2ae0d4de-ed24-4fbc-8264-15adcc95ea7e",
   "metadata": {},
   "outputs": [],
   "source": [
    "# create empty list to collect the names of unnecessary columns\n",
    "drop_cols = []"
   ]
  },
  {
   "cell_type": "code",
   "execution_count": 16,
   "id": "362e0534-56c5-4472-bd7f-fc961004cbb5",
   "metadata": {},
   "outputs": [],
   "source": [
    "# add 'Unnamed: 0' to list of columns to drop\n",
    "drop_cols.append('Unnamed: 0')"
   ]
  },
  {
   "cell_type": "markdown",
   "id": "e20cc9bf-063c-44c1-88a1-28a2c0aec7ea",
   "metadata": {},
   "source": [
    "As noted previously, the 'cc_num' and 'zip' variables are categorical variables that are currently stored as numeric values. The following code converts them to the 'object' datatype, allowing them to be treated appropriately for various tasks such as data visualization and encoding."
   ]
  },
  {
   "cell_type": "code",
   "execution_count": 17,
   "id": "9df15131-cba1-4f96-8489-7050eaf2b3a1",
   "metadata": {},
   "outputs": [],
   "source": [
    "# define function to convert categorical variables stores as numeric values to 'object' datatype\n",
    "def convert_to_object(df, cat_cols_stored_as_num = ['cc_num', 'zip']):\n",
    "    # convert to 'object' datatype\n",
    "    df[cat_cols_stored_as_num] = df[cat_cols_stored_as_num].astype('object')\n",
    "    \n",
    "    # return modified DataFrame\n",
    "    return df"
   ]
  },
  {
   "cell_type": "code",
   "execution_count": 18,
   "id": "bc19373f-c1c1-4079-bdb2-1844cc0a2107",
   "metadata": {},
   "outputs": [],
   "source": [
    "# use convert_to_object on the training DataFrame\n",
    "cc_transactions_train = convert_to_object(cc_transactions_train)"
   ]
  },
  {
   "cell_type": "markdown",
   "id": "dd292993-c424-4d4b-8a37-9104d6bddf8e",
   "metadata": {},
   "source": [
    "### Transaction Indexing"
   ]
  },
  {
   "cell_type": "markdown",
   "id": "531ea03c-27d6-4d56-980b-f132d3c29340",
   "metadata": {},
   "source": [
    "Setting the transaction number as the index for the DataFrame serves several practical purposes. Firstly, it provides a unique identifier for each transaction, making it easy to reference and retrieve specific records throughout the analysis process. This approach enhances the clarity and organization of the dataset, allowing for straightforward tracking of transactions, particularly when evaluating model predictions. Additionally, maintaining the transaction number as the index facilitates efficient data manipulation and integration with model outputs, ensuring that predicted fraudulent transactions can be accurately associated with their respective identifiers."
   ]
  },
  {
   "cell_type": "code",
   "execution_count": 19,
   "id": "db73ef19-4c15-4aa6-b5dd-99cd884e0d76",
   "metadata": {},
   "outputs": [],
   "source": [
    "# define function to set transaction number as index\n",
    "def set_df_index(df, index='trans_num'):\n",
    "    # set index\n",
    "    df.set_index(index, inplace=True)\n",
    "    \n",
    "    # return modified DataFrame\n",
    "    return df"
   ]
  },
  {
   "cell_type": "code",
   "execution_count": 20,
   "id": "2ac43145-e70d-477b-ac34-df8731afd79e",
   "metadata": {},
   "outputs": [],
   "source": [
    "# use set_df_index on training DataFrame\n",
    "cc_transactions_train = set_df_index(cc_transactions_train)"
   ]
  },
  {
   "cell_type": "markdown",
   "id": "473f083c-b0f0-4139-b2e7-30a193771050",
   "metadata": {},
   "source": [
    "### Profile Integrity Assessment"
   ]
  },
  {
   "cell_type": "markdown",
   "id": "f8946ad6-8829-45fa-b328-e32df27934a3",
   "metadata": {},
   "source": [
    "Checking for inconsistent user profiles is essential to ensure data integrity and accuracy. Inconsistencies in the user information associated with a credit card number may indicate potential fraud or data entry errors. By identifying any profiles that have conflicting attributes, it is possible to address data quality issues before further analysis or modeling."
   ]
  },
  {
   "cell_type": "code",
   "execution_count": 21,
   "id": "a42bc565-888b-448a-964e-355b4d7ac3c8",
   "metadata": {},
   "outputs": [
    {
     "name": "stdout",
     "output_type": "stream",
     "text": [
      "Inconsistent profiles with cc_num:\n",
      "Empty DataFrame\n",
      "Columns: [first, last, street, city, state, zip]\n",
      "Index: []\n"
     ]
    }
   ],
   "source": [
    "# group users by credit card number and aggregate unique counts for profile data\n",
    "unique_users = cc_transactions_train.groupby('cc_num').agg({\n",
    "    'first': pd.Series.nunique,\n",
    "    'last': pd.Series.nunique,\n",
    "    'street': pd.Series.nunique,\n",
    "    'city': pd.Series.nunique,\n",
    "    'state': pd.Series.nunique,\n",
    "    'zip': pd.Series.nunique\n",
    "})\n",
    "\n",
    "# identify credit card numbers with inconsistent profiles\n",
    "inconsistent_profiles = unique_users[(unique_users['first'] > 1) | \n",
    "                                     (unique_users['last'] > 1) | \n",
    "                                     (unique_users['street'] > 1) | \n",
    "                                     (unique_users['city'] > 1) | \n",
    "                                     (unique_users['state'] > 1) | \n",
    "                                     (unique_users['zip'] > 1)]\n",
    "\n",
    "print(\"Inconsistent profiles with cc_num:\")\n",
    "print(inconsistent_profiles)"
   ]
  },
  {
   "cell_type": "markdown",
   "id": "3ee7789e-1c5b-4eaf-89b5-718d48fe85a3",
   "metadata": {},
   "source": [
    "The result 'Empty DataFrame' indicates that there are no inconsistencies found across the user profiles for each credit card number. This suggests that there are no anomalies in the data regarding the specified fields.\n",
    "\n",
    "Dropping the first name, last name, and street address features is justified, as they do not provide unique information beyond what is available from the credit card number. These features may introduce redundancy in the dataset. These features are dropped in the code below.\n",
    "\n",
    "Furthermore, the 'cc_num' column will be dropped for two key reasons:\n",
    "1. While individual card numbers may have some associated risk, they are unique identifiers that typically do not contribute meaningful patterns for generalization in a machine learning model.\n",
    "2. Including sensitive information like credit card numbers raises significant privacy concerns, and the modeling process should prioritize the protection of this type of data.\n",
    "\n",
    "However, retaining the city, state, and zip code is worthwhile, as they may still hold predictive value related to geographic patterns in fraudulent activity. This approach helps streamline the analysis while preserving potentially informative features."
   ]
  },
  {
   "cell_type": "code",
   "execution_count": 22,
   "id": "7fc3f7fc-87c8-4130-9166-e58c650e6ed4",
   "metadata": {},
   "outputs": [],
   "source": [
    "# add redundant variables to drop list\n",
    "for column in ['first', 'last', 'street', 'cc_num']:\n",
    "    drop_cols.append(column)"
   ]
  },
  {
   "cell_type": "markdown",
   "id": "4c64cb24-1e3b-4857-b1e9-af03d22edd7e",
   "metadata": {},
   "source": [
    "### Exploratory Feature Engineering"
   ]
  },
  {
   "cell_type": "markdown",
   "id": "cbfe763f-60b6-40a5-a81a-93c42a9af520",
   "metadata": {},
   "source": [
    "Feature engineering is the process of creating new features or modifying existing ones to enhance the predictive power of a model. This technique involves transforming raw data into formats that are more suitable for analysis, ultimately aiming to improve the model's accuracy and effectiveness. In this section, feature engineering is applied to the special cc_transactions_train DataFrame used for exploratory analysis, allowing for deeper insights into the data. \n",
    "\n",
    "It is important to note that these changes will not affect the actual training and test datasets, which will remain unchanged. Any necessary data manipulation required for modeling will take place in the data preprocessing section, ensuring that the integrity of the original datasets is preserved throughout the analysis process."
   ]
  },
  {
   "cell_type": "markdown",
   "id": "da0c324e-6b4d-40e8-8560-c095b4767d7f",
   "metadata": {},
   "source": [
    "#### Date & Time Components"
   ]
  },
  {
   "cell_type": "markdown",
   "id": "00bbb5e0-62a9-4ca4-b5ba-ff1dd28b797c",
   "metadata": {},
   "source": [
    "The 'trans_date_trans_time' variable contains a timestamp, which can be examined at various levels of granularity. Time is typically considered a continuous quantitative variable, but analyzing it across different granularities may reveal patterns, such as an increase in fraudulent activity at specific times of day or on certain days of the week.\n",
    "\n",
    "Currently, the 'trans_date_trans_time' is stored as text. Before conducting further exploratory data analysis, this variable will be converted to a Pandas datetime object to allow for more flexibility in time-related analysis. Then, components of the timestamp, such as year, month, day of the week, and time of day, will be extracted. These components will be treated as categorical variables, similar to the qualitative data. \n",
    "\n",
    "After extracting these components, the original 'trans_date_trans_time' and 'unix_time' variables can be removed to reduce dimensionality due to their redundant nature."
   ]
  },
  {
   "cell_type": "code",
   "execution_count": 23,
   "id": "e9754075-8e5a-43be-82f2-ba4048d0944b",
   "metadata": {},
   "outputs": [],
   "source": [
    "# define function for engineering date and time components\n",
    "def feat_engineer_datetime(df, timestamp='trans_date_trans_time'):\n",
    "    # convert 'trans_date_trans_time' to datetime format\n",
    "    df[timestamp] = pd.to_datetime(df[timestamp])\n",
    "    \n",
    "    # extract timestamp components\n",
    "    df['year'] = df[timestamp].dt.year.astype('object')\n",
    "    df['month'] = df[timestamp].dt.month.astype('object')\n",
    "    df['day_of_week'] = df[timestamp].dt.dayofweek.astype('object')\n",
    "    \n",
    "    # add time of day categories\n",
    "    df['time_of_day'] = pd.cut(df[timestamp].dt.hour,\n",
    "                                 bins=[0, 6, 12, 18, 24],\n",
    "                                 labels=['night', 'morning', 'afternoon', 'evening'],\n",
    "                                 right=False,\n",
    "                                 include_lowest=True)\n",
    "    \n",
    "    # return modified DataFrame\n",
    "    return df"
   ]
  },
  {
   "cell_type": "code",
   "execution_count": 24,
   "id": "dcd22ef4-2ac6-45da-930d-8112d732cbca",
   "metadata": {},
   "outputs": [],
   "source": [
    "# use feat_engineer_datetime on training DataFrame\n",
    "cc_transactions_train = feat_engineer_datetime(cc_transactions_train)"
   ]
  },
  {
   "cell_type": "code",
   "execution_count": 25,
   "id": "6e470240-9fbb-4ebe-ae6e-e2a0b24f59c7",
   "metadata": {},
   "outputs": [],
   "source": [
    "# add 'trans_date_trans_time' and 'unix_time' to drop list due to redundancy\n",
    "for column in ['trans_date_trans_time', 'unix_time']:\n",
    "    drop_cols.append(column)"
   ]
  },
  {
   "cell_type": "markdown",
   "id": "a7c2677a-bd35-4491-a383-8afb2830b9f4",
   "metadata": {},
   "source": [
    "#### Age"
   ]
  },
  {
   "cell_type": "markdown",
   "id": "625f19ce-4589-4c09-8a44-b1b6272fd5d2",
   "metadata": {},
   "source": [
    "The 'dob' variable can be made more useful for analysis by engineering an 'age' feature. Based on the information from the Kaggle dataset page, the last update occurred on August 5th, 2020, which will be used as the reference date for calculating age in years. Once age extracted from the 'dob' variable, the 'dob' variable is redundant and removing it will reduce dataset dimensionality.\n",
    "\n",
    "*Note: The reference date is hardcoded for the purposes of this project. If this was extrapolated to new data beyond this project, this date would need to be replaced with a more flexible reference to the current day.*"
   ]
  },
  {
   "cell_type": "code",
   "execution_count": 26,
   "id": "a84ec798-b04e-4834-b661-acbcdd2e3bac",
   "metadata": {},
   "outputs": [],
   "source": [
    "# define function for engineering age\n",
    "def feat_engineer_age(df, dob='dob', ref_date = pd.to_datetime('2020-08-05')):\n",
    "    # convert 'dob' to datetime format\n",
    "    df[dob] = pd.to_datetime(df[dob])\n",
    "    \n",
    "    # compute age by subtracting dob from the reference date, and dividing by days in a year (365.25 accounts for leap years)\n",
    "    df['age'] = round((ref_date - df[dob]).dt.days / 365.25, 0).astype(int)\n",
    "\n",
    "    # return modified DataFrame\n",
    "    return df"
   ]
  },
  {
   "cell_type": "code",
   "execution_count": 27,
   "id": "fe670c45-bec4-46b5-8852-7fdcd263ad38",
   "metadata": {},
   "outputs": [],
   "source": [
    "# use feat_engineer_age on training DataFrame\n",
    "cc_transactions_train = feat_engineer_age(cc_transactions_train)"
   ]
  },
  {
   "cell_type": "code",
   "execution_count": 28,
   "id": "f90112a6-52a0-4fd6-b664-81ab912297c3",
   "metadata": {},
   "outputs": [],
   "source": [
    "# add 'dob' to drop list due to redundancy\n",
    "drop_cols.append('dob')"
   ]
  },
  {
   "cell_type": "markdown",
   "id": "3aeb8175-f5ff-4c9e-af17-17011ad4cfea",
   "metadata": {},
   "source": [
    "#### Distance"
   ]
  },
  {
   "cell_type": "markdown",
   "id": "53fa65d2-932f-4d60-bb2f-f286c7366728",
   "metadata": {},
   "source": [
    "The latitude and longitude values can be used to compute the distance between the credit card user and merchant, which may provide useful insights into potential fraudulent behavior. \n",
    "\n",
    "One common method for calculating this distance is the haversine formula, which computes the shortest distance between two points on a sphere (the Earth) by considering their latitudes and longitudes. This distance is often referred to as the great-circle distance.\n",
    "\n",
    "The haversine formula is based on the spherical geometry of the Earth and provides an accurate estimation of the distance, typically in kilometers or miles, between two locations (Robusto, 1957)."
   ]
  },
  {
   "cell_type": "code",
   "execution_count": 29,
   "id": "bf45d909-efc6-43b8-828d-25eefd1d6477",
   "metadata": {},
   "outputs": [],
   "source": [
    "# define function for engineering distance\n",
    "def feat_engineer_distance(df, user_lat_col='lat', user_lon_col='long', merch_lat_col='merch_lat', merch_lon_col='merch_long'):\n",
    "    # define Haversine function to compute distance between two points on the globe (in miles)\n",
    "    # Haversine reference: ChatGPT, which listed NumPy documentation as its reference\n",
    "    def haversine(lat1, lon1, lat2, lon2):\n",
    "\n",
    "        # save earth radius in miles\n",
    "        R = 3959.0  \n",
    "    \n",
    "        # convert degrees to radians\n",
    "        lat1, lon1, lat2, lon2 = map(np.radians, [lat1, lon1, lat2, lon2])\n",
    "    \n",
    "        # Haversine formula\n",
    "        dlat = lat2 - lat1\n",
    "        dlon = lon2 - lon1\n",
    "\n",
    "        a = np.sin(dlat / 2)**2 + np.cos(lat1) * np.cos(lat2) * np.sin(dlon / 2)**2\n",
    "        c = 2 * np.arctan2(np.sqrt(a), np.sqrt(1 - a))\n",
    "\n",
    "        distance = R * c\n",
    "\n",
    "        # return distance value\n",
    "        return distance\n",
    "\n",
    "    # compute distance and add it to the DataFrame\n",
    "    df['distance'] = round(haversine(df[user_lat_col], \n",
    "                                      df[user_lon_col], \n",
    "                                      df[merch_lat_col], \n",
    "                                      df[merch_lon_col]), 0).astype(int)\n",
    "\n",
    "    # return modified DataFrame\n",
    "    return df"
   ]
  },
  {
   "cell_type": "code",
   "execution_count": 30,
   "id": "6ab3295e-d4a5-4417-8ff1-e95c0e3c9c66",
   "metadata": {},
   "outputs": [],
   "source": [
    "# use feat_engineer_distance on training DataFrame\n",
    "cc_transactions_train = feat_engineer_distance(cc_transactions_train)"
   ]
  },
  {
   "cell_type": "markdown",
   "id": "5a2fea25-4156-49a6-894f-ecda2a3d428d",
   "metadata": {},
   "source": [
    "### Column Removal"
   ]
  },
  {
   "cell_type": "code",
   "execution_count": 31,
   "id": "3b01fa13-757c-4336-89b5-ad0d593d03e6",
   "metadata": {},
   "outputs": [],
   "source": [
    "# define function to drop columns deemed unnecessary\n",
    "def prelim_drop_cols(df):\n",
    "    df.drop(drop_cols, axis=1, inplace=True)\n",
    "\n",
    "    # return modified DataFrame\n",
    "    return df"
   ]
  },
  {
   "cell_type": "code",
   "execution_count": 32,
   "id": "5bf33a3e-ed6c-43cf-b037-20b51c112971",
   "metadata": {},
   "outputs": [],
   "source": [
    "# use prelim_drop_cols on training DataFrame\n",
    "cc_transactions_train = prelim_drop_cols(cc_transactions_train)"
   ]
  },
  {
   "cell_type": "markdown",
   "id": "06b053f1-95e3-42e0-a1fa-7b651e65a104",
   "metadata": {},
   "source": [
    "## Exploratory Data Analysis <a class='anchor' id='explore'></a>"
   ]
  },
  {
   "cell_type": "markdown",
   "id": "1aeb6a55-e488-4e03-9545-8f3c74186228",
   "metadata": {},
   "source": [
    "[Click Here to Return to Top](#top)"
   ]
  },
  {
   "cell_type": "markdown",
   "id": "76b6116c-7589-4b0d-b74c-d5b081a93b28",
   "metadata": {},
   "source": [
    "### Descriptive Statistics"
   ]
  },
  {
   "cell_type": "markdown",
   "id": "92485239-906e-4ea9-b9aa-2be910cf1735",
   "metadata": {},
   "source": [
    "#### Categorical Features"
   ]
  },
  {
   "cell_type": "markdown",
   "id": "76b9d1c5-1877-42a9-bb05-3d57e7f45bf7",
   "metadata": {},
   "source": [
    "Keeping the changes to the training dataset features in mind, the following code creates a list of categorical features to be used in an iterative loop computing the number of distinct classes for each categorical feature.\n",
    "\n",
    "Calculating the number of distinct values for categorical features is a crucial step in exploratory data analysis, providing insights into the dataset's structure and the variety of values present. This process helps identify anomalies and unexpected categories, facilitating data cleaning and preparation. Understanding the distinct values also informs feature selection and modeling decisions, ensuring a comprehensive analysis."
   ]
  },
  {
   "cell_type": "code",
   "execution_count": 33,
   "id": "ee8fadb9-0347-4ae8-b307-cb8a0e3c56a2",
   "metadata": {},
   "outputs": [],
   "source": [
    "# create list of categorical features\n",
    "cat_feat_train = ['merchant', 'category', 'gender', 'city', 'state', 'zip', 'job', 'year', 'month', 'day_of_week', 'time_of_day']"
   ]
  },
  {
   "cell_type": "code",
   "execution_count": 34,
   "id": "e21ec5c7-69c0-4a7a-b083-0d57d27cee5f",
   "metadata": {},
   "outputs": [],
   "source": [
    "# define function to count the number of distinct values for each categorical variable\n",
    "def get_distinct_count(df, feature):\n",
    "    return df[feature].nunique()"
   ]
  },
  {
   "cell_type": "code",
   "execution_count": 35,
   "id": "531ce74f-b948-4acb-bc21-4390f71cf05f",
   "metadata": {},
   "outputs": [
    {
     "data": {
      "text/html": [
       "<div>\n",
       "<style scoped>\n",
       "    .dataframe tbody tr th:only-of-type {\n",
       "        vertical-align: middle;\n",
       "    }\n",
       "\n",
       "    .dataframe tbody tr th {\n",
       "        vertical-align: top;\n",
       "    }\n",
       "\n",
       "    .dataframe thead th {\n",
       "        text-align: right;\n",
       "    }\n",
       "</style>\n",
       "<table border=\"1\" class=\"dataframe\">\n",
       "  <thead>\n",
       "    <tr style=\"text-align: right;\">\n",
       "      <th></th>\n",
       "      <th>Variable</th>\n",
       "      <th>Distinct Count</th>\n",
       "    </tr>\n",
       "  </thead>\n",
       "  <tbody>\n",
       "    <tr>\n",
       "      <th>5</th>\n",
       "      <td>zip</td>\n",
       "      <td>985</td>\n",
       "    </tr>\n",
       "    <tr>\n",
       "      <th>3</th>\n",
       "      <td>city</td>\n",
       "      <td>906</td>\n",
       "    </tr>\n",
       "    <tr>\n",
       "      <th>0</th>\n",
       "      <td>merchant</td>\n",
       "      <td>693</td>\n",
       "    </tr>\n",
       "    <tr>\n",
       "      <th>6</th>\n",
       "      <td>job</td>\n",
       "      <td>497</td>\n",
       "    </tr>\n",
       "    <tr>\n",
       "      <th>4</th>\n",
       "      <td>state</td>\n",
       "      <td>51</td>\n",
       "    </tr>\n",
       "    <tr>\n",
       "      <th>1</th>\n",
       "      <td>category</td>\n",
       "      <td>14</td>\n",
       "    </tr>\n",
       "    <tr>\n",
       "      <th>8</th>\n",
       "      <td>month</td>\n",
       "      <td>12</td>\n",
       "    </tr>\n",
       "    <tr>\n",
       "      <th>9</th>\n",
       "      <td>day_of_week</td>\n",
       "      <td>7</td>\n",
       "    </tr>\n",
       "    <tr>\n",
       "      <th>10</th>\n",
       "      <td>time_of_day</td>\n",
       "      <td>4</td>\n",
       "    </tr>\n",
       "    <tr>\n",
       "      <th>2</th>\n",
       "      <td>gender</td>\n",
       "      <td>2</td>\n",
       "    </tr>\n",
       "    <tr>\n",
       "      <th>7</th>\n",
       "      <td>year</td>\n",
       "      <td>2</td>\n",
       "    </tr>\n",
       "  </tbody>\n",
       "</table>\n",
       "</div>"
      ],
      "text/plain": [
       "       Variable  Distinct Count\n",
       "5           zip             985\n",
       "3          city             906\n",
       "0      merchant             693\n",
       "6           job             497\n",
       "4         state              51\n",
       "1      category              14\n",
       "8         month              12\n",
       "9   day_of_week               7\n",
       "10  time_of_day               4\n",
       "2        gender               2\n",
       "7          year               2"
      ]
     },
     "execution_count": 35,
     "metadata": {},
     "output_type": "execute_result"
    }
   ],
   "source": [
    "# summarize distinct counts for each categorical variable\n",
    "## initialize an empty list to hold results\n",
    "results = []\n",
    "\n",
    "# loop through categorical variables, adding the distinct count to the results list\n",
    "for feature in cat_feat_train:\n",
    "    count = get_distinct_count(cc_transactions_train, feature)\n",
    "    results.append((feature, count))\n",
    "\n",
    "# create a DataFrame from the results list\n",
    "distinct_count_df = pd.DataFrame(results, columns=['Variable', 'Distinct Count'])\n",
    "\n",
    "# display the resulting DataFrame, sorting in descending order by distinct count\n",
    "distinct_count_df.sort_values('Distinct Count', ascending=False)"
   ]
  },
  {
   "cell_type": "markdown",
   "id": "cfeb2e2d-3cb2-4d1e-9c79-3a356b0bc857",
   "metadata": {},
   "source": [
    "<a class='anchor' id='main_b'></a>\n",
    "Cross tabulations are a valuable tool for identifying patterns and trends between categorical variables and the target label, such as detecting correlations between customer attributes and fraudulent transactions. By comparing the counts of categories within a variable against the occurrence of fraud, cross tabulations allow for an easy visualization of these relationships. \n",
    "\n",
    "However, for variables with a large number of categories—such as the 985 zip codes or 693 merchants in this dataset—these tables can become difficult to interpret and may obscure patterns or anomalies. Therefore, to maintain clarity, cross tabulations will be used primarily for variables with 15 or fewer categories.\n",
    "\n",
    "In addition to the counts of fraudulent and non-fraudulent transactions, two additional columns are included to further enhance the analysis:\n",
    "1. Fraud %: This column indicates the percentage of transactions in each category that were fraudulent. It helps to quickly assess which categories have higher fraud rates relative to others.\n",
    "2. Relative Risk (RR): Relative risk measures how much more likely fraud is in a given category compared to the overall fraud rate in the dataset (referred to as the global fraud rate). A relative risk greater than 1 suggests that the category is more likely to be associated with fraud compared to the average.\n",
    "\n",
    "To further enhance clarity, cross tabulations have been filtered to only show categories with a relative risk greater than 1, indicating a higher likelihood of fraud. The full cross tabulations can be viewed in [Appendix B](#appendix_b)."
   ]
  },
  {
   "cell_type": "code",
   "execution_count": 36,
   "id": "efd5f041-ef45-4f9e-abfc-aca912a83360",
   "metadata": {},
   "outputs": [],
   "source": [
    "# create list of categorical features with less than 15 distinct categories\n",
    "cat_less_than_15 = (\n",
    "    distinct_count_df\n",
    "    .loc[distinct_count_df['Distinct Count'] < 15]\n",
    "    .sort_values('Distinct Count', ascending=False)['Variable']\n",
    "    .tolist()\n",
    ")"
   ]
  },
  {
   "cell_type": "code",
   "execution_count": 37,
   "id": "86db089d-36cd-41da-a432-2feb1596c95c",
   "metadata": {},
   "outputs": [],
   "source": [
    "# define function for creating cross tabulations of categorical variables vs. 'is_fraud'\n",
    "def create_crosstab(df, feature, label):\n",
    "    # create crosstab with counts\n",
    "    crosstab = pd.crosstab(df[feature], df[label])\n",
    "    # add column for the percentage of fraudulent transactions\n",
    "    crosstab['Fraud %'] = crosstab[1] / crosstab.sum(axis=1) * 100\n",
    "    # calculate global fraud rate\n",
    "    global_fraud_rate = df['is_fraud'].mean()\n",
    "    # add relative risk column (comparison to global fraud rate)\n",
    "    crosstab['Relative Risk'] = (crosstab['Fraud %'] / global_fraud_rate) / 100\n",
    "    # return crosstab\n",
    "    return crosstab"
   ]
  },
  {
   "cell_type": "code",
   "execution_count": 38,
   "id": "ade8cb66-28bd-4541-a359-678720ee3a26",
   "metadata": {},
   "outputs": [
    {
     "data": {
      "text/html": [
       "<div>\n",
       "<style scoped>\n",
       "    .dataframe tbody tr th:only-of-type {\n",
       "        vertical-align: middle;\n",
       "    }\n",
       "\n",
       "    .dataframe tbody tr th {\n",
       "        vertical-align: top;\n",
       "    }\n",
       "\n",
       "    .dataframe thead th {\n",
       "        text-align: right;\n",
       "    }\n",
       "</style>\n",
       "<table border=\"1\" class=\"dataframe\">\n",
       "  <thead>\n",
       "    <tr style=\"text-align: right;\">\n",
       "      <th>is_fraud</th>\n",
       "      <th>0</th>\n",
       "      <th>1</th>\n",
       "      <th>Fraud %</th>\n",
       "      <th>Relative Risk</th>\n",
       "    </tr>\n",
       "    <tr>\n",
       "      <th>category</th>\n",
       "      <th></th>\n",
       "      <th></th>\n",
       "      <th></th>\n",
       "      <th></th>\n",
       "    </tr>\n",
       "  </thead>\n",
       "  <tbody>\n",
       "    <tr>\n",
       "      <th>grocery_pos</th>\n",
       "      <td>139253</td>\n",
       "      <td>1759</td>\n",
       "      <td>1.247412</td>\n",
       "      <td>2.394195</td>\n",
       "    </tr>\n",
       "    <tr>\n",
       "      <th>misc_net</th>\n",
       "      <td>71372</td>\n",
       "      <td>969</td>\n",
       "      <td>1.339489</td>\n",
       "      <td>2.570923</td>\n",
       "    </tr>\n",
       "    <tr>\n",
       "      <th>shopping_net</th>\n",
       "      <td>109675</td>\n",
       "      <td>1758</td>\n",
       "      <td>1.577630</td>\n",
       "      <td>3.027992</td>\n",
       "    </tr>\n",
       "    <tr>\n",
       "      <th>shopping_pos</th>\n",
       "      <td>132145</td>\n",
       "      <td>836</td>\n",
       "      <td>0.628661</td>\n",
       "      <td>1.206609</td>\n",
       "    </tr>\n",
       "  </tbody>\n",
       "</table>\n",
       "</div>"
      ],
      "text/plain": [
       "is_fraud           0     1   Fraud %  Relative Risk\n",
       "category                                           \n",
       "grocery_pos   139253  1759  1.247412       2.394195\n",
       "misc_net       71372   969  1.339489       2.570923\n",
       "shopping_net  109675  1758  1.577630       3.027992\n",
       "shopping_pos  132145   836  0.628661       1.206609"
      ]
     },
     "metadata": {},
     "output_type": "display_data"
    },
    {
     "name": "stdout",
     "output_type": "stream",
     "text": [
      "\n"
     ]
    },
    {
     "data": {
      "text/html": [
       "<div>\n",
       "<style scoped>\n",
       "    .dataframe tbody tr th:only-of-type {\n",
       "        vertical-align: middle;\n",
       "    }\n",
       "\n",
       "    .dataframe tbody tr th {\n",
       "        vertical-align: top;\n",
       "    }\n",
       "\n",
       "    .dataframe thead th {\n",
       "        text-align: right;\n",
       "    }\n",
       "</style>\n",
       "<table border=\"1\" class=\"dataframe\">\n",
       "  <thead>\n",
       "    <tr style=\"text-align: right;\">\n",
       "      <th>is_fraud</th>\n",
       "      <th>0</th>\n",
       "      <th>1</th>\n",
       "      <th>Fraud %</th>\n",
       "      <th>Relative Risk</th>\n",
       "    </tr>\n",
       "    <tr>\n",
       "      <th>month</th>\n",
       "      <th></th>\n",
       "      <th></th>\n",
       "      <th></th>\n",
       "      <th></th>\n",
       "    </tr>\n",
       "  </thead>\n",
       "  <tbody>\n",
       "    <tr>\n",
       "      <th>1</th>\n",
       "      <td>83070</td>\n",
       "      <td>676</td>\n",
       "      <td>0.807203</td>\n",
       "      <td>1.549289</td>\n",
       "    </tr>\n",
       "    <tr>\n",
       "      <th>2</th>\n",
       "      <td>77330</td>\n",
       "      <td>666</td>\n",
       "      <td>0.853890</td>\n",
       "      <td>1.638897</td>\n",
       "    </tr>\n",
       "    <tr>\n",
       "      <th>3</th>\n",
       "      <td>113995</td>\n",
       "      <td>742</td>\n",
       "      <td>0.646696</td>\n",
       "      <td>1.241224</td>\n",
       "    </tr>\n",
       "    <tr>\n",
       "      <th>5</th>\n",
       "      <td>116692</td>\n",
       "      <td>762</td>\n",
       "      <td>0.648765</td>\n",
       "      <td>1.245194</td>\n",
       "    </tr>\n",
       "    <tr>\n",
       "      <th>9</th>\n",
       "      <td>111696</td>\n",
       "      <td>605</td>\n",
       "      <td>0.538731</td>\n",
       "      <td>1.034002</td>\n",
       "    </tr>\n",
       "    <tr>\n",
       "      <th>10</th>\n",
       "      <td>109736</td>\n",
       "      <td>684</td>\n",
       "      <td>0.619453</td>\n",
       "      <td>1.188935</td>\n",
       "    </tr>\n",
       "  </tbody>\n",
       "</table>\n",
       "</div>"
      ],
      "text/plain": [
       "is_fraud       0    1   Fraud %  Relative Risk\n",
       "month                                         \n",
       "1          83070  676  0.807203       1.549289\n",
       "2          77330  666  0.853890       1.638897\n",
       "3         113995  742  0.646696       1.241224\n",
       "5         116692  762  0.648765       1.245194\n",
       "9         111696  605  0.538731       1.034002\n",
       "10        109736  684  0.619453       1.188935"
      ]
     },
     "metadata": {},
     "output_type": "display_data"
    },
    {
     "name": "stdout",
     "output_type": "stream",
     "text": [
      "\n"
     ]
    },
    {
     "data": {
      "text/html": [
       "<div>\n",
       "<style scoped>\n",
       "    .dataframe tbody tr th:only-of-type {\n",
       "        vertical-align: middle;\n",
       "    }\n",
       "\n",
       "    .dataframe tbody tr th {\n",
       "        vertical-align: top;\n",
       "    }\n",
       "\n",
       "    .dataframe thead th {\n",
       "        text-align: right;\n",
       "    }\n",
       "</style>\n",
       "<table border=\"1\" class=\"dataframe\">\n",
       "  <thead>\n",
       "    <tr style=\"text-align: right;\">\n",
       "      <th>is_fraud</th>\n",
       "      <th>0</th>\n",
       "      <th>1</th>\n",
       "      <th>Fraud %</th>\n",
       "      <th>Relative Risk</th>\n",
       "    </tr>\n",
       "    <tr>\n",
       "      <th>day_of_week</th>\n",
       "      <th></th>\n",
       "      <th></th>\n",
       "      <th></th>\n",
       "      <th></th>\n",
       "    </tr>\n",
       "  </thead>\n",
       "  <tbody>\n",
       "    <tr>\n",
       "      <th>2</th>\n",
       "      <td>146146</td>\n",
       "      <td>897</td>\n",
       "      <td>0.610026</td>\n",
       "      <td>1.170841</td>\n",
       "    </tr>\n",
       "    <tr>\n",
       "      <th>3</th>\n",
       "      <td>164269</td>\n",
       "      <td>1059</td>\n",
       "      <td>0.640545</td>\n",
       "      <td>1.229417</td>\n",
       "    </tr>\n",
       "    <tr>\n",
       "      <th>4</th>\n",
       "      <td>170942</td>\n",
       "      <td>1096</td>\n",
       "      <td>0.637069</td>\n",
       "      <td>1.222745</td>\n",
       "    </tr>\n",
       "    <tr>\n",
       "      <th>5</th>\n",
       "      <td>209691</td>\n",
       "      <td>1193</td>\n",
       "      <td>0.565714</td>\n",
       "      <td>1.085792</td>\n",
       "    </tr>\n",
       "  </tbody>\n",
       "</table>\n",
       "</div>"
      ],
      "text/plain": [
       "is_fraud          0     1   Fraud %  Relative Risk\n",
       "day_of_week                                       \n",
       "2            146146   897  0.610026       1.170841\n",
       "3            164269  1059  0.640545       1.229417\n",
       "4            170942  1096  0.637069       1.222745\n",
       "5            209691  1193  0.565714       1.085792"
      ]
     },
     "metadata": {},
     "output_type": "display_data"
    },
    {
     "name": "stdout",
     "output_type": "stream",
     "text": [
      "\n"
     ]
    },
    {
     "data": {
      "text/html": [
       "<div>\n",
       "<style scoped>\n",
       "    .dataframe tbody tr th:only-of-type {\n",
       "        vertical-align: middle;\n",
       "    }\n",
       "\n",
       "    .dataframe tbody tr th {\n",
       "        vertical-align: top;\n",
       "    }\n",
       "\n",
       "    .dataframe thead th {\n",
       "        text-align: right;\n",
       "    }\n",
       "</style>\n",
       "<table border=\"1\" class=\"dataframe\">\n",
       "  <thead>\n",
       "    <tr style=\"text-align: right;\">\n",
       "      <th>is_fraud</th>\n",
       "      <th>0</th>\n",
       "      <th>1</th>\n",
       "      <th>Fraud %</th>\n",
       "      <th>Relative Risk</th>\n",
       "    </tr>\n",
       "    <tr>\n",
       "      <th>time_of_day</th>\n",
       "      <th></th>\n",
       "      <th></th>\n",
       "      <th></th>\n",
       "      <th></th>\n",
       "    </tr>\n",
       "  </thead>\n",
       "  <tbody>\n",
       "    <tr>\n",
       "      <th>night</th>\n",
       "      <td>288067</td>\n",
       "      <td>2730</td>\n",
       "      <td>0.938799</td>\n",
       "      <td>1.801866</td>\n",
       "    </tr>\n",
       "    <tr>\n",
       "      <th>evening</th>\n",
       "      <td>448266</td>\n",
       "      <td>4249</td>\n",
       "      <td>0.938974</td>\n",
       "      <td>1.802202</td>\n",
       "    </tr>\n",
       "  </tbody>\n",
       "</table>\n",
       "</div>"
      ],
      "text/plain": [
       "is_fraud          0     1   Fraud %  Relative Risk\n",
       "time_of_day                                       \n",
       "night        288067  2730  0.938799       1.801866\n",
       "evening      448266  4249  0.938974       1.802202"
      ]
     },
     "metadata": {},
     "output_type": "display_data"
    },
    {
     "name": "stdout",
     "output_type": "stream",
     "text": [
      "\n"
     ]
    },
    {
     "data": {
      "text/html": [
       "<div>\n",
       "<style scoped>\n",
       "    .dataframe tbody tr th:only-of-type {\n",
       "        vertical-align: middle;\n",
       "    }\n",
       "\n",
       "    .dataframe tbody tr th {\n",
       "        vertical-align: top;\n",
       "    }\n",
       "\n",
       "    .dataframe thead th {\n",
       "        text-align: right;\n",
       "    }\n",
       "</style>\n",
       "<table border=\"1\" class=\"dataframe\">\n",
       "  <thead>\n",
       "    <tr style=\"text-align: right;\">\n",
       "      <th>is_fraud</th>\n",
       "      <th>0</th>\n",
       "      <th>1</th>\n",
       "      <th>Fraud %</th>\n",
       "      <th>Relative Risk</th>\n",
       "    </tr>\n",
       "    <tr>\n",
       "      <th>gender</th>\n",
       "      <th></th>\n",
       "      <th></th>\n",
       "      <th></th>\n",
       "      <th></th>\n",
       "    </tr>\n",
       "  </thead>\n",
       "  <tbody>\n",
       "    <tr>\n",
       "      <th>M</th>\n",
       "      <td>666872</td>\n",
       "      <td>3787</td>\n",
       "      <td>0.564668</td>\n",
       "      <td>1.083785</td>\n",
       "    </tr>\n",
       "  </tbody>\n",
       "</table>\n",
       "</div>"
      ],
      "text/plain": [
       "is_fraud       0     1   Fraud %  Relative Risk\n",
       "gender                                         \n",
       "M         666872  3787  0.564668       1.083785"
      ]
     },
     "metadata": {},
     "output_type": "display_data"
    },
    {
     "name": "stdout",
     "output_type": "stream",
     "text": [
      "\n"
     ]
    },
    {
     "data": {
      "text/html": [
       "<div>\n",
       "<style scoped>\n",
       "    .dataframe tbody tr th:only-of-type {\n",
       "        vertical-align: middle;\n",
       "    }\n",
       "\n",
       "    .dataframe tbody tr th {\n",
       "        vertical-align: top;\n",
       "    }\n",
       "\n",
       "    .dataframe thead th {\n",
       "        text-align: right;\n",
       "    }\n",
       "</style>\n",
       "<table border=\"1\" class=\"dataframe\">\n",
       "  <thead>\n",
       "    <tr style=\"text-align: right;\">\n",
       "      <th>is_fraud</th>\n",
       "      <th>0</th>\n",
       "      <th>1</th>\n",
       "      <th>Fraud %</th>\n",
       "      <th>Relative Risk</th>\n",
       "    </tr>\n",
       "    <tr>\n",
       "      <th>year</th>\n",
       "      <th></th>\n",
       "      <th></th>\n",
       "      <th></th>\n",
       "      <th></th>\n",
       "    </tr>\n",
       "  </thead>\n",
       "  <tbody>\n",
       "    <tr>\n",
       "      <th>2019</th>\n",
       "      <td>735730</td>\n",
       "      <td>4165</td>\n",
       "      <td>0.562918</td>\n",
       "      <td>1.080425</td>\n",
       "    </tr>\n",
       "  </tbody>\n",
       "</table>\n",
       "</div>"
      ],
      "text/plain": [
       "is_fraud       0     1   Fraud %  Relative Risk\n",
       "year                                           \n",
       "2019      735730  4165  0.562918       1.080425"
      ]
     },
     "metadata": {},
     "output_type": "display_data"
    },
    {
     "name": "stdout",
     "output_type": "stream",
     "text": [
      "\n"
     ]
    }
   ],
   "source": [
    "# create cross tabulations for each categorical variable with less than 15 distinct categories\n",
    "## loop through relevant variables, returning a cross tabulation\n",
    "for feature in cat_less_than_15:\n",
    "    cross_tab = create_crosstab(cc_transactions_train, feature, 'is_fraud')\n",
    "    # filter to categories with relative risk > 1\n",
    "    filtered_cross_tab = cross_tab[cross_tab['Relative Risk'] > 1]\n",
    "    display(filtered_cross_tab)\n",
    "    print()"
   ]
  },
  {
   "cell_type": "markdown",
   "id": "f6dddf4b-f3eb-4569-9d48-486d1c4baa89",
   "metadata": {},
   "source": [
    "Based on the resulting cross tabulations, the following categories (grouped by variable) show a higher percentage of fraudulent transactions compared to the global fraud rate. This indicates that these categories carry a higher relative risk of fraud than others within the dataset. For instance, transactions in the 'shopping-net' category are over three times more likely to be fraudulent than the average fraud risk across all transactions.\n",
    "* 'category':\n",
    "    - grocery_pos\n",
    "    - misc_net\n",
    "    - shopping_net\n",
    "    - shopping_pos\n",
    "* 'month':\n",
    "    - January\n",
    "    - February\n",
    "    - March\n",
    "    - May\n",
    "    - September\n",
    "    - October\n",
    "* 'day_of_week':\n",
    "    - Wednesday\n",
    "    - Thursday\n",
    "    - Friday\n",
    "    - Saturday\n",
    "* 'time_of_day':\n",
    "    - Night\n",
    "    - Evening\n",
    "* 'gender':\n",
    "    - Male\n",
    "* 'year':\n",
    "    - 2019"
   ]
  },
  {
   "cell_type": "markdown",
   "id": "f8ec48f5-1e34-4a9e-94bc-4d96ae8942d1",
   "metadata": {},
   "source": [
    "As noted, displaying full cross tabulations for categorical features with more than 15 categories can lead to results that are difficult to interpret and may not yield useful insights. Instead, the code below returns the number of categories with a relative risk greater than 1. This approach simplifies the analysis, allowing for a clearer understanding of which categories may be associated with a higher likelihood of fraud without overwhelming the viewer with excessive data."
   ]
  },
  {
   "cell_type": "code",
   "execution_count": 39,
   "id": "a89bbbc6-dc22-430b-827e-9b87bbd20822",
   "metadata": {},
   "outputs": [],
   "source": [
    "# create list of categorical features with more than 15 distinct categories\n",
    "cat_more_than_15 = (\n",
    "    distinct_count_df\n",
    "    .loc[distinct_count_df['Distinct Count'] > 15]\n",
    "    .sort_values('Distinct Count', ascending=False)['Variable']\n",
    "    .tolist()\n",
    ")"
   ]
  },
  {
   "cell_type": "code",
   "execution_count": 40,
   "id": "19c65ba9-db99-4441-b808-7dcffdb4fb65",
   "metadata": {},
   "outputs": [
    {
     "name": "stdout",
     "output_type": "stream",
     "text": [
      "Number of categories with relative risk > 1 for zip: 501 out of 985 categories\n",
      "Number of categories with relative risk > 1 for city: 459 out of 906 categories\n",
      "Number of categories with relative risk > 1 for merchant: 205 out of 693 categories\n",
      "Number of categories with relative risk > 1 for job: 269 out of 497 categories\n",
      "Number of categories with relative risk > 1 for state: 27 out of 51 categories\n"
     ]
    }
   ],
   "source": [
    "# return number of categories for each variable that show relative risk > 1\n",
    "# create dictionary to store results\n",
    "results = {}\n",
    "\n",
    "## loop through relevant variables, returning count of variables with relative risk > 1\n",
    "for feature in cat_more_than_15:\n",
    "    # create the cross tabulation for the current feature\n",
    "    cross_tab = pd.crosstab(cc_transactions_train[feature], cc_transactions_train['is_fraud'])\n",
    "\n",
    "    # calculate fraud %\n",
    "    cross_tab['Fraud %'] = cross_tab[1] / cross_tab.sum(axis=1)\n",
    "    \n",
    "    # calculate global fraud rate\n",
    "    global_fraud_rate = cc_transactions_train['is_fraud'].mean()\n",
    "    \n",
    "    # calculate relative risk\n",
    "    cross_tab['Relative Risk'] = cross_tab['Fraud %'] / global_fraud_rate\n",
    "    \n",
    "    # filter to categories with relative risk > 1\n",
    "    significant_risks = cross_tab[cross_tab['Relative Risk'] > 1]\n",
    "    \n",
    "    # count number of categories with relative risk > 1\n",
    "    num_significant_categories = significant_risks.shape[0]\n",
    "\n",
    "    # count total number of categories\n",
    "    total_categories = cross_tab.shape[0]\n",
    "    \n",
    "    # store result in dictionary\n",
    "    results[feature] = (num_significant_categories, total_categories)\n",
    "\n",
    "# print results\n",
    "for feature, (num_significant_categories, total_categories) in results.items():\n",
    "    print(f\"Number of categories with relative risk > 1 for {feature}: {num_significant_categories} out of {total_categories} categories\")"
   ]
  },
  {
   "cell_type": "markdown",
   "id": "2776101a-39a7-4509-943b-1fb6afa3ba9f",
   "metadata": {},
   "source": [
    "All six features with more than 15 categories contain at least some categories with a relative risk greater than 1. While these counts offer useful insights, they do not necessarily indicate predictive value. \n",
    "\n",
    "For example, in a hypothetical scenario where only one accountant exists in the entire dataset and that individual has a fraudulent transaction, the fraud percentage for accountants would be 100%. This would yield a relative risk greater than 1; however, such a scenario alone is insufficient to conclude that being an accountant increases the likelihood of a fraudulent transaction.\n",
    "\n",
    "The sheer volume of both categories with a relative risk greater than 1 and the number of total categories implies that these features have high cardinality which can add a lot of noise to the data and cause overfitting during model training.\n",
    "\n",
    "Further, the feature selection process initially included 'zip', 'city', 'merchant', 'job', and 'state' when training a Random Forest model to identify feature importance. Notably, two states were retained in the selected features during the first round of using Random Forest, so 'state' will remain in the dataset for training. However, the other features were not selected and are added to the to 'drop_cols' list to enhance computational efficiency and mitigate high cardinality and noise during preprocessing and training. This echoes best practices for feature selection and model training."
   ]
  },
  {
   "cell_type": "code",
   "execution_count": 41,
   "id": "31e74ffd-012c-4866-b9d6-500413fa6584",
   "metadata": {},
   "outputs": [],
   "source": [
    "# add high cardinality variables to drop list\n",
    "for column in ['zip', 'city', 'merchant', 'job']:\n",
    "    drop_cols.append(column)"
   ]
  },
  {
   "cell_type": "markdown",
   "id": "ea462bc6-2b37-4e1f-b15e-ae60ffcc7ed8",
   "metadata": {},
   "source": [
    "#### Quantitative Features"
   ]
  },
  {
   "cell_type": "markdown",
   "id": "34a80707-f034-4857-bc12-91b849129179",
   "metadata": {},
   "source": [
    "To examine the quantitative features, the Pandas function describe() is utilized to generate a summary of descriptive statistics. While 'lat', 'long', 'merch_lat', and 'merch_long' are classified as continuous variables, descriptive statistics are not produced for them due to the lack of meaningful interpretations."
   ]
  },
  {
   "cell_type": "code",
   "execution_count": 42,
   "id": "bb9f1f90-b694-452a-aaf7-4b67e1c22a01",
   "metadata": {},
   "outputs": [],
   "source": [
    "# format values so that they do not display in scientific notation\n",
    "## format resource: https://stackoverflow.com/questions/21137150/format-suppress-scientific-notation-from-pandas-aggregation-results\n",
    "pd.options.display.float_format = '{:.2f}'.format"
   ]
  },
  {
   "cell_type": "code",
   "execution_count": 43,
   "id": "d2dbce08-5323-4396-9c5c-3f4595835b30",
   "metadata": {},
   "outputs": [],
   "source": [
    "# create list of quantitative features\n",
    "num_feat_train = ['amt', 'city_pop', 'age', 'distance']"
   ]
  },
  {
   "cell_type": "code",
   "execution_count": 44,
   "id": "8d805fe4-a7a0-45da-bba9-7a82d361162d",
   "metadata": {},
   "outputs": [
    {
     "data": {
      "text/html": [
       "<div>\n",
       "<style scoped>\n",
       "    .dataframe tbody tr th:only-of-type {\n",
       "        vertical-align: middle;\n",
       "    }\n",
       "\n",
       "    .dataframe tbody tr th {\n",
       "        vertical-align: top;\n",
       "    }\n",
       "\n",
       "    .dataframe thead th {\n",
       "        text-align: right;\n",
       "    }\n",
       "</style>\n",
       "<table border=\"1\" class=\"dataframe\">\n",
       "  <thead>\n",
       "    <tr style=\"text-align: right;\">\n",
       "      <th></th>\n",
       "      <th>amt</th>\n",
       "      <th>city_pop</th>\n",
       "      <th>age</th>\n",
       "      <th>distance</th>\n",
       "    </tr>\n",
       "  </thead>\n",
       "  <tbody>\n",
       "    <tr>\n",
       "      <th>count</th>\n",
       "      <td>1481915.00</td>\n",
       "      <td>1481915.00</td>\n",
       "      <td>1481915.00</td>\n",
       "      <td>1481915.00</td>\n",
       "    </tr>\n",
       "    <tr>\n",
       "      <th>mean</th>\n",
       "      <td>70.02</td>\n",
       "      <td>88640.69</td>\n",
       "      <td>46.80</td>\n",
       "      <td>47.30</td>\n",
       "    </tr>\n",
       "    <tr>\n",
       "      <th>std</th>\n",
       "      <td>156.69</td>\n",
       "      <td>301740.42</td>\n",
       "      <td>17.41</td>\n",
       "      <td>18.10</td>\n",
       "    </tr>\n",
       "    <tr>\n",
       "      <th>min</th>\n",
       "      <td>1.00</td>\n",
       "      <td>23.00</td>\n",
       "      <td>16.00</td>\n",
       "      <td>0.00</td>\n",
       "    </tr>\n",
       "    <tr>\n",
       "      <th>25%</th>\n",
       "      <td>9.65</td>\n",
       "      <td>741.00</td>\n",
       "      <td>33.00</td>\n",
       "      <td>34.00</td>\n",
       "    </tr>\n",
       "    <tr>\n",
       "      <th>50%</th>\n",
       "      <td>47.45</td>\n",
       "      <td>2443.00</td>\n",
       "      <td>45.00</td>\n",
       "      <td>49.00</td>\n",
       "    </tr>\n",
       "    <tr>\n",
       "      <th>75%</th>\n",
       "      <td>83.04</td>\n",
       "      <td>20328.00</td>\n",
       "      <td>58.00</td>\n",
       "      <td>61.00</td>\n",
       "    </tr>\n",
       "    <tr>\n",
       "      <th>max</th>\n",
       "      <td>27390.12</td>\n",
       "      <td>2906700.00</td>\n",
       "      <td>96.00</td>\n",
       "      <td>95.00</td>\n",
       "    </tr>\n",
       "  </tbody>\n",
       "</table>\n",
       "</div>"
      ],
      "text/plain": [
       "             amt   city_pop        age   distance\n",
       "count 1481915.00 1481915.00 1481915.00 1481915.00\n",
       "mean       70.02   88640.69      46.80      47.30\n",
       "std       156.69  301740.42      17.41      18.10\n",
       "min         1.00      23.00      16.00       0.00\n",
       "25%         9.65     741.00      33.00      34.00\n",
       "50%        47.45    2443.00      45.00      49.00\n",
       "75%        83.04   20328.00      58.00      61.00\n",
       "max     27390.12 2906700.00      96.00      95.00"
      ]
     },
     "execution_count": 44,
     "metadata": {},
     "output_type": "execute_result"
    }
   ],
   "source": [
    "# check descriptive statistics for quantitative attributes\n",
    "cc_transactions_train.loc[:, num_feat_train].describe()"
   ]
  },
  {
   "cell_type": "markdown",
   "id": "f11dba9f-4882-41ec-85b4-0ec0279a755d",
   "metadata": {},
   "source": [
    "__Observations__:\n",
    "\n",
    "__1. Amount__\n",
    "- The transactions in the dataset range between \\\\$1.00 and \\\\$27,390.12\n",
    "- 50% of the transactions are below \\\\$47.45 and 75% are below \\\\$83.04\n",
    "- The mean is higher than the median\n",
    "- Based on the above statistics, it is likely that 'amt' has a right-skewed distributiosn with a number of high outliers\n",
    "\n",
    "__2. City Population__\n",
    "- The city populations in the dataset range between 23 and 2,906,700\n",
    "- 50% of the populations are below 2,443, while 75% are below 20,328\n",
    "- Based on the above statistics, it is likely that 'city_pop' has a right-skewed distributiosn with a number of high outliers\n",
    "\n",
    "__3. Age__\n",
    "- The cardholders in the dataset range between 16 years of age and 96 years of age\n",
    "- 50% of the cardholders are younger than 45 years of age and 75% are younger than 58 years of age\n",
    "- The mean and median are relatively close, indicating that the distribution is nearly symmetrical\n",
    "\n",
    "__4. Distance__\n",
    "- The distance between user and merchant ranges from 0 miles and 95 miles\n",
    "- 50% of the distances are less than 49 miles, while 75% are less than 61 miles\n",
    "- The mean and median are relatively close, indicating that the distribution is nearly symmetrical"
   ]
  },
  {
   "cell_type": "markdown",
   "id": "6e902f19-c0c7-4476-80fa-41d3464834bb",
   "metadata": {},
   "source": [
    "### Attribute Correlation"
   ]
  },
  {
   "cell_type": "markdown",
   "id": "ab3bd45c-5a34-461c-bfe8-bebe95d2593d",
   "metadata": {},
   "source": [
    "Correlation quantifies linear relationships, indicating how changes in one variable relate to changes in another variable. By assessing correlation, insights can be gained into the strength of any linear relationships among the numeric attributes.\n",
    "\n",
    "To accomplish this, a correlation matrix is computed, and a gradient is applied to the resulting DataFrame, allowing cells to darken with increasing correlation values."
   ]
  },
  {
   "cell_type": "code",
   "execution_count": 45,
   "id": "1e74646f-6aab-495c-9bcc-569396cdc166",
   "metadata": {},
   "outputs": [],
   "source": [
    "# compute correlations\n",
    "corr_matrix = cc_transactions_train.loc[:, num_feat_train].corr(numeric_only=True)"
   ]
  },
  {
   "cell_type": "code",
   "execution_count": 46,
   "id": "4be938cf-870a-43fe-82f5-c5823718e9ba",
   "metadata": {},
   "outputs": [
    {
     "data": {
      "text/html": [
       "<style type=\"text/css\">\n",
       "#T_724e8_row0_col0, #T_724e8_row1_col1, #T_724e8_row2_col2, #T_724e8_row3_col3 {\n",
       "  background-color: #023858;\n",
       "  color: #f1f1f1;\n",
       "}\n",
       "#T_724e8_row0_col1 {\n",
       "  background-color: #f2ecf5;\n",
       "  color: #000000;\n",
       "}\n",
       "#T_724e8_row0_col2 {\n",
       "  background-color: #f4eef6;\n",
       "  color: #000000;\n",
       "}\n",
       "#T_724e8_row0_col3, #T_724e8_row1_col2, #T_724e8_row2_col0, #T_724e8_row2_col1, #T_724e8_row2_col3 {\n",
       "  background-color: #fff7fb;\n",
       "  color: #000000;\n",
       "}\n",
       "#T_724e8_row1_col0, #T_724e8_row1_col3 {\n",
       "  background-color: #fdf5fa;\n",
       "  color: #000000;\n",
       "}\n",
       "#T_724e8_row3_col0 {\n",
       "  background-color: #fef6fa;\n",
       "  color: #000000;\n",
       "}\n",
       "#T_724e8_row3_col1 {\n",
       "  background-color: #f1ebf5;\n",
       "  color: #000000;\n",
       "}\n",
       "#T_724e8_row3_col2 {\n",
       "  background-color: #f3edf5;\n",
       "  color: #000000;\n",
       "}\n",
       "</style>\n",
       "<table id=\"T_724e8\">\n",
       "  <thead>\n",
       "    <tr>\n",
       "      <th class=\"blank level0\" >&nbsp;</th>\n",
       "      <th id=\"T_724e8_level0_col0\" class=\"col_heading level0 col0\" >amt</th>\n",
       "      <th id=\"T_724e8_level0_col1\" class=\"col_heading level0 col1\" >city_pop</th>\n",
       "      <th id=\"T_724e8_level0_col2\" class=\"col_heading level0 col2\" >age</th>\n",
       "      <th id=\"T_724e8_level0_col3\" class=\"col_heading level0 col3\" >distance</th>\n",
       "    </tr>\n",
       "  </thead>\n",
       "  <tbody>\n",
       "    <tr>\n",
       "      <th id=\"T_724e8_level0_row0\" class=\"row_heading level0 row0\" >amt</th>\n",
       "      <td id=\"T_724e8_row0_col0\" class=\"data row0 col0\" >1.00</td>\n",
       "      <td id=\"T_724e8_row0_col1\" class=\"data row0 col1\" >0.01</td>\n",
       "      <td id=\"T_724e8_row0_col2\" class=\"data row0 col2\" >-0.01</td>\n",
       "      <td id=\"T_724e8_row0_col3\" class=\"data row0 col3\" >-0.00</td>\n",
       "    </tr>\n",
       "    <tr>\n",
       "      <th id=\"T_724e8_level0_row1\" class=\"row_heading level0 row1\" >city_pop</th>\n",
       "      <td id=\"T_724e8_row1_col0\" class=\"data row1 col0\" >0.01</td>\n",
       "      <td id=\"T_724e8_row1_col1\" class=\"data row1 col1\" >1.00</td>\n",
       "      <td id=\"T_724e8_row1_col2\" class=\"data row1 col2\" >-0.09</td>\n",
       "      <td id=\"T_724e8_row1_col3\" class=\"data row1 col3\" >0.01</td>\n",
       "    </tr>\n",
       "    <tr>\n",
       "      <th id=\"T_724e8_level0_row2\" class=\"row_heading level0 row2\" >age</th>\n",
       "      <td id=\"T_724e8_row2_col0\" class=\"data row2 col0\" >-0.01</td>\n",
       "      <td id=\"T_724e8_row2_col1\" class=\"data row2 col1\" >-0.09</td>\n",
       "      <td id=\"T_724e8_row2_col2\" class=\"data row2 col2\" >1.00</td>\n",
       "      <td id=\"T_724e8_row2_col3\" class=\"data row2 col3\" >-0.00</td>\n",
       "    </tr>\n",
       "    <tr>\n",
       "      <th id=\"T_724e8_level0_row3\" class=\"row_heading level0 row3\" >distance</th>\n",
       "      <td id=\"T_724e8_row3_col0\" class=\"data row3 col0\" >-0.00</td>\n",
       "      <td id=\"T_724e8_row3_col1\" class=\"data row3 col1\" >0.01</td>\n",
       "      <td id=\"T_724e8_row3_col2\" class=\"data row3 col2\" >-0.00</td>\n",
       "      <td id=\"T_724e8_row3_col3\" class=\"data row3 col3\" >1.00</td>\n",
       "    </tr>\n",
       "  </tbody>\n",
       "</table>\n"
      ],
      "text/plain": [
       "<pandas.io.formats.style.Styler at 0x179a88407a0>"
      ]
     },
     "execution_count": 46,
     "metadata": {},
     "output_type": "execute_result"
    }
   ],
   "source": [
    "# view entire correlation matrix, styled to highlight DataFrame cells with a gradient based on correlation strength\n",
    "## gradient resource: https://www.analyticsvidhya.com/blog/2021/06/style-your-pandas-dataframe-and-make-it-stunning/\n",
    "corr_matrix.style.format(precision=2).background_gradient()"
   ]
  },
  {
   "cell_type": "markdown",
   "id": "14241180-605b-4637-8713-3d75d4445690",
   "metadata": {},
   "source": [
    "The correlation matrix reveals minimal to no correlation among the amount, city population, age, and distance, with only two values, 0.01 and 0.09, differing from zero. This indicates that the quantitative variables in the dataset do not exhibit multicollinearity, which aligns with expectations, as these variables typically lack a relationship with one another."
   ]
  },
  {
   "cell_type": "markdown",
   "id": "de6c71da-808a-4846-87cb-1e9e1c1412e5",
   "metadata": {},
   "source": [
    "### Data Visualization"
   ]
  },
  {
   "cell_type": "markdown",
   "id": "3019055f-49a8-46c1-aa45-d8b7454643f9",
   "metadata": {},
   "source": [
    "Data visualization serves as an effective means to identify patterns, anomalies, and relationships within the dataset. Several charts have been created to illustrate the connections between the label attribute ('is_fraud') and various features. To ensure clarity and conciseness, only the most pertinent visualizations are included in this notebook. Presenting every visualization could result in information overload, making it difficult for readers to extract meaningful insights. By concentrating on key charts, this analysis aims to highlight significant patterns and trends while avoiding an overwhelming amount of detail."
   ]
  },
  {
   "cell_type": "markdown",
   "id": "876c92e8-00af-4ba8-8087-215a9fffa3cb",
   "metadata": {},
   "source": [
    "#### Sampling Methodology for Visualization"
   ]
  },
  {
   "cell_type": "markdown",
   "id": "0cf0fd48-d550-4c82-bb03-55b7e37817da",
   "metadata": {},
   "source": [
    "Given the large volume of transactions in the dataset, creating visualizations based on the entire training set is impractical. Instead, a stratified sample of 10,000 transactions has been selected to ensure that the visualizations accurately represent the distribution between fraudulent and legitimate transactions.\n",
    "\n",
    "*Note: Sampling technique was learned through discussions with ChatGPT, a large language model trained by OpenAI.*"
   ]
  },
  {
   "cell_type": "code",
   "execution_count": 47,
   "id": "0e83934e-294c-4b6a-92fc-529dec760597",
   "metadata": {
    "scrolled": true
   },
   "outputs": [],
   "source": [
    "# determine the proportion of each class in the 'is_fraud' column\n",
    "counts = cc_transactions_train['is_fraud'].value_counts(normalize=True)"
   ]
  },
  {
   "cell_type": "code",
   "execution_count": 48,
   "id": "7fa66801-9528-48af-b669-8f637ed0ae21",
   "metadata": {},
   "outputs": [],
   "source": [
    "# save the total number of samples desired for data visualization\n",
    "total_samples = 10000"
   ]
  },
  {
   "cell_type": "code",
   "execution_count": 49,
   "id": "8a465894-7358-4064-b211-10c6c70ce925",
   "metadata": {},
   "outputs": [],
   "source": [
    "# calculate the total number of samples needed from each class for a total of 10,000\n",
    "sample_counts = (counts * total_samples).round().astype(int)"
   ]
  },
  {
   "cell_type": "code",
   "execution_count": 50,
   "id": "d43533ca-e937-49a8-ad40-a8a7362c666c",
   "metadata": {},
   "outputs": [],
   "source": [
    "# drop any classes with zero samples\n",
    "sample_counts = sample_counts[sample_counts > 0]"
   ]
  },
  {
   "cell_type": "code",
   "execution_count": 51,
   "id": "e42935d4-088e-4fe3-b79b-ea4d09f21d1a",
   "metadata": {},
   "outputs": [],
   "source": [
    "# ensure that total does not exceed the desired sample size\n",
    "sample_counts = sample_counts[sample_counts < total_samples].fillna(0)"
   ]
  },
  {
   "cell_type": "code",
   "execution_count": 52,
   "id": "e89d23fe-f586-42b7-bac5-a7d777f26aa8",
   "metadata": {},
   "outputs": [],
   "source": [
    "# generate stratified sample based on calculated sample counts\n",
    "stratified_sample = pd.concat([\n",
    "    cc_transactions_train[cc_transactions_train['is_fraud'] == fraud_class].sample(n=count, random_state=42)\n",
    "    for fraud_class, count in sample_counts.items()\n",
    "])"
   ]
  },
  {
   "cell_type": "code",
   "execution_count": 53,
   "id": "a8fcafda-20bf-4b87-84a5-094979b17650",
   "metadata": {},
   "outputs": [
    {
     "name": "stdout",
     "output_type": "stream",
     "text": [
      "is_fraud\n",
      "0    9948\n",
      "1      52\n",
      "Name: count, dtype: int64\n"
     ]
    }
   ],
   "source": [
    "# display resulting sample value counts\n",
    "print(stratified_sample['is_fraud'].value_counts())"
   ]
  },
  {
   "cell_type": "markdown",
   "id": "fad535b3-76cc-4d35-a7dd-718fdf966683",
   "metadata": {},
   "source": [
    "#### Categorical Variable Visualizations"
   ]
  },
  {
   "cell_type": "markdown",
   "id": "bf04f47b-a186-4779-b035-0aff3eb1fd87",
   "metadata": {},
   "source": [
    "Initially, a series of count plots and stacked bar plots were created to compare the number of transactions for each categorical variable with fewer than 15 categories, using color to differentiate fraud status. These visualizations revealed that certain categories exhibited higher fraud rates than others. However, the imbalanced nature of the dataset made it difficult to visually compare fraudulent transactions from one category to the next.\n",
    "\n",
    "To better illustrate the relative risk of fraud associated with each categorical variable, bar plots depicting relative risks were generated. These plots provide a clearer depiction of how specific categories compare to the overall fraud rate in the training set, highlighting those with a relative risk greater than one in magenta. Insights based on these visualizations are provided below."
   ]
  },
  {
   "cell_type": "code",
   "execution_count": 54,
   "id": "b1e8584b-c827-412b-80c5-994352b695d4",
   "metadata": {},
   "outputs": [
    {
     "data": {
      "image/png": "[encoded data removed]",
      "text/plain": [
       "<Figure size 1800x1200 with 6 Axes>"
      ]
     },
     "metadata": {},
     "output_type": "display_data"
    }
   ],
   "source": [
    "# plot barplots of relative risk for categorical variables with < 15 categories\n",
    "## set figure size\n",
    "fig, ax = plt.subplots(3, 2, figsize=(18, 12))\n",
    "\n",
    "## define function for creating bar plots of relative risk, leveraging previous create_crosstab function\n",
    "def plot_barplot(feature, ax, rotation, title, xlabel):\n",
    "    # generate cross tabulation\n",
    "    feat_crosstab = create_crosstab(stratified_sample, feature, 'is_fraud').reset_index()\n",
    "    # define color list based on relative risk\n",
    "    bar_colors = ['#D5006D' if risk > 1 else '#009688' for risk in feat_crosstab['Relative Risk']]\n",
    "    # plot barplot to compare relative risk by category\n",
    "    sns.barplot(feat_crosstab, x=feature, y='Relative Risk', hue=feature, palette=bar_colors, legend=False, ax=ax)\n",
    "    # define ticks\n",
    "    ax.set_xticks(range(len(feat_crosstab[feature])))\n",
    "    # rotate tick labels for readability\n",
    "    ax.set_xticklabels(feat_crosstab[feature], ha='right', rotation=rotation)\n",
    "    # add labels\n",
    "    ax.set_title(title)\n",
    "    ax.set_xlabel(xlabel)\n",
    "\n",
    "## plot barplots for each feature with < 15 categories\n",
    "plot_barplot('category', ax[0, 0], 90, 'Relative Risk by Category', 'Category')\n",
    "plot_barplot('month', ax[0, 1], 0, 'Relative Risk by Month', 'Month')\n",
    "plot_barplot('day_of_week', ax[1, 0], 0, 'Relative Risk by Day of the Week', 'Day of the Week')\n",
    "plot_barplot('time_of_day', ax[1, 1], 0, 'Relative Risk by Time of Day', 'Time of Day')\n",
    "plot_barplot('gender', ax[2, 0], 0, 'Relative Risk by Gender', 'Gender')\n",
    "plot_barplot('year', ax[2, 1], 0, 'Relative Risk by Year', 'Year')\n",
    "\n",
    "## set tight layout\n",
    "plt.tight_layout()\n",
    "\n",
    "## display plot\n",
    "plt.show()"
   ]
  },
  {
   "cell_type": "markdown",
   "id": "dc80d01a-190f-4a71-9d86-0c0f44759eef",
   "metadata": {},
   "source": [
    "__Observations__:\n",
    "\n",
    "__1. The bar plots reinforce insights from the cross-tabulations, indicating that certain categories exhibit a higher relative risk for fraud.__\n",
    "\n",
    "For example, both the cross-tabulation summary and the \"time of day\" plot show that night and evening hours are associated with increased risk.\n",
    "\n",
    "__2. The visualizations are based on a sub-sample of the training set, leading to potential differences in the categories showing a relative risk greater than one.__\n",
    "\n",
    "While descriptive statistics for the full training set indicated that January, February, March, May, September, and October had high relative risk, the plots instead identify January, February, April, and August.\n",
    "\n",
    "__3. This discrepancy between the visualization sub-sample and the full training set underscores the importance of model generalization to new data.__\n",
    "\n",
    "Insights derived from a smaller sample may not fully apply to a larger population.\n",
    "\n",
    "Nonetheless, the plots suggest that these six categorical variables possess predictive ability for identifying fraudulent transactions."
   ]
  },
  {
   "cell_type": "markdown",
   "id": "15636cc5-5201-4f8c-a991-ccbf8d3e02f7",
   "metadata": {},
   "source": [
    "#### Quantitative Variable Visualizations"
   ]
  },
  {
   "cell_type": "markdown",
   "id": "9b8e649c-37b4-4ee9-855a-7c56c63999d7",
   "metadata": {},
   "source": [
    "First, histograms were plotted to examine the distribution of each quantitative variable. Both the amount and city population exhibited right-skewed distributions, characterized by high outliers that resulted in minimal representation on the left side of the histograms, leaving the right side appearing nearly blank. The age histogram showed a nearly symmetric distribution with a slight right skew, while the distance plot displayed a roughly symmetric bell shape. These findings align with the expectations established during the analysis of descriptive statistics.\n",
    "\n",
    "Next, scatterplots were generated to explore the relationships between the quantitative variables. Consistent with the correlation matrix, none of the variables exhibited correlation with one another, and non-linear relationships were not discernible.\n",
    "\n",
    "Finally, boxplots were created to compare the distributions of each quantitative variable based on the classification of transactions as either fraudulent or legitimate. The boxplots are presented below, accompanied by insights to follow."
   ]
  },
  {
   "cell_type": "code",
   "execution_count": 55,
   "id": "e0edce7f-f776-482a-9f5f-f64de27e057f",
   "metadata": {},
   "outputs": [
    {
     "data": {
      "image/png": "[encoded data removed]",
      "text/plain": [
       "<Figure size 1600x400 with 4 Axes>"
      ]
     },
     "metadata": {},
     "output_type": "display_data"
    }
   ],
   "source": [
    "# plot boxplots of quantitative variables\n",
    "## set figure size\n",
    "fig, ax = plt.subplots(1, 4, figsize=(16, 4))\n",
    "\n",
    "## plot histograms\n",
    "sns.boxplot(stratified_sample, x='is_fraud', y='amt', color='#009688', ax=ax[0])\n",
    "sns.boxplot(stratified_sample, x='is_fraud', y='city_pop', color='#009688', ax=ax[1])\n",
    "sns.boxplot(stratified_sample, x='is_fraud', y='age', color='#009688', ax=ax[2])\n",
    "sns.boxplot(stratified_sample, x='is_fraud', y='distance', color='#009688', ax=ax[3])\n",
    "\n",
    "## add labels\n",
    "ax[0].set_title('Amount by Fraud Status', fontsize=12)\n",
    "ax[0].set_xticks(ticks=[0, 1], labels=['Legitimate', 'Fraud'])\n",
    "ax[0].set_ylabel('Transaction Amount ($)', fontsize=10.5)\n",
    "ax[1].set_title('City Population by Fraud Status', fontsize=12)\n",
    "ax[1].set_xticks(ticks=[0, 1], labels=['Legitimate', 'Fraud'])\n",
    "ax[1].set_ylabel('City Population', fontsize=10.5)\n",
    "ax[2].set_title('Age by Fraud Status', fontsize=12)\n",
    "ax[2].set_xticks(ticks=[0, 1], labels=['Legitimate', 'Fraud'])\n",
    "ax[2].set_ylabel('Age (years)', fontsize=10.5)\n",
    "ax[3].set_title('Distance by Fraud Status', fontsize=12)\n",
    "ax[3].set_xticks(ticks=[0, 1], labels=['Legitimate', 'Fraud'])\n",
    "ax[3].set_ylabel('User-to-Merchant Distance (miles)', fontsize=10.5)\n",
    "\n",
    "## set tight layout\n",
    "plt.tight_layout()\n",
    "\n",
    "## display plot\n",
    "plt.show()"
   ]
  },
  {
   "cell_type": "markdown",
   "id": "defd428f-9abb-4457-819b-f29fa62aafb6",
   "metadata": {},
   "source": [
    "__Observations__:\n",
    "\n",
    "__1. Amount__\n",
    "- Legitimate transactions predominantly involve small amounts, with a significant number of higher values classified as outliers\n",
    "- In contrast, fraudulent transactions tend to involve higher-value amounts compared to the non-outlier legitimate transactions\n",
    "- Notably, several legitimate transactions exceed the upper bound of the fraudulent boxplot\n",
    "\n",
    "__2. City Population__\n",
    "- Both legitimate and fraudulent transactions exhibit similar bounds concerning city population\n",
    "- Each category contains a number of outliers that span a comparable range, although a greater proportion of outliers are found among legitimate transactions\n",
    "- This suggests that city population may not serve as a particularly effective predictor for determining fraud status unless more complex relationships exist between city characteristics, fraud status, and other predictive features\n",
    "\n",
    "__3. Age__\n",
    "- The age boxplots are relatively similar, though the age range for fraudulent transactions is slightly narrower, with legitimate transactions encompassing both younger and older cardholders\n",
    "- The interquartile range shown in the fraudulent boxplot indicates that the middle 50% of cardholders involved in fraudulent transactions are slightly older than their legitimate counterparts\n",
    "- While the different interquartile ranges could provide some predictive value for fraud, the overlap between legitimate and fraudulent transactions may complicate its utility as a standalone predictor\n",
    "\n",
    "__4. Distance__\n",
    "- The range of user-to-merchant distances for legitimate transactions is broader than that for fraudulent transactions, with legitimate transactions encompassing both shorter and relatively longer distances\n",
    "- The interquartile range of fraudulent transactions falls within the range for legitimate transactions, suggesting that distance alone may not be a particularly useful predictor for determining fraud status"
   ]
  },
  {
   "cell_type": "markdown",
   "id": "09481c0f-f277-4398-b1de-dc6fff9272d6",
   "metadata": {},
   "source": [
    "## Data Preprocessing <a class='anchor' id='preprocess'></a>"
   ]
  },
  {
   "cell_type": "markdown",
   "id": "d11c7b81-ee2c-44cc-b6ff-f9c5fb6c4d85",
   "metadata": {},
   "source": [
    "[Click Here to Return to Top](#top)"
   ]
  },
  {
   "cell_type": "markdown",
   "id": "9a675ba2-b8bb-480d-a3e7-3e2bd186936d",
   "metadata": {},
   "source": [
    "To prepare the data for modeling, it is essential to preprocess it by transforming it into a format compatible with the machine learning algorithms, balancing the classes, and selecting the most informative features. A data pipeline will be employed to streamline this preparation process."
   ]
  },
  {
   "cell_type": "markdown",
   "id": "5df6065b-71fb-4daa-b3cb-06031acc1185",
   "metadata": {},
   "source": [
    "### Custom Transformer: Feature Engineering"
   ]
  },
  {
   "cell_type": "markdown",
   "id": "b2ab88b0-ced1-4e3b-9bad-3ccc351168b0",
   "metadata": {},
   "source": [
    "The functions developed during the data preparation for Exploratory Data Analysis can be integrated into a single custom transformer. This approach allows for efficient application of these changes to both the training (X_train) and testing (X_test) datasets."
   ]
  },
  {
   "cell_type": "code",
   "execution_count": 56,
   "id": "3037a1db-3f5d-4c69-842b-d6633e6389b0",
   "metadata": {},
   "outputs": [],
   "source": [
    "# create custom transformer for feature engineering\n",
    "class FeatureEngineering(BaseEstimator, TransformerMixin):\n",
    "    def __init__(self):\n",
    "        pass\n",
    "\n",
    "    def fit(self, X, y=None):\n",
    "        # no fitting necessary for these transformations\n",
    "        return self\n",
    "\n",
    "    def transform(self, df):\n",
    "        # apply each function in sequence\n",
    "        ## convert categorical columns currently stored as numbers to 'object' format\n",
    "        df = convert_to_object(df)\n",
    "        ## set the transaction number as the index for ease of referencing fraudulent transactions later\n",
    "        df = set_df_index(df)\n",
    "        ## extract date and time components\n",
    "        df = feat_engineer_datetime(df)\n",
    "        ## extract age\n",
    "        df = feat_engineer_age(df)\n",
    "        ## extract user-to-merchant distance\n",
    "        df = feat_engineer_distance(df)\n",
    "        ## drop unnecessary columns\n",
    "        df = prelim_drop_cols(df)\n",
    "        \n",
    "        return df"
   ]
  },
  {
   "cell_type": "code",
   "execution_count": 57,
   "id": "df2ccc20-26e2-44e7-9e6d-cf19636e810a",
   "metadata": {},
   "outputs": [],
   "source": [
    "# create instance of FeatureEngineering class\n",
    "feature_engineering = FeatureEngineering()"
   ]
  },
  {
   "cell_type": "markdown",
   "id": "19bd5f23-a6e0-4c09-a08e-e74619d9f715",
   "metadata": {},
   "source": [
    "After engineering the additional features, the resulting DataFrame is classified into categorical and numeric variables. The subsequent data preprocessing steps will handle these two data types differently, making it essential to differentiate between them."
   ]
  },
  {
   "cell_type": "code",
   "execution_count": 58,
   "id": "271cea9f-df9d-453b-8dc0-3d33b6564d18",
   "metadata": {},
   "outputs": [],
   "source": [
    "# define lists of categorical and quantitative variables in the dataset after feature engineering\n",
    "cat_vars = ['category', 'gender', 'state', 'year', 'month', 'day_of_week', 'time_of_day']\n",
    "num_vars = ['amt', 'lat', 'long', 'city_pop', 'merch_lat', 'merch_long', 'age', 'distance']"
   ]
  },
  {
   "cell_type": "markdown",
   "id": "3892e4f1-934d-4bb2-82d2-737e2d5e19b4",
   "metadata": {},
   "source": [
    "### Missing Values"
   ]
  },
  {
   "cell_type": "markdown",
   "id": "5db352f7-5d52-4c4c-8e2c-641847cf3f49",
   "metadata": {},
   "source": [
    "Although the initial exploration of the dataset indicates that there are no null values in the training or test sets, incorporating mechanisms to handle missing data will enhance the robustness of the pipeline. This approach enables the model to manage future data with missing values without requiring manual intervention.\n",
    "\n",
    "Two of the quantitative variables exhibited skewed distributions. Therefore, the median will be used to substitute any missing numeric data, as it is more resistant to outliers in skewed data. The categorical features will be imputed using the mode, or the most frequent value, for each feature."
   ]
  },
  {
   "cell_type": "code",
   "execution_count": 59,
   "id": "74e02eb5-b959-4e3c-a792-91232adeaf59",
   "metadata": {},
   "outputs": [],
   "source": [
    "# define strategy for imputing missing categorical variables\n",
    "cat_imputer = SimpleImputer(strategy='most_frequent')"
   ]
  },
  {
   "cell_type": "code",
   "execution_count": 60,
   "id": "0cd327a7-df0c-4b06-8f82-01a819e9d08b",
   "metadata": {},
   "outputs": [],
   "source": [
    "# define strategy for imputing missing numeric variables\n",
    "num_imputer = SimpleImputer(strategy='median')"
   ]
  },
  {
   "cell_type": "markdown",
   "id": "b5c8a2ec-5a53-4d2b-8a44-2ff3e0a3f849",
   "metadata": {},
   "source": [
    "### Feature Encoding"
   ]
  },
  {
   "cell_type": "markdown",
   "id": "166a3814-7eeb-4019-afe6-4c235aefa6b9",
   "metadata": {},
   "source": [
    "Machine learning algorithms typically perform better with numeric inputs; therefore, it is necessary to encode categorical variables to convert them into numeric values.\n",
    "\n",
    "Two common methods for encoding categorical data are one-hot encoding and ordinal encoding. One-hot encoding is appropriate when categories do not have an inherent order, as it creates binary variables for each category, allowing models to treat them as distinct entities. In contrast, ordinal encoding is useful when categories possess a natural order, such as small, medium, and large.\n",
    "\n",
    "In this dataset, the categorical variables do not exhibit an inherent order; for example, the list of expense categories is not ranked in any way. Additionally, while features like year, month, day of the week, and time of day have a logical sequence, the relative risk associated with these variables does not appear to correlate with their temporal progression. To prevent suggesting an order where it does not exist and to effectively capture the distinct differences in fraud risk for these features, one-hot encoding will be applied.\n",
    "\n",
    "One-hot encoding involves creating a binary column for each category represented in each feature, where '1' signifies that the observation belongs to that category and '0' indicates it does not. For instance, if the feature represented transaction types (e.g., grocery, online, gas), all observations for grocery transactions would be coded as '1' in the grocery column and '0' in all other transaction type columns.\n",
    "\n",
    "This binary nature allows for inferring the value of one category from the others. For example, if there are three categories (A, B, C) and the values for B and C are '0,' it can be inferred that the observation belongs to category A. Therefore, one-hot encoding creates 'n-1' new features for 'n' categories to avoid redundancy. "
   ]
  },
  {
   "cell_type": "code",
   "execution_count": 61,
   "id": "973e1cc9-6077-4cf8-bab9-00502196d42a",
   "metadata": {},
   "outputs": [],
   "source": [
    "# define strategy for encoding categorical data\n",
    "encoder = OneHotEncoder(drop='first', sparse_output=False)"
   ]
  },
  {
   "cell_type": "markdown",
   "id": "a4cc2f10-173a-4ea4-aada-47b727eb5985",
   "metadata": {},
   "source": [
    "### Column Transformer"
   ]
  },
  {
   "cell_type": "markdown",
   "id": "8e1d7c47-1a66-484f-aef2-e3ac9ab9bb3e",
   "metadata": {},
   "source": [
    "The preprocessing steps differ for categorical and quantitative data, and a column transformer allows these steps to be applied to each type of data in parallel. This approach is more efficient than processing each type sequentially. The column transformer will be fitted to the training data and later included in a pipeline to transform the test data.\n",
    "\n",
    "Many preprocessing pipelines typically include a scaling step for numeric data. However, in this case, scaling is omitted from the preprocessor because the data will first undergo resampling to address class imbalance and feature selection to identify the most relevant features. By performing resampling and feature selection before scaling, we ensure that the synthetic data generated during resampling accurately reflects the raw data's scale and that feature selection retains the inherent relationships between features without distortion from scaling."
   ]
  },
  {
   "cell_type": "code",
   "execution_count": 62,
   "id": "df3e3083-5a46-4dc8-8a0d-049174feda50",
   "metadata": {},
   "outputs": [],
   "source": [
    "# define column transformer\n",
    "preprocessor = ColumnTransformer(\n",
    "    transformers = [\n",
    "        # apply imputation, followed by encoding categorical variables\n",
    "        ('cat_pipeline', make_pipeline(cat_imputer, encoder), cat_vars),\n",
    "        # apply imputation to numeric variables\n",
    "        ('num_pipeline', make_pipeline(num_imputer), num_vars)\n",
    "    ]\n",
    ")"
   ]
  },
  {
   "cell_type": "markdown",
   "id": "0e52dff2-5348-46e6-a80d-20bbf693e71c",
   "metadata": {},
   "source": [
    "### Optimizing Data Types"
   ]
  },
  {
   "cell_type": "markdown",
   "id": "aeb5c5e8-ecaa-4d5c-84d5-21101fe58c12",
   "metadata": {},
   "source": [
    "To ensure the data is as memory-efficient as possible, the following optimization function converts the transformed data (a NumPy array of 'float64' type) to a 'float32' datatype."
   ]
  },
  {
   "cell_type": "code",
   "execution_count": 63,
   "id": "720a3be1-21a7-4062-a812-bf6719027396",
   "metadata": {},
   "outputs": [],
   "source": [
    "# create custom transformer for optimizing datatype\n",
    "class ConvertFloat64ToFloat32(BaseEstimator, TransformerMixin):\n",
    "    def __init__(self):\n",
    "        pass\n",
    "\n",
    "    def fit(self, X, y=None):\n",
    "        # No fitting necessary, just return self\n",
    "        return self\n",
    "\n",
    "    def transform(self, X):\n",
    "        # Convert float64 to float32\n",
    "        return X.astype('float32')"
   ]
  },
  {
   "cell_type": "code",
   "execution_count": 64,
   "id": "96f02b21-df7d-4bd1-b28b-855b75ea969e",
   "metadata": {},
   "outputs": [],
   "source": [
    "# create instance of ConvertFloat64ToFloat32 class\n",
    "convert_to_float32 = ConvertFloat64ToFloat32()"
   ]
  },
  {
   "cell_type": "markdown",
   "id": "876953ce-d68b-4873-b146-57e91b4611c7",
   "metadata": {},
   "source": [
    "### Preprocessing Pipeline"
   ]
  },
  {
   "cell_type": "markdown",
   "id": "33f3748e-a851-41b3-8928-049a9570995a",
   "metadata": {},
   "source": [
    "Data preparation pipelines facilitate the efficient application of the discussed transformations to training data, test data, and any future data. This approach enables the reuse of pipelines without the need to recreate the code each time. The pipeline outlined below consolidates all preprocessing steps conducted prior to resampling the data and performing feature selection."
   ]
  },
  {
   "cell_type": "code",
   "execution_count": 65,
   "id": "c65030ed-0c56-4fb1-af2e-1c15cbdf3858",
   "metadata": {},
   "outputs": [],
   "source": [
    "# create preprocessing pipeline\n",
    "preprocessing_pipeline = make_pipeline(\n",
    "    feature_engineering,\n",
    "    preprocessor,\n",
    "    convert_to_float32\n",
    ")"
   ]
  },
  {
   "cell_type": "code",
   "execution_count": 66,
   "id": "d468d089-b9a1-45a0-b75a-c748da45633a",
   "metadata": {},
   "outputs": [
    {
     "name": "stdout",
     "output_type": "stream",
     "text": [
      "CPU times: total: 7.72 s\n",
      "Wall time: 7.04 s\n"
     ]
    }
   ],
   "source": [
    "%%time\n",
    "# fit and transform the training data\n",
    "X_train_transformed = preprocessing_pipeline.fit_transform(X_train)"
   ]
  },
  {
   "cell_type": "markdown",
   "id": "3f67ed1b-949b-45d4-a427-c8f6091b46d9",
   "metadata": {},
   "source": [
    "### Class Imbalance Correction"
   ]
  },
  {
   "cell_type": "markdown",
   "id": "d4db7ae5-5b65-405c-8ac8-bbeec6e35abe",
   "metadata": {},
   "source": [
    "The class imbalance should be addressed before feature selection, as significant imbalance can bias feature importance calculations, making it challenging for the model to prioritize features that aid in identifying the minority class.\n",
    "\n",
    "Exploratory data analysis suggests that fraudulent transactions in the dataset share certain patterns. Specific categories, such as night and evening in the \"time_of_day\" feature, exhibit higher relative risk for fraud compared to other categories. Similarly, most quantitative features display boxplots without outliers for the fraud class, indicating that fraudulent activity tends to occur within consistent ranges of these variables.\n",
    "\n",
    "SMOTE is selected as the class imbalance correction method because it effectively utilizes the similarities between existing fraud cases to generate realistic synthetic samples. By interpolating between minority class instances, SMOTE helps preserve the patterns associated with fraud and enhances the model’s ability to learn from these cases.\n",
    "\n",
    "To ensure robust model evaluation, a validation set is being established after preprocessing but prior to the application of SMOTE and feature selection. This approach maintains the integrity of the validation process, allowing for an accurate assessment of model performance on unseen data while mitigating the risk of overfitting."
   ]
  },
  {
   "cell_type": "code",
   "execution_count": 67,
   "id": "48b9301e-19a9-4816-83c0-30a19fd5810b",
   "metadata": {},
   "outputs": [],
   "source": [
    "# split X_train into final training and validation sets\n",
    "X_train_final, X_val, y_train_final, y_val = train_test_split(\n",
    "    X_train_transformed, \n",
    "    y_train,\n",
    "    # allocate 80% to training and 20% to validation\n",
    "    test_size=0.2,\n",
    "    # stratify to ensure proportionate amount of each class in both sets\n",
    "    stratify=y_train,\n",
    "    # set random_state for reproducibility\n",
    "    random_state=42\n",
    ")"
   ]
  },
  {
   "cell_type": "code",
   "execution_count": 68,
   "id": "e06b8207-7838-4ffa-81ed-58f257200fe0",
   "metadata": {},
   "outputs": [],
   "source": [
    "# instantiate SMOTE for resampling\n",
    "smote = SMOTE()"
   ]
  },
  {
   "cell_type": "code",
   "execution_count": 69,
   "id": "bfd050ed-e477-460f-b451-90b7c67cf9de",
   "metadata": {},
   "outputs": [],
   "source": [
    "# apply SMOTE to training data (un-comment to re-run)\n",
    "## X_train_resampled, y_train_resampled = smote.fit_resample(X_train_final, y_train_final)"
   ]
  },
  {
   "cell_type": "code",
   "execution_count": 70,
   "id": "83806437-126d-462e-913b-23eed9308724",
   "metadata": {},
   "outputs": [],
   "source": [
    "# retrieve SMOTE'd training data\n",
    "X_train_resampled = loaded_variables['X_train_resampled']\n",
    "y_train_resampled = loaded_variables['y_train_resampled']"
   ]
  },
  {
   "cell_type": "markdown",
   "id": "a91921f7-3524-4e0d-a591-a20d64daa7c3",
   "metadata": {},
   "source": [
    "### Feature Selection"
   ]
  },
  {
   "cell_type": "markdown",
   "id": "2919c9ac-e020-4602-a981-5f63844e0082",
   "metadata": {},
   "source": [
    "A Random Forest Classifier is a machine learning algorithm that generates multiple decision trees to classify observations, such as predicting whether a transaction is 'fraudulent' or 'legitimate.' Each decision tree performs the classification task by applying a series of tests, similar to the structure of a flowchart. \n",
    "\n",
    "For instance, a tree might begin by testing the transaction amount. If the tree has learned that transactions over \\\\$1,000 are more likely to be fraudulent, it could use this as a decision point, dividing transactions into two groups—those less than or equal to \\\\$1,000 and those greater than \\\\$1,000, with the latter group predicted as fraudulent. More complex trees include many tests, forming a more intricate branching structure.\n",
    "\n",
    "The Random Forest Classifier below is used to evaluate feature importance, providing a measure of how much each feature contributes to the model's predictions. These importance values help identify which features have the greatest influence on determining the label attribute."
   ]
  },
  {
   "cell_type": "code",
   "execution_count": 71,
   "id": "3b32d3de-28b7-4db2-88ca-f91e6275659d",
   "metadata": {},
   "outputs": [],
   "source": [
    "# instantiate RandomForestClassifier\n",
    "rf = RandomForestClassifier(\n",
    "    # limit the number of trees to speed up training\n",
    "    n_estimators=50,\n",
    "    # limit tree depth to avoid overfitting and reduce complexity\n",
    "    max_depth=10,\n",
    "    # set minimum samples to split a node\n",
    "    min_samples_split=10,\n",
    "    # set minimum number of samples per leaf to avoid overly complex trees\n",
    "    min_samples_leaf=5,\n",
    "    # use the square root of the number of features for splits\n",
    "    max_features='sqrt',\n",
    "    # use all available CPU cores to speed up training\n",
    "    n_jobs=-1,\n",
    "    # set random_state for reproducibility\n",
    "    random_state=42\n",
    ")"
   ]
  },
  {
   "cell_type": "code",
   "execution_count": 72,
   "id": "5bea0a24-0ea8-44d5-ae18-c16e808709f3",
   "metadata": {},
   "outputs": [
    {
     "data": {
      "text/html": [
       "<style>#sk-container-id-1 {\n",
       "  /* Definition of color scheme common for light and dark mode */\n",
       "  --sklearn-color-text: black;\n",
       "  --sklearn-color-line: gray;\n",
       "  /* Definition of color scheme for unfitted estimators */\n",
       "  --sklearn-color-unfitted-level-0: #fff5e6;\n",
       "  --sklearn-color-unfitted-level-1: #f6e4d2;\n",
       "  --sklearn-color-unfitted-level-2: #ffe0b3;\n",
       "  --sklearn-color-unfitted-level-3: chocolate;\n",
       "  /* Definition of color scheme for fitted estimators */\n",
       "  --sklearn-color-fitted-level-0: #f0f8ff;\n",
       "  --sklearn-color-fitted-level-1: #d4ebff;\n",
       "  --sklearn-color-fitted-level-2: #b3dbfd;\n",
       "  --sklearn-color-fitted-level-3: cornflowerblue;\n",
       "\n",
       "  /* Specific color for light theme */\n",
       "  --sklearn-color-text-on-default-background: var(--sg-text-color, var(--theme-code-foreground, var(--jp-content-font-color1, black)));\n",
       "  --sklearn-color-background: var(--sg-background-color, var(--theme-background, var(--jp-layout-color0, white)));\n",
       "  --sklearn-color-border-box: var(--sg-text-color, var(--theme-code-foreground, var(--jp-content-font-color1, black)));\n",
       "  --sklearn-color-icon: #696969;\n",
       "\n",
       "  @media (prefers-color-scheme: dark) {\n",
       "    /* Redefinition of color scheme for dark theme */\n",
       "    --sklearn-color-text-on-default-background: var(--sg-text-color, var(--theme-code-foreground, var(--jp-content-font-color1, white)));\n",
       "    --sklearn-color-background: var(--sg-background-color, var(--theme-background, var(--jp-layout-color0, #111)));\n",
       "    --sklearn-color-border-box: var(--sg-text-color, var(--theme-code-foreground, var(--jp-content-font-color1, white)));\n",
       "    --sklearn-color-icon: #878787;\n",
       "  }\n",
       "}\n",
       "\n",
       "#sk-container-id-1 {\n",
       "  color: var(--sklearn-color-text);\n",
       "}\n",
       "\n",
       "#sk-container-id-1 pre {\n",
       "  padding: 0;\n",
       "}\n",
       "\n",
       "#sk-container-id-1 input.sk-hidden--visually {\n",
       "  border: 0;\n",
       "  clip: rect(1px 1px 1px 1px);\n",
       "  clip: rect(1px, 1px, 1px, 1px);\n",
       "  height: 1px;\n",
       "  margin: -1px;\n",
       "  overflow: hidden;\n",
       "  padding: 0;\n",
       "  position: absolute;\n",
       "  width: 1px;\n",
       "}\n",
       "\n",
       "#sk-container-id-1 div.sk-dashed-wrapped {\n",
       "  border: 1px dashed var(--sklearn-color-line);\n",
       "  margin: 0 0.4em 0.5em 0.4em;\n",
       "  box-sizing: border-box;\n",
       "  padding-bottom: 0.4em;\n",
       "  background-color: var(--sklearn-color-background);\n",
       "}\n",
       "\n",
       "#sk-container-id-1 div.sk-container {\n",
       "  /* jupyter's `normalize.less` sets `[hidden] { display: none; }`\n",
       "     but bootstrap.min.css set `[hidden] { display: none !important; }`\n",
       "     so we also need the `!important` here to be able to override the\n",
       "     default hidden behavior on the sphinx rendered scikit-learn.org.\n",
       "     See: https://github.com/scikit-learn/scikit-learn/issues/21755 */\n",
       "  display: inline-block !important;\n",
       "  position: relative;\n",
       "}\n",
       "\n",
       "#sk-container-id-1 div.sk-text-repr-fallback {\n",
       "  display: none;\n",
       "}\n",
       "\n",
       "div.sk-parallel-item,\n",
       "div.sk-serial,\n",
       "div.sk-item {\n",
       "  /* draw centered vertical line to link estimators */\n",
       "  background-image: linear-gradient(var(--sklearn-color-text-on-default-background), var(--sklearn-color-text-on-default-background));\n",
       "  background-size: 2px 100%;\n",
       "  background-repeat: no-repeat;\n",
       "  background-position: center center;\n",
       "}\n",
       "\n",
       "/* Parallel-specific style estimator block */\n",
       "\n",
       "#sk-container-id-1 div.sk-parallel-item::after {\n",
       "  content: \"\";\n",
       "  width: 100%;\n",
       "  border-bottom: 2px solid var(--sklearn-color-text-on-default-background);\n",
       "  flex-grow: 1;\n",
       "}\n",
       "\n",
       "#sk-container-id-1 div.sk-parallel {\n",
       "  display: flex;\n",
       "  align-items: stretch;\n",
       "  justify-content: center;\n",
       "  background-color: var(--sklearn-color-background);\n",
       "  position: relative;\n",
       "}\n",
       "\n",
       "#sk-container-id-1 div.sk-parallel-item {\n",
       "  display: flex;\n",
       "  flex-direction: column;\n",
       "}\n",
       "\n",
       "#sk-container-id-1 div.sk-parallel-item:first-child::after {\n",
       "  align-self: flex-end;\n",
       "  width: 50%;\n",
       "}\n",
       "\n",
       "#sk-container-id-1 div.sk-parallel-item:last-child::after {\n",
       "  align-self: flex-start;\n",
       "  width: 50%;\n",
       "}\n",
       "\n",
       "#sk-container-id-1 div.sk-parallel-item:only-child::after {\n",
       "  width: 0;\n",
       "}\n",
       "\n",
       "/* Serial-specific style estimator block */\n",
       "\n",
       "#sk-container-id-1 div.sk-serial {\n",
       "  display: flex;\n",
       "  flex-direction: column;\n",
       "  align-items: center;\n",
       "  background-color: var(--sklearn-color-background);\n",
       "  padding-right: 1em;\n",
       "  padding-left: 1em;\n",
       "}\n",
       "\n",
       "\n",
       "/* Toggleable style: style used for estimator/Pipeline/ColumnTransformer box that is\n",
       "clickable and can be expanded/collapsed.\n",
       "- Pipeline and ColumnTransformer use this feature and define the default style\n",
       "- Estimators will overwrite some part of the style using the `sk-estimator` class\n",
       "*/\n",
       "\n",
       "/* Pipeline and ColumnTransformer style (default) */\n",
       "\n",
       "#sk-container-id-1 div.sk-toggleable {\n",
       "  /* Default theme specific background. It is overwritten whether we have a\n",
       "  specific estimator or a Pipeline/ColumnTransformer */\n",
       "  background-color: var(--sklearn-color-background);\n",
       "}\n",
       "\n",
       "/* Toggleable label */\n",
       "#sk-container-id-1 label.sk-toggleable__label {\n",
       "  cursor: pointer;\n",
       "  display: block;\n",
       "  width: 100%;\n",
       "  margin-bottom: 0;\n",
       "  padding: 0.5em;\n",
       "  box-sizing: border-box;\n",
       "  text-align: center;\n",
       "}\n",
       "\n",
       "#sk-container-id-1 label.sk-toggleable__label-arrow:before {\n",
       "  /* Arrow on the left of the label */\n",
       "  content: \"▸\";\n",
       "  float: left;\n",
       "  margin-right: 0.25em;\n",
       "  color: var(--sklearn-color-icon);\n",
       "}\n",
       "\n",
       "#sk-container-id-1 label.sk-toggleable__label-arrow:hover:before {\n",
       "  color: var(--sklearn-color-text);\n",
       "}\n",
       "\n",
       "/* Toggleable content - dropdown */\n",
       "\n",
       "#sk-container-id-1 div.sk-toggleable__content {\n",
       "  max-height: 0;\n",
       "  max-width: 0;\n",
       "  overflow: hidden;\n",
       "  text-align: left;\n",
       "  /* unfitted */\n",
       "  background-color: var(--sklearn-color-unfitted-level-0);\n",
       "}\n",
       "\n",
       "#sk-container-id-1 div.sk-toggleable__content.fitted {\n",
       "  /* fitted */\n",
       "  background-color: var(--sklearn-color-fitted-level-0);\n",
       "}\n",
       "\n",
       "#sk-container-id-1 div.sk-toggleable__content pre {\n",
       "  margin: 0.2em;\n",
       "  border-radius: 0.25em;\n",
       "  color: var(--sklearn-color-text);\n",
       "  /* unfitted */\n",
       "  background-color: var(--sklearn-color-unfitted-level-0);\n",
       "}\n",
       "\n",
       "#sk-container-id-1 div.sk-toggleable__content.fitted pre {\n",
       "  /* unfitted */\n",
       "  background-color: var(--sklearn-color-fitted-level-0);\n",
       "}\n",
       "\n",
       "#sk-container-id-1 input.sk-toggleable__control:checked~div.sk-toggleable__content {\n",
       "  /* Expand drop-down */\n",
       "  max-height: 200px;\n",
       "  max-width: 100%;\n",
       "  overflow: auto;\n",
       "}\n",
       "\n",
       "#sk-container-id-1 input.sk-toggleable__control:checked~label.sk-toggleable__label-arrow:before {\n",
       "  content: \"▾\";\n",
       "}\n",
       "\n",
       "/* Pipeline/ColumnTransformer-specific style */\n",
       "\n",
       "#sk-container-id-1 div.sk-label input.sk-toggleable__control:checked~label.sk-toggleable__label {\n",
       "  color: var(--sklearn-color-text);\n",
       "  background-color: var(--sklearn-color-unfitted-level-2);\n",
       "}\n",
       "\n",
       "#sk-container-id-1 div.sk-label.fitted input.sk-toggleable__control:checked~label.sk-toggleable__label {\n",
       "  background-color: var(--sklearn-color-fitted-level-2);\n",
       "}\n",
       "\n",
       "/* Estimator-specific style */\n",
       "\n",
       "/* Colorize estimator box */\n",
       "#sk-container-id-1 div.sk-estimator input.sk-toggleable__control:checked~label.sk-toggleable__label {\n",
       "  /* unfitted */\n",
       "  background-color: var(--sklearn-color-unfitted-level-2);\n",
       "}\n",
       "\n",
       "#sk-container-id-1 div.sk-estimator.fitted input.sk-toggleable__control:checked~label.sk-toggleable__label {\n",
       "  /* fitted */\n",
       "  background-color: var(--sklearn-color-fitted-level-2);\n",
       "}\n",
       "\n",
       "#sk-container-id-1 div.sk-label label.sk-toggleable__label,\n",
       "#sk-container-id-1 div.sk-label label {\n",
       "  /* The background is the default theme color */\n",
       "  color: var(--sklearn-color-text-on-default-background);\n",
       "}\n",
       "\n",
       "/* On hover, darken the color of the background */\n",
       "#sk-container-id-1 div.sk-label:hover label.sk-toggleable__label {\n",
       "  color: var(--sklearn-color-text);\n",
       "  background-color: var(--sklearn-color-unfitted-level-2);\n",
       "}\n",
       "\n",
       "/* Label box, darken color on hover, fitted */\n",
       "#sk-container-id-1 div.sk-label.fitted:hover label.sk-toggleable__label.fitted {\n",
       "  color: var(--sklearn-color-text);\n",
       "  background-color: var(--sklearn-color-fitted-level-2);\n",
       "}\n",
       "\n",
       "/* Estimator label */\n",
       "\n",
       "#sk-container-id-1 div.sk-label label {\n",
       "  font-family: monospace;\n",
       "  font-weight: bold;\n",
       "  display: inline-block;\n",
       "  line-height: 1.2em;\n",
       "}\n",
       "\n",
       "#sk-container-id-1 div.sk-label-container {\n",
       "  text-align: center;\n",
       "}\n",
       "\n",
       "/* Estimator-specific */\n",
       "#sk-container-id-1 div.sk-estimator {\n",
       "  font-family: monospace;\n",
       "  border: 1px dotted var(--sklearn-color-border-box);\n",
       "  border-radius: 0.25em;\n",
       "  box-sizing: border-box;\n",
       "  margin-bottom: 0.5em;\n",
       "  /* unfitted */\n",
       "  background-color: var(--sklearn-color-unfitted-level-0);\n",
       "}\n",
       "\n",
       "#sk-container-id-1 div.sk-estimator.fitted {\n",
       "  /* fitted */\n",
       "  background-color: var(--sklearn-color-fitted-level-0);\n",
       "}\n",
       "\n",
       "/* on hover */\n",
       "#sk-container-id-1 div.sk-estimator:hover {\n",
       "  /* unfitted */\n",
       "  background-color: var(--sklearn-color-unfitted-level-2);\n",
       "}\n",
       "\n",
       "#sk-container-id-1 div.sk-estimator.fitted:hover {\n",
       "  /* fitted */\n",
       "  background-color: var(--sklearn-color-fitted-level-2);\n",
       "}\n",
       "\n",
       "/* Specification for estimator info (e.g. \"i\" and \"?\") */\n",
       "\n",
       "/* Common style for \"i\" and \"?\" */\n",
       "\n",
       ".sk-estimator-doc-link,\n",
       "a:link.sk-estimator-doc-link,\n",
       "a:visited.sk-estimator-doc-link {\n",
       "  float: right;\n",
       "  font-size: smaller;\n",
       "  line-height: 1em;\n",
       "  font-family: monospace;\n",
       "  background-color: var(--sklearn-color-background);\n",
       "  border-radius: 1em;\n",
       "  height: 1em;\n",
       "  width: 1em;\n",
       "  text-decoration: none !important;\n",
       "  margin-left: 1ex;\n",
       "  /* unfitted */\n",
       "  border: var(--sklearn-color-unfitted-level-1) 1pt solid;\n",
       "  color: var(--sklearn-color-unfitted-level-1);\n",
       "}\n",
       "\n",
       ".sk-estimator-doc-link.fitted,\n",
       "a:link.sk-estimator-doc-link.fitted,\n",
       "a:visited.sk-estimator-doc-link.fitted {\n",
       "  /* fitted */\n",
       "  border: var(--sklearn-color-fitted-level-1) 1pt solid;\n",
       "  color: var(--sklearn-color-fitted-level-1);\n",
       "}\n",
       "\n",
       "/* On hover */\n",
       "div.sk-estimator:hover .sk-estimator-doc-link:hover,\n",
       ".sk-estimator-doc-link:hover,\n",
       "div.sk-label-container:hover .sk-estimator-doc-link:hover,\n",
       ".sk-estimator-doc-link:hover {\n",
       "  /* unfitted */\n",
       "  background-color: var(--sklearn-color-unfitted-level-3);\n",
       "  color: var(--sklearn-color-background);\n",
       "  text-decoration: none;\n",
       "}\n",
       "\n",
       "div.sk-estimator.fitted:hover .sk-estimator-doc-link.fitted:hover,\n",
       ".sk-estimator-doc-link.fitted:hover,\n",
       "div.sk-label-container:hover .sk-estimator-doc-link.fitted:hover,\n",
       ".sk-estimator-doc-link.fitted:hover {\n",
       "  /* fitted */\n",
       "  background-color: var(--sklearn-color-fitted-level-3);\n",
       "  color: var(--sklearn-color-background);\n",
       "  text-decoration: none;\n",
       "}\n",
       "\n",
       "/* Span, style for the box shown on hovering the info icon */\n",
       ".sk-estimator-doc-link span {\n",
       "  display: none;\n",
       "  z-index: 9999;\n",
       "  position: relative;\n",
       "  font-weight: normal;\n",
       "  right: .2ex;\n",
       "  padding: .5ex;\n",
       "  margin: .5ex;\n",
       "  width: min-content;\n",
       "  min-width: 20ex;\n",
       "  max-width: 50ex;\n",
       "  color: var(--sklearn-color-text);\n",
       "  box-shadow: 2pt 2pt 4pt #999;\n",
       "  /* unfitted */\n",
       "  background: var(--sklearn-color-unfitted-level-0);\n",
       "  border: .5pt solid var(--sklearn-color-unfitted-level-3);\n",
       "}\n",
       "\n",
       ".sk-estimator-doc-link.fitted span {\n",
       "  /* fitted */\n",
       "  background: var(--sklearn-color-fitted-level-0);\n",
       "  border: var(--sklearn-color-fitted-level-3);\n",
       "}\n",
       "\n",
       ".sk-estimator-doc-link:hover span {\n",
       "  display: block;\n",
       "}\n",
       "\n",
       "/* \"?\"-specific style due to the `<a>` HTML tag */\n",
       "\n",
       "#sk-container-id-1 a.estimator_doc_link {\n",
       "  float: right;\n",
       "  font-size: 1rem;\n",
       "  line-height: 1em;\n",
       "  font-family: monospace;\n",
       "  background-color: var(--sklearn-color-background);\n",
       "  border-radius: 1rem;\n",
       "  height: 1rem;\n",
       "  width: 1rem;\n",
       "  text-decoration: none;\n",
       "  /* unfitted */\n",
       "  color: var(--sklearn-color-unfitted-level-1);\n",
       "  border: var(--sklearn-color-unfitted-level-1) 1pt solid;\n",
       "}\n",
       "\n",
       "#sk-container-id-1 a.estimator_doc_link.fitted {\n",
       "  /* fitted */\n",
       "  border: var(--sklearn-color-fitted-level-1) 1pt solid;\n",
       "  color: var(--sklearn-color-fitted-level-1);\n",
       "}\n",
       "\n",
       "/* On hover */\n",
       "#sk-container-id-1 a.estimator_doc_link:hover {\n",
       "  /* unfitted */\n",
       "  background-color: var(--sklearn-color-unfitted-level-3);\n",
       "  color: var(--sklearn-color-background);\n",
       "  text-decoration: none;\n",
       "}\n",
       "\n",
       "#sk-container-id-1 a.estimator_doc_link.fitted:hover {\n",
       "  /* fitted */\n",
       "  background-color: var(--sklearn-color-fitted-level-3);\n",
       "}\n",
       "</style><div id=\"sk-container-id-1\" class=\"sk-top-container\"><div class=\"sk-text-repr-fallback\"><pre>RandomForestClassifier(max_depth=10, min_samples_leaf=5, min_samples_split=10,\n",
       "                       n_estimators=50, n_jobs=-1, random_state=42)</pre><b>In a Jupyter environment, please rerun this cell to show the HTML representation or trust the notebook. <br />On GitHub, the HTML representation is unable to render, please try loading this page with nbviewer.org.</b></div><div class=\"sk-container\" hidden><div class=\"sk-item\"><div class=\"sk-estimator fitted sk-toggleable\"><input class=\"sk-toggleable__control sk-hidden--visually\" id=\"sk-estimator-id-1\" type=\"checkbox\" checked><label for=\"sk-estimator-id-1\" class=\"sk-toggleable__label fitted sk-toggleable__label-arrow fitted\">&nbsp;&nbsp;RandomForestClassifier<a class=\"sk-estimator-doc-link fitted\" rel=\"noreferrer\" target=\"_blank\" href=\"https://scikit-learn.org/1.5/modules/generated/sklearn.ensemble.RandomForestClassifier.html\">?<span>Documentation for RandomForestClassifier</span></a><span class=\"sk-estimator-doc-link fitted\">i<span>Fitted</span></span></label><div class=\"sk-toggleable__content fitted\"><pre>RandomForestClassifier(max_depth=10, min_samples_leaf=5, min_samples_split=10,\n",
       "                       n_estimators=50, n_jobs=-1, random_state=42)</pre></div> </div></div></div></div>"
      ],
      "text/plain": [
       "RandomForestClassifier(max_depth=10, min_samples_leaf=5, min_samples_split=10,\n",
       "                       n_estimators=50, n_jobs=-1, random_state=42)"
      ]
     },
     "execution_count": 72,
     "metadata": {},
     "output_type": "execute_result"
    }
   ],
   "source": [
    "# fit random forest classifier to the SMOTE'd training data (un-comment to re-run)\n",
    "rf.fit(X_train_resampled, y_train_resampled)"
   ]
  },
  {
   "cell_type": "code",
   "execution_count": 73,
   "id": "c0908dce-2d68-46bd-8ac0-a3e8b3bc0457",
   "metadata": {},
   "outputs": [],
   "source": [
    "# save feature importances (un-comment to re-run)\n",
    "## importances = rf.feature_importances_"
   ]
  },
  {
   "cell_type": "code",
   "execution_count": 74,
   "id": "69a7ff25-51af-4638-8542-2a0843bb291f",
   "metadata": {},
   "outputs": [],
   "source": [
    "# retrieve feature importances\n",
    "importances = loaded_variables['importances']"
   ]
  },
  {
   "cell_type": "code",
   "execution_count": 75,
   "id": "d29d0397-0c64-4015-b24f-7e98ad0bbe5a",
   "metadata": {},
   "outputs": [],
   "source": [
    "# save all feature names\n",
    "## access the encoder inside the categorical pipeline\n",
    "cat_pipeline = preprocessor.named_transformers_['cat_pipeline']\n",
    "\n",
    "## access the categorical feature names after one-hot encoding\n",
    "cat_feature_names = cat_pipeline.named_steps['onehotencoder'].get_feature_names_out(cat_vars)\n",
    "\n",
    "## combine categorical feature names with numeric feature names\n",
    "all_feature_names = np.array(list(cat_feature_names) + num_vars)"
   ]
  },
  {
   "cell_type": "markdown",
   "id": "855be05e-0751-40bc-9db9-fef0e1d77f18",
   "metadata": {},
   "source": [
    "Next, the distribution of feature importances is plotted on a histogram to evaluate their magnitude and potential skew. This visualization helps inform the approach for selecting features."
   ]
  },
  {
   "cell_type": "code",
   "execution_count": 76,
   "id": "669c6aec-b8c2-4e3b-9dc2-ccd8ab19007d",
   "metadata": {},
   "outputs": [
    {
     "data": {
      "image/png": "[encoded data removed]",
      "text/plain": [
       "<Figure size 500x300 with 1 Axes>"
      ]
     },
     "metadata": {},
     "output_type": "display_data"
    }
   ],
   "source": [
    "# plot distribution of feature importances\n",
    "## set figure size\n",
    "plt.figure(figsize=(5, 3))\n",
    "\n",
    "## plot histogram\n",
    "sns.histplot(importances, bins=30, kde=True, color='#009688')\n",
    "\n",
    "## add labels\n",
    "plt.title('Distribution of Feature Importances')\n",
    "plt.xlabel('Feature Importance')\n",
    "plt.ylabel('Frequency')\n",
    "\n",
    "## display plot\n",
    "plt.show()"
   ]
  },
  {
   "cell_type": "markdown",
   "id": "d390db66-a60c-499d-a054-e8f2f81a6cb4",
   "metadata": {},
   "source": [
    "The feature importances range from 0.00 to 0.35, with a pronounced right-skewed distribution, as shown by the histogram. To account for this skewness, SelectFromModel with the median threshold was initially applied. The median, being less sensitive to outliers and skew, offers a more robust central measure for feature selection, leading to 47 features being chosen. However, despite several rounds of hyperparameter tuning, the models exhibited signs of overfitting. To enhance generalization, the number of features is being reduced to 30, focusing on the most relevant predictors to improve performance."
   ]
  },
  {
   "cell_type": "code",
   "execution_count": 77,
   "id": "c725a2c2-6fd6-40d4-bf5b-e545489abeee",
   "metadata": {},
   "outputs": [
    {
     "name": "stdout",
     "output_type": "stream",
     "text": [
      "# Total Features:  93\n"
     ]
    }
   ],
   "source": [
    "# number of features (after one-hot encoding and other preprocessing) - used as a reference point\n",
    "print(\"# Total Features: \", len(all_feature_names))"
   ]
  },
  {
   "cell_type": "code",
   "execution_count": 78,
   "id": "4a105084-89a2-43a2-a715-5c2b08e7b6b6",
   "metadata": {},
   "outputs": [],
   "source": [
    "# sort features by importance in descending order\n",
    "indices = np.argsort(importances)[::-1]"
   ]
  },
  {
   "cell_type": "code",
   "execution_count": 79,
   "id": "62bf5f5d-9584-4587-8824-a6c0ef35ad54",
   "metadata": {},
   "outputs": [],
   "source": [
    "# select the top 30 features\n",
    "top_30_indices = indices[:30]"
   ]
  },
  {
   "cell_type": "code",
   "execution_count": 80,
   "id": "7a985fd5-9921-4a4d-a969-a937df6aa0d8",
   "metadata": {},
   "outputs": [],
   "source": [
    "# get the names of the top 30 features\n",
    "top_30_feature_names = [all_feature_names[i] for i in top_30_indices]"
   ]
  },
  {
   "cell_type": "code",
   "execution_count": 81,
   "id": "5835dc68-48c5-407e-9d0c-0726cbce3801",
   "metadata": {},
   "outputs": [
    {
     "name": "stdout",
     "output_type": "stream",
     "text": [
      "# Selected Features (Top 30):  30\n",
      "Selected Features (Top 30):  ['amt', 'time_of_day_evening', 'time_of_day_night', 'category_shopping_net', 'time_of_day_morning', 'year_2020', 'category_grocery_pos', 'gender_M', 'day_of_week_6', 'category_gas_transport', 'day_of_week_1', 'category_misc_net', 'month_12', 'category_kids_pets', 'day_of_week_5', 'day_of_week_3', 'day_of_week_4', 'category_health_fitness', 'category_home', 'category_personal_care', 'category_shopping_pos', 'age', 'category_misc_pos', 'category_food_dining', 'category_travel', 'category_grocery_net', 'day_of_week_2', 'month_2', 'month_7', 'month_5']\n"
     ]
    }
   ],
   "source": [
    "# print the number of features and a list of the features\n",
    "print('# Selected Features (Top 30): ', len(top_30_feature_names))\n",
    "print('Selected Features (Top 30): ', top_30_feature_names)"
   ]
  },
  {
   "cell_type": "markdown",
   "id": "5c61036c-94cb-43a0-89c2-1c21a294ca2e",
   "metadata": {},
   "source": [
    "The selection of 30 features is a substantial reduction from the original 93 features produced during data preprocessing.\n",
    "\n",
    "The selected features align with trends observed during exploratory data analysis. For example, transaction categories such as \n",
    "'shopping_net' and 'grocery_pos,' which exhibited a relative risk higher than the global fraud rate, are included in the final feature set. Similarly, the boxplots comparing fraud status by transaction amount revealed notable distribution differences, an observation validated by the inclusion of 'amt' as a key feature.\n",
    "\n",
    "A custom transformer is created below to reduce the dataset to these selected features. This can be applied to the training, validation, and test sets, as well as any new data introduced to the model in the future."
   ]
  },
  {
   "cell_type": "code",
   "execution_count": 82,
   "id": "93b10a3e-959c-4eaa-b65a-e9864c5ddd5c",
   "metadata": {},
   "outputs": [],
   "source": [
    "# create custom transformer for selecting features\n",
    "class FeatureSelection(BaseEstimator, TransformerMixin):\n",
    "    def __init__(self):\n",
    "        # store the top 30 feature indices\n",
    "        self.top_30_indices = top_30_indices\n",
    "\n",
    "    def fit(self, X, y=None):\n",
    "        # no fitting necessary for this transformation\n",
    "        return self\n",
    "\n",
    "    def transform(self, array):\n",
    "        #transform array to select only the top 30 features\n",
    "        return array[:, self.top_30_indices]"
   ]
  },
  {
   "cell_type": "code",
   "execution_count": 83,
   "id": "88e1fb1a-32bf-48ac-b8a9-98020ee21bb5",
   "metadata": {},
   "outputs": [],
   "source": [
    "# create instance of FeatureSelection class\n",
    "feature_selection = FeatureSelection()"
   ]
  },
  {
   "cell_type": "markdown",
   "id": "6dc8142e-59e5-4ef6-a25f-45a10da809e2",
   "metadata": {},
   "source": [
    "### Feature Scaling"
   ]
  },
  {
   "cell_type": "markdown",
   "id": "d6f742ed-7648-4d6f-8f7f-d81af48e1b89",
   "metadata": {},
   "source": [
    "Machine learning algorithms may underperform when numerical attributes have widely varying ranges. This can lead to algorithms disproportionately focusing on features with larger values, while underweighting smaller ones.\n",
    "\n",
    "To mitigate this issue, the data will be scaled using Sci-Kit Learn's MinMaxScaler(), which adjusts each feature to a range between 0 and 1. This adjustment primarily affects numeric data, as categorical features have already been one-hot encoded to values of 0 and 1. The scaler will be integrated into a pipeline alongside the feature selector, ensuring that all variables are on a comparable scale."
   ]
  },
  {
   "cell_type": "code",
   "execution_count": 84,
   "id": "6e042844-d3b2-4377-96ea-554151aaeebc",
   "metadata": {},
   "outputs": [],
   "source": [
    "# define strategy for feature scaling\n",
    "scaler = MinMaxScaler()"
   ]
  },
  {
   "cell_type": "markdown",
   "id": "76f82732-c80a-44cc-9134-9eaa314db9bc",
   "metadata": {},
   "source": [
    "### Feature Selection & Scaling Pipeline"
   ]
  },
  {
   "cell_type": "markdown",
   "id": "b91454ae-b3b2-4a20-b9aa-5a54dbd7719a",
   "metadata": {},
   "source": [
    "This pipeline consolidates the feature selection and scaling steps, enabling consistent application across multiple datasets. By streamlining these processes into a single pipeline, it reduces the need for repetitive code and ensures uniform preprocessing for all data used in the machine learning models."
   ]
  },
  {
   "cell_type": "code",
   "execution_count": 85,
   "id": "43535806-faca-4319-9e63-354a94790023",
   "metadata": {},
   "outputs": [],
   "source": [
    "# create feature selection & scaling pipeline\n",
    "feature_selection_scaling_pipeline = make_pipeline(\n",
    "    feature_selection,\n",
    "    scaler\n",
    ")"
   ]
  },
  {
   "cell_type": "markdown",
   "id": "1f8bf98b-fb68-4da2-b834-5f3cf2c7c34f",
   "metadata": {},
   "source": [
    "### Feature Selection & Scaling Transformation: Training & Validation Data"
   ]
  },
  {
   "cell_type": "markdown",
   "id": "443a9c68-2cb8-46eb-905b-bbaba0ee985f",
   "metadata": {},
   "source": [
    "The training data is both fit and transformed with the feature selection and scaling pipeline because the model needs to learn the scaling parameters (such as minimum and maximum values) and feature selection criteria from the training set. This \"fitting\" step allows the pipeline to capture the characteristics of the training data. After fitting, the same transformation is applied to the training data to ensure it's prepared for model training.\n",
    "\n",
    "In contrast, for validation (and test) data, the pipeline only applies the transformation, using the parameters learned from the training data. This ensures that the validation data is treated consistently without influencing the scaling or feature selection process, which must remain independent to provide an unbiased evaluation of the model's performance."
   ]
  },
  {
   "cell_type": "code",
   "execution_count": 86,
   "id": "2d28c9af-4e29-4ee3-ba49-04d945ff8526",
   "metadata": {},
   "outputs": [],
   "source": [
    "# fit and transform training data using feature selection & scaling pipeline\n",
    "X_train_scaled = feature_selection_scaling_pipeline.fit_transform(X_train_resampled)"
   ]
  },
  {
   "cell_type": "code",
   "execution_count": 87,
   "id": "82ed9936-423c-45a7-b500-a3e37f4f272a",
   "metadata": {},
   "outputs": [],
   "source": [
    "# transform validation data using feature selection & scaling pipeline\n",
    "X_val_scaled = feature_selection_scaling_pipeline.transform(X_val)"
   ]
  },
  {
   "cell_type": "markdown",
   "id": "bb2d7b05-a294-4682-98b2-467032fc40e3",
   "metadata": {},
   "source": [
    "## Shortlist Promising Models <a class='anchor' id='shortlist'></a>"
   ]
  },
  {
   "cell_type": "markdown",
   "id": "223f2b21-ec63-46d6-8356-0a8d72a850f1",
   "metadata": {},
   "source": [
    "[Click Here to Return to Top](#top)"
   ]
  },
  {
   "cell_type": "markdown",
   "id": "38c909ca-9623-4c01-b8f0-55f9975d6fab",
   "metadata": {},
   "source": [
    "The following models were developed for evaluation prior to the final model selection:\n",
    "1. Logistic Regression Classifier\n",
    "2. XGBoost Classifier\n",
    "3. Neural Network Classifier"
   ]
  },
  {
   "cell_type": "markdown",
   "id": "c91fa941-2c81-4b2b-a599-bee596a48f58",
   "metadata": {},
   "source": [
    "### Model Fitting"
   ]
  },
  {
   "cell_type": "markdown",
   "id": "2481bc64-27a9-45f1-a8f9-6b23429517f3",
   "metadata": {},
   "source": [
    "First, each model is instantiated, and RandomizedSearchCV is utilized to identify the optimal hyperparameters—configuration settings that influence how the model learns from data and makes predictions. Each section includes a brief description of the model and the corresponding hyperparameters being tuned.\n",
    "\n",
    "Next, each model is trained using the selected best hyperparameters. The trained models are then used to generate predictions and compute evaluation metrics in the subsequent section."
   ]
  },
  {
   "cell_type": "markdown",
   "id": "3038b6f3-e548-4935-8a47-85fcf47319d7",
   "metadata": {},
   "source": [
    "#### Logistic Regression Model"
   ]
  },
  {
   "cell_type": "markdown",
   "id": "7a785881-7420-4079-be02-b96102a54a7a",
   "metadata": {},
   "source": [
    "Logistic regression is a statistical method used for binary classification tasks. It models the probability that a given input belongs to a particular category based on one or more predictor variables. The algorithm applies a logistic function to transform its output into a probability value between 0 and 1, allowing for clear decision boundaries between classes (Hosmer & Lemeshow, 2000)."
   ]
  },
  {
   "cell_type": "code",
   "execution_count": 88,
   "id": "c0436025-dc03-4a99-834a-bff23c9e4f9e",
   "metadata": {},
   "outputs": [],
   "source": [
    "# instantiate logistic regression class\n",
    "log_clf = LogisticRegression(\n",
    "    # starting value for inverse regularization strength\n",
    "    C=1.0, \n",
    "    # random_state for reproducibility\n",
    "    random_state=42,\n",
    "    # solver optimized for larger dataset\n",
    "    solver='saga',\n",
    "    # starting value uses a higher number of iterations for convergence due dataset size\n",
    "    max_iter=300          \n",
    ")"
   ]
  },
  {
   "cell_type": "markdown",
   "id": "3d28d478-ccb4-40c5-864b-9dd5b23b0dc6",
   "metadata": {},
   "source": [
    "For this model, the following hyperparameters are tuned:\n",
    "1. 'C': Controls the inverse of the regularization strength.\n",
    "    - Smaller values increase regularization, which helps reduce overfitting by penalizing overly complex models.\n",
    "2. 'max_iter': Sets the maximum number of iterations the solver will run to find a solution.\n",
    "    - Higher values help ensure convergence, particularly for larger datasets.\n",
    "3. 'class_weight': Manages class imbalance in the dataset.\n",
    "    - 'balanced': Automatically adjusts weights inversely proportional to class frequencies.\n",
    "    - 'None': No adjustments to class weights."
   ]
  },
  {
   "cell_type": "code",
   "execution_count": 89,
   "id": "85acb7e1-6522-435a-a1f5-bae3d307a02a",
   "metadata": {},
   "outputs": [],
   "source": [
    "# define hyperparameter grid for logistic regression model\n",
    "log_param_grid = {\n",
    "    'C': [0.001, 0.01, 0.1, 1.0, 10.0, 100.0],\n",
    "    'max_iter': [100, 300, 500],\n",
    "    'class_weight': ['balanced', None]\n",
    "}"
   ]
  },
  {
   "cell_type": "markdown",
   "id": "ffeba396-efcb-46f0-a2a4-bd744997bab0",
   "metadata": {},
   "source": [
    "RandomizedSearchCV is used to identify optimal hyperparameters, which influence how the model learns and predicts."
   ]
  },
  {
   "cell_type": "code",
   "execution_count": 90,
   "id": "ec822bf5-8c37-4c44-860c-62c4ab15ace9",
   "metadata": {},
   "outputs": [],
   "source": [
    "# perform randomized search to tune hyperparameters\n",
    "log_random_search = RandomizedSearchCV(\n",
    "    estimator=log_clf,\n",
    "    param_distributions=log_param_grid,\n",
    "    n_iter=10,\n",
    "    cv=3,\n",
    "    random_state=42,\n",
    "    n_jobs=-1 \n",
    ")"
   ]
  },
  {
   "cell_type": "code",
   "execution_count": 91,
   "id": "bdb1afad-b362-438c-80b7-6e952e679f6d",
   "metadata": {},
   "outputs": [],
   "source": [
    "# fit model (un-comment to re-run)\n",
    "## log_random_search.fit(X_train_scaled, y_train_resampled)"
   ]
  },
  {
   "cell_type": "markdown",
   "id": "4ef84698-53f4-40ee-94da-aed469b6d0c3",
   "metadata": {},
   "source": [
    "The best parameters are reviewed before saving the model with those settings. Lastly, the optimized model is trained on the full training dataset."
   ]
  },
  {
   "cell_type": "code",
   "execution_count": 92,
   "id": "a5337e44-f3de-41e8-9c58-d5c67c2df0c8",
   "metadata": {},
   "outputs": [],
   "source": [
    "# save best parameters (un-comment to re-run)\n",
    "## log_best_params = log_random_search.best_params_"
   ]
  },
  {
   "cell_type": "code",
   "execution_count": 93,
   "id": "9b52fb75-4ae2-4e41-a9b9-59cb22408e99",
   "metadata": {},
   "outputs": [],
   "source": [
    "# retrieve best parameters\n",
    "log_best_params = loaded_variables['log_best_params']"
   ]
  },
  {
   "cell_type": "code",
   "execution_count": 94,
   "id": "41467e6e-cf09-499f-ba6d-262c9cae5cdc",
   "metadata": {},
   "outputs": [
    {
     "name": "stdout",
     "output_type": "stream",
     "text": [
      "Best Logistic Regression Parameters: {'max_iter': 500, 'class_weight': None, 'C': 100.0}\n"
     ]
    }
   ],
   "source": [
    "# print best parameters\n",
    "print(\"Best Logistic Regression Parameters:\", log_best_params)"
   ]
  },
  {
   "cell_type": "code",
   "execution_count": 95,
   "id": "b7108fc5-2966-4059-88b0-3ea7e153b759",
   "metadata": {},
   "outputs": [],
   "source": [
    "# save best model (un-comment to re-run)\n",
    "## best_log_clf = log_random_search.best_estimator_"
   ]
  },
  {
   "cell_type": "code",
   "execution_count": 96,
   "id": "cba1d268-bb7f-4b54-91fc-d84f81f43990",
   "metadata": {},
   "outputs": [],
   "source": [
    "# train best model (un-comment to re-run)\n",
    "## best_log_clf.fit(X_train_scaled, y_train_resampled)"
   ]
  },
  {
   "cell_type": "code",
   "execution_count": 97,
   "id": "fb2104ca-65e3-48bc-a0c8-3297cafe2f5a",
   "metadata": {},
   "outputs": [],
   "source": [
    "# store trained model (un-comment to re-run)\n",
    "## best_log_clf = joblib.dump(best_log_clf, 'models/best_log_clf.pkl')"
   ]
  },
  {
   "cell_type": "code",
   "execution_count": 98,
   "id": "9743aeaf-e3d2-467f-a6d9-5709131c9e75",
   "metadata": {},
   "outputs": [],
   "source": [
    "# load trained model\n",
    "best_log_clf = joblib.load('models/best_log_clf.pkl')"
   ]
  },
  {
   "cell_type": "markdown",
   "id": "02763eae-6e36-4073-96f7-da54165d9e5d",
   "metadata": {},
   "source": [
    "The following code generates predictions for both training and validation sets to compute performance metrics. StratifiedKFold conducts cross-validation similar to that used in RandomizedSearchCV, splitting the training and validation data into five subsets. Each subset is utilized to make predictions and compute metrics. The average results are then saved for comparison with other models later."
   ]
  },
  {
   "cell_type": "code",
   "execution_count": 99,
   "id": "40d86572-cf59-4251-b70f-68e0e8d78491",
   "metadata": {},
   "outputs": [],
   "source": [
    "# define cross-validation strategy\n",
    "cv = StratifiedKFold(n_splits=5, shuffle=True, random_state=42)"
   ]
  },
  {
   "cell_type": "code",
   "execution_count": 100,
   "id": "7e7d069b-b0ea-4dcc-81cd-332b3a30bc9d",
   "metadata": {},
   "outputs": [],
   "source": [
    "# generate training and validation predictions (binary class for accuracy, precision, recall, and F1) (un-comment to re-run)\n",
    "## log_train_preds = cross_val_predict(best_log_clf, X_train_scaled, y_train_resampled, cv=cv, method='predict') > 0.5\n",
    "## log_val_preds = cross_val_predict(best_log_clf, X_val_scaled, y_val, cv=cv, method='predict') > 0.5"
   ]
  },
  {
   "cell_type": "code",
   "execution_count": 101,
   "id": "1b39ab03-70db-4a31-863e-9a32310a383b",
   "metadata": {},
   "outputs": [],
   "source": [
    "# retrieve training and validation predictions\n",
    "log_train_preds = loaded_variables['log_train_preds']\n",
    "log_val_preds = loaded_variables['log_val_preds']"
   ]
  },
  {
   "cell_type": "code",
   "execution_count": 102,
   "id": "089634ba-3368-4a5e-aa97-66f4e9b5e894",
   "metadata": {},
   "outputs": [],
   "source": [
    "# generate training and validation prediction probabilities (probabilities for AUC) (un-comment to to re-run)\n",
    "## log_train_probs = cross_val_predict(best_log_clf, X_train_scaled, y_train_resampled, cv=cv, method='predict_proba')[:, 1]\n",
    "## log_val_probs = cross_val_predict(best_log_clf, X_val_scaled, y_val, cv=cv, method='predict_proba')[:, 1]"
   ]
  },
  {
   "cell_type": "code",
   "execution_count": 103,
   "id": "5c9dfaf7-909b-4a26-a03a-caf80ebfdf86",
   "metadata": {},
   "outputs": [],
   "source": [
    "# retrieve training and validation prediction probabilities\n",
    "log_train_probs = loaded_variables['log_train_probs']\n",
    "log_val_probs = loaded_variables['log_val_probs']"
   ]
  },
  {
   "cell_type": "code",
   "execution_count": 104,
   "id": "85a0972f-298f-4f1c-a316-492f5a77b942",
   "metadata": {},
   "outputs": [],
   "source": [
    "# save average cross-validated training metrics (un-comment to re-run)\n",
    "## log_train_accuracy = cross_val_score(best_log_clf, X_train_scaled, y_train_resampled, cv=cv, scoring='accuracy').mean()\n",
    "## log_train_precision = cross_val_score(best_log_clf, X_train_scaled, y_train_resampled, cv=cv, scoring='precision').mean()\n",
    "## log_train_recall = cross_val_score(best_log_clf, X_train_scaled, y_train_resampled, cv=cv, scoring='recall').mean()\n",
    "## log_train_f1 = cross_val_score(best_log_clf, X_train_scaled, y_train_resampled, cv=cv, scoring='f1').mean()\n",
    "## log_train_auc = cross_val_score(best_log_clf, X_train_scaled, y_train_resampled, cv=cv, scoring='roc_auc').mean()"
   ]
  },
  {
   "cell_type": "code",
   "execution_count": 105,
   "id": "d2ea868b-573c-4aeb-a9ba-618f40979e8e",
   "metadata": {},
   "outputs": [],
   "source": [
    "# retrieve average cross-validated validation metrics\n",
    "log_train_accuracy = loaded_variables['log_train_accuracy']\n",
    "log_train_precision = loaded_variables['log_train_precision']\n",
    "log_train_recall = loaded_variables['log_train_recall']\n",
    "log_train_f1 = loaded_variables['log_train_f1']\n",
    "log_train_auc = loaded_variables['log_train_auc']"
   ]
  },
  {
   "cell_type": "code",
   "execution_count": 106,
   "id": "3f0981b3-f9bc-42a8-85ae-934828444493",
   "metadata": {},
   "outputs": [],
   "source": [
    "# save average cross-validated validation metrics (un-comment to re-run)\n",
    "## log_val_accuracy = cross_val_score(best_log_clf, X_val_scaled, y_val, cv=cv, scoring='accuracy').mean()\n",
    "## log_val_precision = cross_val_score(best_log_clf, X_val_scaled, y_val, cv=cv, scoring='precision').mean()\n",
    "## log_val_recall = cross_val_score(best_log_clf, X_val_scaled, y_val, cv=cv, scoring='recall').mean()\n",
    "## log_val_f1 = cross_val_score(best_log_clf, X_val_scaled, y_val, cv=cv, scoring='f1').mean()\n",
    "## log_val_auc = cross_val_score(best_log_clf, X_val_scaled, y_val, cv=cv, scoring='roc_auc').mean()"
   ]
  },
  {
   "cell_type": "code",
   "execution_count": 107,
   "id": "14a54214-08ea-4433-9a92-a547f8a95912",
   "metadata": {},
   "outputs": [],
   "source": [
    "# retrieve average cross-validated validation metrics\n",
    "log_val_accuracy = loaded_variables['log_val_accuracy']\n",
    "log_val_precision = loaded_variables['log_val_precision']\n",
    "log_val_recall = loaded_variables['log_val_recall']\n",
    "log_val_f1 = loaded_variables['log_val_f1']\n",
    "log_val_auc = loaded_variables['log_val_auc']"
   ]
  },
  {
   "cell_type": "markdown",
   "id": "7b6afbe1-2a86-4ffe-9a8a-7714af52e78a",
   "metadata": {},
   "source": [
    "#### XGBoost Model"
   ]
  },
  {
   "cell_type": "markdown",
   "id": "7a8e306e-fc24-4537-917a-a7c7f0d1314a",
   "metadata": {},
   "source": [
    "XGBoost (Extreme Gradient Boosting) is an advanced implementation of gradient boosting designed for efficiency and performance. It builds an ensemble of decision trees, optimizing the model through techniques like regularization and parallel processing. This approach allows XGBoost to handle large datasets and complex relationships effectively, making it a popular choice for many classification problems (Chen & Guestrin, 2016)."
   ]
  },
  {
   "cell_type": "code",
   "execution_count": 108,
   "id": "05a911db-6cee-4c16-99cd-a6d8efb8724a",
   "metadata": {},
   "outputs": [],
   "source": [
    "# instantiate XGBoost class\n",
    "xgb_clf = XGBClassifier(\n",
    "    # specify binary classification objective\n",
    "    objective='binary:logistic',\n",
    "    # measure performance for a classifier with probability outputs between 0 and 1\n",
    "    eval_metric='logloss',\n",
    "    # random_state for reproducibility\n",
    "    random_state=42\n",
    ")"
   ]
  },
  {
   "cell_type": "markdown",
   "id": "d229a9a1-5474-48b5-85ed-a8edd0552ec4",
   "metadata": {},
   "source": [
    "For this model, the following hyperparameters are tuned:\n",
    "1. 'n_estimators': Specifies the number of boosting rounds or trees to be created.\n",
    "    - A higher number of estimators can enhance model performance by allowing more complex relationships to be captured, but it also increases the risk of overfitting, especially with limited data.\n",
    "2. 'learning_rate': Controls the step size at each iteration while moving toward a minimum of the loss function.\n",
    "    - Smaller values lead to more cautious updates, requiring more boosting rounds to converge. This can improve model performance but also increases training time.\n",
    "3. 'max_depth': Sets the maximum depth of each tree.\n",
    "    - Deeper trees can capture more complex relationships within the data but may also lead to overfitting. This parameter helps control the model's complexity and generalization ability.\n",
    "4. 'min_child_weight': Defines the minimum sum of instance weight (hessian) needed in a child.\n",
    "    - This parameter helps prevent overfitting by ensuring that leaves in the trees contain a minimum amount of data, making the model more robust against noise.\n",
    "5. 'subsample': Represents the fraction of samples to be used for each tree.\n",
    "    - Values below 1.0 can prevent overfitting by introducing randomness into the training process. Lower values can lead to faster training times and improved generalization.\n",
    "6. 'colsample_bytree': Specifies the fraction of features to be used for constructing each tree.\n",
    "    - This parameter helps improve model robustness and reduces overfitting by ensuring that the model does not rely on any single feature too heavily, allowing for more diverse trees.\n",
    "7. 'reg_alpha': L1 regularization term on weights.\n",
    "    - This parameter controls the L1 regularization applied to leaf weights. Increasing reg_alpha can lead to sparser models by penalizing large coefficients, helping prevent overfitting and improve generalization.\n",
    "8. 'reg_lambda': L2 regularization term on weights.\n",
    "    - L2 regularization helps control the size of the leaf weights, reducing the likelihood of overfitting. Higher values of reg_lambda encourage smaller weights, making the model less sensitive to small fluctuations in the data.\n",
    "9. 'gamma': Minimum loss reduction required to make a further partition on a leaf node.\n",
    "    - Higher values of gamma make the algorithm more conservative by requiring a larger reduction in the loss function before splitting, which helps prevent overfitting by controlling tree complexity."
   ]
  },
  {
   "cell_type": "code",
   "execution_count": 109,
   "id": "03dad7b3-8b2c-4659-a3e4-d570119e181d",
   "metadata": {},
   "outputs": [],
   "source": [
    "# define hyperparameter grid for XGBoost model\n",
    "xgb_param_grid = {\n",
    "    'n_estimators': [250, 270, 280],  \n",
    "    'learning_rate': [0.1, 0.15],  \n",
    "    'max_depth': [5, 6],         \n",
    "    'min_child_weight': [5, 8],  \n",
    "    'subsample': [0.8, 0.9, 0.95],     \n",
    "    'colsample_bytree': [0.8, 0.85],  \n",
    "    'reg_alpha': [0.15, 0.2],     \n",
    "    'reg_lambda': [1, 2, 3],      \n",
    "    'gamma': [0.1, 0.2],           \n",
    "}"
   ]
  },
  {
   "cell_type": "markdown",
   "id": "4bd81871-8ecb-4c9a-bc62-0c71dc45890e",
   "metadata": {},
   "source": [
    "The same RandomizedSearchCV procedure applied to the Logistic Regression model is used to identify optimal hyperparameters for the XGBoost model."
   ]
  },
  {
   "cell_type": "code",
   "execution_count": 110,
   "id": "2aa7bc16-d082-4865-a057-993b9fc0023f",
   "metadata": {},
   "outputs": [],
   "source": [
    "# perform randomized search to tune hyperparameters\n",
    "xgb_random_search = RandomizedSearchCV(\n",
    "    estimator=xgb_clf,\n",
    "    param_distributions=xgb_param_grid,\n",
    "    n_iter=10,\n",
    "    cv=3,\n",
    "    random_state=42,\n",
    "    n_jobs=-1\n",
    ")"
   ]
  },
  {
   "cell_type": "code",
   "execution_count": 111,
   "id": "7a6ef3fb-c4a0-4d9e-afdb-833bcc788ad9",
   "metadata": {},
   "outputs": [],
   "source": [
    "# fit model (un-comment to re-run)\n",
    "## xgb_random_search.fit(X_train_scaled, y_train_resampled)"
   ]
  },
  {
   "cell_type": "markdown",
   "id": "0eb27eec-566d-4233-a31f-9702e10a46a2",
   "metadata": {},
   "source": [
    "The best parameters are reviewed before saving the model with those settings. Lastly, the optimized model is trained on the full training dataset."
   ]
  },
  {
   "cell_type": "code",
   "execution_count": 112,
   "id": "fd8b1689-97a2-4aa3-b3bb-6489510a0dd4",
   "metadata": {},
   "outputs": [],
   "source": [
    "# save best parameters (un-comment to re-run)\n",
    "## xgb_best_params = xgb_random_search.best_params_"
   ]
  },
  {
   "cell_type": "code",
   "execution_count": 113,
   "id": "67a32cab-9877-46e4-9a00-0fbb8d880027",
   "metadata": {},
   "outputs": [],
   "source": [
    "# retrieve best parameters\n",
    "xgb_best_params = loaded_variables['xgb_best_params']"
   ]
  },
  {
   "cell_type": "code",
   "execution_count": 114,
   "id": "72bbef33-15d8-4ecd-9706-3d287b613019",
   "metadata": {},
   "outputs": [
    {
     "name": "stdout",
     "output_type": "stream",
     "text": [
      "Best XGBoost Parameters: {'subsample': 0.8, 'reg_lambda': 1, 'reg_alpha': 0.15, 'n_estimators': 270, 'min_child_weight': 5, 'max_depth': 6, 'learning_rate': 0.15, 'gamma': 0.2, 'colsample_bytree': 0.85}\n"
     ]
    }
   ],
   "source": [
    "# print best parameters\n",
    "print(\"Best XGBoost Parameters:\", xgb_best_params)"
   ]
  },
  {
   "cell_type": "code",
   "execution_count": 115,
   "id": "3290f800-999a-4f1e-9f51-15bce143d093",
   "metadata": {},
   "outputs": [],
   "source": [
    "# save best model (un-comment to re-run)\n",
    "## best_xgb_clf = xgb_random_search.best_estimator_"
   ]
  },
  {
   "cell_type": "code",
   "execution_count": 116,
   "id": "675e6345-98c1-4011-a46f-f241e27256fc",
   "metadata": {},
   "outputs": [],
   "source": [
    "# train best model (un-comment to re-run)\n",
    "## best_xgb_clf.fit(X_train_scaled, y_train_resampled)"
   ]
  },
  {
   "cell_type": "code",
   "execution_count": 117,
   "id": "ece8f7e8-7e28-44c3-ad01-31447b4ab609",
   "metadata": {},
   "outputs": [],
   "source": [
    "# store trained model (un-comment to re-run)\n",
    "## best_xgb_clf = joblib.dump(best_xgb_clf, 'models/best_xgb_clf.pkl')"
   ]
  },
  {
   "cell_type": "code",
   "execution_count": 118,
   "id": "08a47fdf-106d-45e6-8c3b-524d6818a4a7",
   "metadata": {},
   "outputs": [],
   "source": [
    "# load trained model\n",
    "best_xgb_clf = joblib.load('models/best_xgb_clf.pkl')"
   ]
  },
  {
   "cell_type": "markdown",
   "id": "887208c4-5145-4988-9ae3-506abb8a5910",
   "metadata": {},
   "source": [
    "The same cross validation procedure applied to the Logistic Regression model is utilized to make predictions and compute metrics for the XGBoost model."
   ]
  },
  {
   "cell_type": "code",
   "execution_count": 119,
   "id": "f92f6785-6d12-4a9c-8bc3-aa4e29d8b8c5",
   "metadata": {},
   "outputs": [],
   "source": [
    "# generate training and validation predictions (binary class for accuracy, precision, recall, and F1) (un-comment to re-run)\n",
    "## xgb_train_preds = cross_val_predict(best_xgb_clf, X_train_scaled, y_train_resampled, cv=cv, method='predict') > 0.5\n",
    "## xgb_val_preds = cross_val_predict(best_xgb_clf, X_val_scaled, y_val, cv=cv, method='predict') > 0.5"
   ]
  },
  {
   "cell_type": "code",
   "execution_count": 120,
   "id": "fec2d105-59c1-4d1f-b3b4-75fedb9148cb",
   "metadata": {},
   "outputs": [],
   "source": [
    "# retrieve training and validation predictions\n",
    "xgb_train_preds = loaded_variables['xgb_train_preds']\n",
    "xgb_val_preds = loaded_variables['xgb_val_preds']"
   ]
  },
  {
   "cell_type": "code",
   "execution_count": 121,
   "id": "1ea077e5-c01b-4942-babe-e532ea6bbbb4",
   "metadata": {},
   "outputs": [],
   "source": [
    "# generate training and validation prediction probabilities (probabilities for AUC) (un-comment to re-run)\n",
    "## xgb_train_probs = cross_val_predict(best_xgb_clf, X_train_scaled, y_train_resampled, cv=cv, method='predict_proba')[:, 1]\n",
    "## xgb_val_probs = cross_val_predict(best_xgb_clf, X_val_scaled, y_val, cv=cv, method='predict_proba')[:, 1]"
   ]
  },
  {
   "cell_type": "code",
   "execution_count": 122,
   "id": "fa326899-bc3f-4f47-8770-93cf54f9e7c1",
   "metadata": {},
   "outputs": [],
   "source": [
    "# retrieve training and validation prediction probabilities\n",
    "xgb_train_probs = loaded_variables['xgb_train_probs']\n",
    "xgb_val_probs = loaded_variables['xgb_val_probs']"
   ]
  },
  {
   "cell_type": "code",
   "execution_count": 123,
   "id": "e5da56af-521f-40a3-ac48-463643e12bc2",
   "metadata": {},
   "outputs": [],
   "source": [
    "# save average cross-validated training metrics (un-comment to re-run)\n",
    "## xgb_train_accuracy = cross_val_score(best_xgb_clf, X_train_scaled, y_train_resampled, cv=cv, scoring='accuracy').mean()\n",
    "## xgb_train_precision = cross_val_score(best_xgb_clf, X_train_scaled, y_train_resampled, cv=cv, scoring='precision').mean()\n",
    "## xgb_train_recall = cross_val_score(best_xgb_clf, X_train_scaled, y_train_resampled, cv=cv, scoring='recall').mean()\n",
    "## xgb_train_f1 = cross_val_score(best_xgb_clf, X_train_scaled, y_train_resampled, cv=cv, scoring='f1').mean()\n",
    "## xgb_train_auc = cross_val_score(best_xgb_clf, X_train_scaled, y_train_resampled, cv=cv, scoring='roc_auc').mean()"
   ]
  },
  {
   "cell_type": "code",
   "execution_count": 124,
   "id": "6d62847d-eafc-4486-b4f9-ca9df3f98935",
   "metadata": {},
   "outputs": [],
   "source": [
    "# retrieve average cross-validated training metrics\n",
    "xgb_train_accuracy = loaded_variables['xgb_train_accuracy']\n",
    "xgb_train_precision = loaded_variables['xgb_train_precision']\n",
    "xgb_train_recall = loaded_variables['xgb_train_recall']\n",
    "xgb_train_f1 = loaded_variables['xgb_train_f1']\n",
    "xgb_train_auc = loaded_variables['xgb_train_auc']"
   ]
  },
  {
   "cell_type": "code",
   "execution_count": 125,
   "id": "7d34bc20-7036-4751-b84b-a6a7b19e8d22",
   "metadata": {},
   "outputs": [],
   "source": [
    "# save average cross-validated validation metrics (un-comment to re-run)\n",
    "## xgb_val_accuracy = cross_val_score(best_xgb_clf, X_val_scaled, y_val, cv=cv, scoring='accuracy').mean()\n",
    "## xgb_val_precision = cross_val_score(best_xgb_clf, X_val_scaled, y_val, cv=cv, scoring='precision').mean()\n",
    "## xgb_val_recall = cross_val_score(best_xgb_clf, X_val_scaled, y_val, cv=cv, scoring='recall').mean()\n",
    "## xgb_val_f1 = cross_val_score(best_xgb_clf, X_val_scaled, y_val, cv=cv, scoring='f1').mean()\n",
    "## xgb_val_auc = cross_val_score(best_xgb_clf, X_val_scaled, y_val, cv=cv, scoring='roc_auc').mean()"
   ]
  },
  {
   "cell_type": "code",
   "execution_count": 126,
   "id": "3d60e85a-e576-4259-8946-a46071a557f0",
   "metadata": {},
   "outputs": [],
   "source": [
    "# retrieve average cross-validated training metrics\n",
    "xgb_val_accuracy = loaded_variables['xgb_val_accuracy']\n",
    "xgb_val_precision = loaded_variables['xgb_val_precision']\n",
    "xgb_val_recall = loaded_variables['xgb_val_recall']\n",
    "xgb_val_f1 = loaded_variables['xgb_val_f1']\n",
    "xgb_val_auc = loaded_variables['xgb_val_auc']"
   ]
  },
  {
   "cell_type": "markdown",
   "id": "c7031d6f-e9c7-4d6d-ae83-b2f9491955df",
   "metadata": {},
   "source": [
    "#### Neural Network Model"
   ]
  },
  {
   "cell_type": "markdown",
   "id": "1e9ae076-8e2a-4a9d-bf00-38146be984e7",
   "metadata": {},
   "source": [
    "Neural networks are a class of machine learning models inspired by the human brain's architecture. They consist of interconnected layers of nodes (neurons) that process input data through nonlinear transformations. By adjusting the weights of connections based on training data, neural networks can capture intricate patterns and relationships in the data, making them well-suited for a wide range of tasks, including classification (Goodfellow, Bengio, & Courville, 2016)."
   ]
  },
  {
   "cell_type": "code",
   "execution_count": 127,
   "id": "7ae377fb-3d3c-4f07-b3a3-5c184e339186",
   "metadata": {},
   "outputs": [],
   "source": [
    "# set random seed for reproducibility with TensorFlow\n",
    "tf.random.set_seed(42)"
   ]
  },
  {
   "cell_type": "code",
   "execution_count": 128,
   "id": "62b39451-8dbe-486b-8cd6-61cf68bcbeec",
   "metadata": {},
   "outputs": [],
   "source": [
    "# define function to create Keras model\n",
    "def create_nn_model(units=64, activation='relu', optimizer='adam'):\n",
    "    # instantiate Sequential object\n",
    "    model = Sequential()\n",
    "    # add input layer\n",
    "    model.add(Input(shape=(X_train_scaled.shape[1],)))\n",
    "    # add hidden layer\n",
    "    model.add(Dense(units, activation=activation))\n",
    "    # add dropout to reduce overfitting\n",
    "    model.add(Dropout(0.3))\n",
    "    # add output layer\n",
    "    model.add(Dense(1, activation='sigmoid'))\n",
    "    # compile model\n",
    "    model.compile(optimizer=optimizer, loss='binary_crossentropy', \n",
    "                  metrics=['accuracy', tf.keras.metrics.Precision(), tf.keras.metrics.Recall(), tf.keras.metrics.AUC(name='auc')])\n",
    "    return model"
   ]
  },
  {
   "cell_type": "code",
   "execution_count": 129,
   "id": "a9dbaf0b-fc7a-4ba3-9103-481bf9ffe4f1",
   "metadata": {},
   "outputs": [],
   "source": [
    "# create KerasClassifier (switch to model=create_nn_model if using an updated version of scikeras)\n",
    "nn_clf = KerasClassifier(build_fn=create_nn_model,\n",
    "                         # set default units as 64\n",
    "                         units=64, \n",
    "                         # set 'relu' as default activation\n",
    "                         activation='relu', \n",
    "                         # set 'adam' as default optimizer\n",
    "                         optimizer='adam',\n",
    "                         verbose=0)"
   ]
  },
  {
   "cell_type": "markdown",
   "id": "b2df7ddc-cd99-4877-83af-c7f03cf800c5",
   "metadata": {},
   "source": [
    "For this model, the following hyperparameters are tuned:\n",
    "1. 'model__units': Specifies the number of neurons in each layer of the neural network.\n",
    "    - Higher values allow the model to learn more complex representations of the data.\n",
    "    - Excessively large numbers can lead to overfitting, especially in smaller datasets.\n",
    "2. 'model__activation': Determines the activation function applied to each neuron, influencing how well the model captures complex patterns.\n",
    "    - Functions like 'relu' introduce non-linearity and help mitigate the vanishing gradient problem.\n",
    "    - Functions like 'tanh' can provide smoother gradients but may suffer from saturation. \n",
    "3. 'optimizer': Defines the optimization algorithm used to update model weights.\n",
    "    - Algorithms like 'adam' adapt the learning rate based on the average first and second moments of the gradients, providing a balance of speed and performance.\n",
    "    - The 'rmsprop'algorithm also adjusts learning rates but focuses on maintaining a moving average of the gradients.\n",
    "4. 'epochs': Represents the number of complete passes through the training dataset.\n",
    "    - More epochs allow the model to learn more from the data but can lead to overfitting if set too high without proper regularization.\n",
    "5. 'batch_size': Specifies the number of training examples utilized in one iteration.\n",
    "    - Smaller batch sizes often provide a more accurate estimate of the gradient and can help in generalization.\n",
    "    - Larger batch sizes may lead to faster training but can also result in poorer convergence due to noisier gradient estimates."
   ]
  },
  {
   "cell_type": "code",
   "execution_count": 130,
   "id": "ee5dc784-2173-469f-9fc4-769a76091fa6",
   "metadata": {},
   "outputs": [],
   "source": [
    "# define hyperparameter grid for neural network model\n",
    "nn_param_grid = {\n",
    "    'units': [32, 64, 128],\n",
    "    'activation': ['relu', 'tanh', 'sigmoid'],\n",
    "    'optimizer': ['adam', 'rmsprop'],\n",
    "    'epochs': [10, 15],\n",
    "    'batch_size': [64, 128]\n",
    "}"
   ]
  },
  {
   "cell_type": "markdown",
   "id": "09ccf38b-0f79-48d0-9f5a-485a5a1c970c",
   "metadata": {},
   "source": [
    "A similar randomized search is performed for the neural network model, with one addition: early stopping. \n",
    "\n",
    "Early Stopping is a regularization technique that monitors the model's performance on a validation dataset and halts training when performance begins to decline, instead of continuing for a predetermined number of epochs. The key benefits include:\n",
    "1. Optimal Model Selection: Training stops when the model reaches its peak performance, ensuring the best possible model is chosen.\n",
    "2. Time Savings: By terminating training early when an optimal model is identified, resources and time are conserved, enhancing efficiency.\n",
    "3. Overfitting Reduction: This technique helps prevent the model from learning noise in the training data, promoting better generalization to unseen data."
   ]
  },
  {
   "cell_type": "code",
   "execution_count": 131,
   "id": "646ec6e6-55ff-47b0-8bce-5c7b236b4bf8",
   "metadata": {},
   "outputs": [],
   "source": [
    "# define early stopping callback\n",
    "early_stopping = EarlyStopping(monitor='val_loss',\n",
    "                               patience=5,\n",
    "                               restore_best_weights=True)"
   ]
  },
  {
   "cell_type": "code",
   "execution_count": 132,
   "id": "d02de826-e712-4a10-9120-5ded95118dee",
   "metadata": {},
   "outputs": [],
   "source": [
    "# perform randomized search to tune hyperparameters\n",
    "nn_random_search = RandomizedSearchCV(\n",
    "    estimator=nn_clf,\n",
    "    param_distributions=nn_param_grid,\n",
    "    n_iter=10,\n",
    "    scoring='accuracy',\n",
    "    cv=3,\n",
    "    random_state=42,\n",
    "    n_jobs=-1\n",
    ")"
   ]
  },
  {
   "cell_type": "code",
   "execution_count": 133,
   "id": "e0825a2f-e356-4b0a-84f2-e8431d02157d",
   "metadata": {},
   "outputs": [],
   "source": [
    "# fit model (un-comment to re-run)\n",
    "## nn_random_search.fit(X_train_scaled, y_train_resampled, \n",
    "##                     validation_data=(X_val_scaled, y_val), \n",
    "##                     callbacks=[early_stopping])"
   ]
  },
  {
   "cell_type": "markdown",
   "id": "bc7e2e01-7634-44e0-95c3-fae9f4f527fb",
   "metadata": {},
   "source": [
    "The best parameters are reviewed before saving the model with those settings. Lastly, the optimized model is trained on the full training dataset."
   ]
  },
  {
   "cell_type": "code",
   "execution_count": 134,
   "id": "dab3f2cd-0bdd-49e0-a5c1-ccc5b3bd16aa",
   "metadata": {},
   "outputs": [],
   "source": [
    "# save best parameters (un-comment to re-run)\n",
    "## nn_best_params = nn_random_search.best_params_"
   ]
  },
  {
   "cell_type": "code",
   "execution_count": 135,
   "id": "8772099e-75cb-470c-b254-2da2c881ea6b",
   "metadata": {},
   "outputs": [],
   "source": [
    "# retrieve best parameters\n",
    "nn_best_params = loaded_variables['nn_best_params']"
   ]
  },
  {
   "cell_type": "code",
   "execution_count": 136,
   "id": "6bce84a6-69f1-48b0-aba5-5547fbfa10c7",
   "metadata": {},
   "outputs": [
    {
     "name": "stdout",
     "output_type": "stream",
     "text": [
      "Best Neural Network Parameters: {'units': 64, 'optimizer': 'rmsprop', 'epochs': 15, 'batch_size': 64, 'activation': 'relu'}\n"
     ]
    }
   ],
   "source": [
    "# print best parameters\n",
    "print(\"Best Neural Network Parameters:\", nn_best_params)"
   ]
  },
  {
   "cell_type": "code",
   "execution_count": 137,
   "id": "2caa8c0d-79bc-4aef-8024-0f4cf3ab63f4",
   "metadata": {},
   "outputs": [],
   "source": [
    "# save best model (un-comment to re-run)\n",
    "## best_nn_clf = nn_random_search.best_estimator_"
   ]
  },
  {
   "cell_type": "code",
   "execution_count": 138,
   "id": "45c9b435-8b4e-47d2-b637-c6177d17f51f",
   "metadata": {},
   "outputs": [],
   "source": [
    "# train best model (un-comment to re-run)\n",
    "## best_nn_clf.fit(X_train_scaled, y_train_resampled, validation_data=(X_val_scaled, y_val),\n",
    "##                epochs=best_nn_clf.get_params()['epochs'],\n",
    "##                batch_size=best_nn_clf.get_params()['batch_size'],\n",
    "##                callbacks=[early_stopping])"
   ]
  },
  {
   "cell_type": "code",
   "execution_count": 139,
   "id": "c2f1ae5b-a4fa-4819-96fe-bffe00dda2da",
   "metadata": {},
   "outputs": [],
   "source": [
    "# store trained model (un-comment to re-run)\n",
    "## best_nn_clf = joblib.dump(best_nn_clf, 'models/best_nn_clf.pkl')"
   ]
  },
  {
   "cell_type": "code",
   "execution_count": 140,
   "id": "48d323f6-1204-49e6-a95c-8867ebf33078",
   "metadata": {},
   "outputs": [],
   "source": [
    "# load trained model\n",
    "best_nn_clf = joblib.load('models/best_nn_clf.pkl')"
   ]
  },
  {
   "cell_type": "markdown",
   "id": "07091c31-2321-43e7-bba0-e0fec068eb9e",
   "metadata": {},
   "source": [
    "Neural network predictions and metrics are computed using the entire training and validation sets. While cross-validation enhances the ability to evaluate a model's generalization performance, it is less commonly applied to neural networks due to their high computational demands and extended training times. Consequently, omitting the cross-validation step for neural networks is a reasonable compromise, balancing the practicality of training with effective performance evaluation."
   ]
  },
  {
   "cell_type": "code",
   "execution_count": 141,
   "id": "36c7cd3a-02b1-4d4d-abfc-87e265289175",
   "metadata": {},
   "outputs": [],
   "source": [
    "# generate training and validation predictions (for accuracy, precision, recall, and F1) (un-comment to re-run)\n",
    "## nn_train_preds = best_nn_clf.predict(X_train_scaled) > 0.5\n",
    "## nn_val_preds = best_nn_clf.predict(X_val_scaled) > 0.5"
   ]
  },
  {
   "cell_type": "code",
   "execution_count": 142,
   "id": "9740fa84-8aeb-4d2d-bf71-078ebb0df779",
   "metadata": {},
   "outputs": [],
   "source": [
    "# retrieve training and validation predictions\n",
    "nn_train_preds = loaded_variables['nn_train_preds']\n",
    "nn_val_preds = loaded_variables['nn_val_preds']"
   ]
  },
  {
   "cell_type": "code",
   "execution_count": 143,
   "id": "117c234e-2a7c-47f1-b72c-2f522ccb6fe3",
   "metadata": {},
   "outputs": [],
   "source": [
    "# generate training and validation prediction probabilities (for AUC) (un-comment to re-run)\n",
    "## nn_train_probs = best_nn_clf.predict(X_train_scaled).flatten()\n",
    "## nn_val_probs = best_nn_clf.predict(X_val_scaled).flatten()"
   ]
  },
  {
   "cell_type": "code",
   "execution_count": 144,
   "id": "dc91ad1c-fbf9-4933-8683-de5b6e6cb017",
   "metadata": {},
   "outputs": [],
   "source": [
    "# retrieve training and validation prediction probabilities\n",
    "nn_train_probs = loaded_variables['nn_train_probs']\n",
    "nn_val_probs = loaded_variables['nn_val_probs']"
   ]
  },
  {
   "cell_type": "code",
   "execution_count": 145,
   "id": "a8b5b712-ef25-446a-b70f-c73018b51444",
   "metadata": {},
   "outputs": [],
   "source": [
    "# save training metrics (un-comment to re-run)\n",
    "## nn_train_accuracy = accuracy_score(y_train_resampled, nn_train_preds)\n",
    "## nn_train_precision = precision_score(y_train_resampled, nn_train_preds, pos_label=1)\n",
    "## nn_train_recall = recall_score(y_train_resampled, nn_train_preds, pos_label=1)\n",
    "## nn_train_f1 = f1_score(y_train_resampled, nn_train_preds, pos_label=1)\n",
    "## nn_train_auc = roc_auc_score(y_train_resampled, nn_train_probs)"
   ]
  },
  {
   "cell_type": "code",
   "execution_count": 146,
   "id": "b3e41c56-d26f-4842-a784-2a03140f42f6",
   "metadata": {},
   "outputs": [],
   "source": [
    "# retrieve training metrics\n",
    "nn_train_accuracy = loaded_variables['nn_train_accuracy']\n",
    "nn_train_precision = loaded_variables['nn_train_precision']\n",
    "nn_train_recall = loaded_variables['nn_train_recall']\n",
    "nn_train_f1 = loaded_variables['nn_train_f1']\n",
    "nn_train_auc = loaded_variables['nn_train_auc']"
   ]
  },
  {
   "cell_type": "code",
   "execution_count": 147,
   "id": "fe48c830-aea1-434c-a60d-fe0976a5caa1",
   "metadata": {},
   "outputs": [],
   "source": [
    "# save validation metrics (un-comment to re-run)\n",
    "## nn_val_accuracy = accuracy_score(y_val, nn_val_preds)\n",
    "## nn_val_precision = precision_score(y_val, nn_val_preds, pos_label=1)\n",
    "## nn_val_recall = recall_score(y_val, nn_val_preds, pos_label=1)\n",
    "## nn_val_f1 = f1_score(y_val, nn_val_preds, pos_label=1)\n",
    "## nn_val_auc = roc_auc_score(y_val, nn_val_probs)"
   ]
  },
  {
   "cell_type": "code",
   "execution_count": 148,
   "id": "d3485c1d-bd73-42d8-b95a-bc1b3b45487b",
   "metadata": {},
   "outputs": [],
   "source": [
    "# retrieve validation metrics\n",
    "nn_val_accuracy = loaded_variables['nn_val_accuracy']\n",
    "nn_val_precision = loaded_variables['nn_val_precision']\n",
    "nn_val_recall = loaded_variables['nn_val_recall']\n",
    "nn_val_f1 = loaded_variables['nn_val_f1']\n",
    "nn_val_auc = loaded_variables['nn_val_auc']"
   ]
  },
  {
   "cell_type": "markdown",
   "id": "17949cdc-cfc5-4e16-bfc6-73f8e8983e35",
   "metadata": {},
   "source": [
    "### Model Comparison"
   ]
  },
  {
   "cell_type": "markdown",
   "id": "550a7982-c202-41b7-83f4-5f4c58dc8133",
   "metadata": {},
   "source": [
    "As mentioned in the introduction, each model can make four types of predictions: True Positive, True Negative, False Positive, and False Negative. Confusion matrices visually display the number of predictions in each category.\n",
    "\n",
    "AUC (Area Under the Curve) graphs depict the performance of a classification model by illustrating the trade-off between true positive and false positive rates across various thresholds. A random model would follow the diagonal line, while a \"good\" model will have a curve that bows far above the diagonal, indicating better predictive performance.\n",
    "\n",
    "Below, confusion matrices and AUC curves are generated for each model, along with comments on the results."
   ]
  },
  {
   "cell_type": "code",
   "execution_count": 149,
   "id": "f64cc223-4a1f-413c-a4b0-42679bbe6f6f",
   "metadata": {},
   "outputs": [],
   "source": [
    "# calculate confusion matrices\n",
    "log_confusion = confusion_matrix(y_val, log_val_preds)\n",
    "xgb_confusion = confusion_matrix(y_val, xgb_val_preds)\n",
    "nn_confusion = confusion_matrix(y_val, nn_val_preds)"
   ]
  },
  {
   "cell_type": "code",
   "execution_count": 150,
   "id": "3586e4b3-225a-4daa-8b4a-f3e8456653c0",
   "metadata": {},
   "outputs": [],
   "source": [
    "# define labels\n",
    "labels = ['Legitimate', 'Fraudulent']"
   ]
  },
  {
   "cell_type": "code",
   "execution_count": 151,
   "id": "9357fb53-4bbf-4cbe-8bed-2f34806a69bd",
   "metadata": {},
   "outputs": [
    {
     "data": {
      "image/png": "[encoded data removed]",
      "text/plain": [
       "<Figure size 1800x1200 with 9 Axes>"
      ]
     },
     "metadata": {},
     "output_type": "display_data"
    }
   ],
   "source": [
    "# plot confusion matrices and AUC curves for all three models\n",
    "## set figure size\n",
    "fig, axes = plt.subplots(2, 3, figsize=(18, 12))\n",
    "\n",
    "## plot confusion matrix for Logistic Regression\n",
    "cmd(confusion_matrix=log_confusion, display_labels=labels).plot(ax=axes[0, 0], cmap='Blues', xticks_rotation='vertical')\n",
    "axes[0, 0].set_title('Logistic Regression')\n",
    "\n",
    "## plot confusion matrix for XGBoost\n",
    "cmd(confusion_matrix=xgb_confusion, display_labels=labels).plot(ax=axes[0, 1], cmap='Blues', xticks_rotation='vertical')\n",
    "axes[0, 1].set_title('XGBoost')\n",
    "\n",
    "## plot confusion matrix for Neural Network\n",
    "cmd(confusion_matrix=nn_confusion, display_labels=labels).plot(ax=axes[0, 2], cmap='Blues', xticks_rotation='vertical')\n",
    "axes[0, 2].set_title('Neural Network')\n",
    "\n",
    "## define function to plot AUC curves\n",
    "def plot_auc_curve(ax, y_true, y_probs, title):\n",
    "    fpr, tpr, _ = roc_curve(y_true, y_probs)\n",
    "    roc_auc = auc(fpr, tpr)\n",
    "    ax.plot(fpr, tpr, color='blue', label=f'AUC = {roc_auc:.2f}')\n",
    "    ax.plot([0, 1], [0, 1], color='red', linestyle='--')  # diagonal line\n",
    "    ax.set_xlim([0.0, 1.0])\n",
    "    ax.set_ylim([0.0, 1.0])\n",
    "    ax.set_xlabel('False Positive Rate')\n",
    "    ax.set_ylabel('True Positive Rate')\n",
    "    ax.set_title(title)\n",
    "    ax.legend(loc=\"lower right\")\n",
    "\n",
    "## plot AUC curve for Logistic Regression\n",
    "plot_auc_curve(axes[1, 0], y_val, log_val_probs, 'Logistic Regression AUC')\n",
    "\n",
    "## plot AUC curve for XGBoost\n",
    "plot_auc_curve(axes[1, 1], y_val, xgb_val_probs, 'XGBoost AUC')\n",
    "\n",
    "## plot AUC curve for Neural Network\n",
    "plot_auc_curve(axes[1, 2], y_val, nn_val_probs, 'Neural Network AUC')\n",
    "\n",
    "## set tight layout\n",
    "plt.tight_layout()\n",
    "\n",
    "## display plot\n",
    "plt.show()"
   ]
  },
  {
   "cell_type": "markdown",
   "id": "205e2691-f3f8-44bb-bf7f-eb2319a4dbd8",
   "metadata": {},
   "source": [
    "__Observations:__\n",
    "\n",
    "1. The three confusion matrices demonstrate strong performance in identifying true positives (legitimate predictions of actual legitimate transactions), which is expected given the class imbalance in the dataset.\n",
    "2. The logistic regression model struggles significantly with true negatives, correctly identifying only 53, while misclassifying 1,491 fraudulent transactions as legitimate (false negatives).\n",
    "3. The neural network model outperforms logistic regression in identifying true positives, correctly predicting 1,273; however, it has a higher number of total false positives and false negatives, including 1,663 legitimate transactions misclassified as fraudulent.\n",
    "4. The XGBoost model exhibits the best performance overall, correctly identifying 1,109 true positives and minimizing false predictions (108 false positives and 435 false negatives).\n",
    "5. The AUC curves reinforce that the XGBoost model is the most effective, as its curve hugs the left and upper sides of the graph, maximizing the area between the curve and the diagonal line representing random predictions. In contrast, the AUC curves for the other two models are closer to the diagonal, indicating weaker performance and less effective discrimination between classes."
   ]
  },
  {
   "cell_type": "markdown",
   "id": "0e59b0c7-5be4-4492-93d2-11cf00fb12be",
   "metadata": {},
   "source": [
    "As outlined in the introduction, the models will be evaluated using accuracy, precision, recall, F1 score, and AUC-ROC. A comparison table of these metrics for all three models is provided below, followed by comments on the results."
   ]
  },
  {
   "cell_type": "code",
   "execution_count": 152,
   "id": "7d1418c2-1013-4e14-9cf4-73f56d9f55c7",
   "metadata": {},
   "outputs": [],
   "source": [
    "# save a summary of metrics\n",
    "train_val_summary = {\n",
    "    'Model': ['Logistic Regression', 'XGBoost', 'Neural Network'],\n",
    "    'Train Accuracy': [log_train_accuracy, xgb_train_accuracy, nn_train_accuracy],\n",
    "    'Val Accuracy': [log_val_accuracy, xgb_val_accuracy, nn_val_accuracy],\n",
    "    'Train Precision': [log_train_precision, xgb_train_precision, nn_train_precision],\n",
    "    'Val Precision': [log_val_precision, xgb_val_precision, nn_val_precision],\n",
    "    'Train Recall': [log_train_recall, xgb_train_recall, nn_train_recall],\n",
    "    'Val Recall': [log_val_recall, xgb_val_recall, nn_val_recall],\n",
    "    'Train F1': [log_train_f1, xgb_train_f1, nn_train_f1],\n",
    "    'Val F1': [log_val_f1, xgb_val_f1, nn_val_f1],\n",
    "    'Train AUC': [log_train_auc, xgb_train_auc, nn_train_auc],\n",
    "    'Val AUC': [log_val_auc, xgb_val_auc, nn_val_auc],\n",
    "}"
   ]
  },
  {
   "cell_type": "code",
   "execution_count": 153,
   "id": "9e9ba0d2-458e-48dd-8f67-8defd0a935b5",
   "metadata": {},
   "outputs": [],
   "source": [
    "# save summary as a DataFrame\n",
    "train_val_df = pd.DataFrame(train_val_summary)"
   ]
  },
  {
   "cell_type": "code",
   "execution_count": 154,
   "id": "02f37e5f-c9da-4c34-9640-23b5f803aaff",
   "metadata": {},
   "outputs": [
    {
     "data": {
      "text/html": [
       "<div>\n",
       "<style scoped>\n",
       "    .dataframe tbody tr th:only-of-type {\n",
       "        vertical-align: middle;\n",
       "    }\n",
       "\n",
       "    .dataframe tbody tr th {\n",
       "        vertical-align: top;\n",
       "    }\n",
       "\n",
       "    .dataframe thead th {\n",
       "        text-align: right;\n",
       "    }\n",
       "</style>\n",
       "<table border=\"1\" class=\"dataframe\">\n",
       "  <thead>\n",
       "    <tr style=\"text-align: right;\">\n",
       "      <th></th>\n",
       "      <th>Model</th>\n",
       "      <th>Train Accuracy</th>\n",
       "      <th>Val Accuracy</th>\n",
       "      <th>Train Precision</th>\n",
       "      <th>Val Precision</th>\n",
       "      <th>Train Recall</th>\n",
       "      <th>Val Recall</th>\n",
       "      <th>Train F1</th>\n",
       "      <th>Val F1</th>\n",
       "      <th>Train AUC</th>\n",
       "      <th>Val AUC</th>\n",
       "    </tr>\n",
       "  </thead>\n",
       "  <tbody>\n",
       "    <tr>\n",
       "      <th>0</th>\n",
       "      <td>Logistic Regression</td>\n",
       "      <td>0.85</td>\n",
       "      <td>0.99</td>\n",
       "      <td>0.86</td>\n",
       "      <td>0.32</td>\n",
       "      <td>0.82</td>\n",
       "      <td>0.03</td>\n",
       "      <td>0.84</td>\n",
       "      <td>0.06</td>\n",
       "      <td>0.94</td>\n",
       "      <td>0.87</td>\n",
       "    </tr>\n",
       "    <tr>\n",
       "      <th>1</th>\n",
       "      <td>XGBoost</td>\n",
       "      <td>1.00</td>\n",
       "      <td>1.00</td>\n",
       "      <td>1.00</td>\n",
       "      <td>0.91</td>\n",
       "      <td>1.00</td>\n",
       "      <td>0.72</td>\n",
       "      <td>1.00</td>\n",
       "      <td>0.80</td>\n",
       "      <td>1.00</td>\n",
       "      <td>0.99</td>\n",
       "    </tr>\n",
       "    <tr>\n",
       "      <th>2</th>\n",
       "      <td>Neural Network</td>\n",
       "      <td>0.99</td>\n",
       "      <td>0.99</td>\n",
       "      <td>0.99</td>\n",
       "      <td>0.43</td>\n",
       "      <td>0.99</td>\n",
       "      <td>0.82</td>\n",
       "      <td>0.99</td>\n",
       "      <td>0.57</td>\n",
       "      <td>0.99</td>\n",
       "      <td>0.91</td>\n",
       "    </tr>\n",
       "  </tbody>\n",
       "</table>\n",
       "</div>"
      ],
      "text/plain": [
       "                 Model  Train Accuracy  Val Accuracy  Train Precision  \\\n",
       "0  Logistic Regression            0.85          0.99             0.86   \n",
       "1              XGBoost            1.00          1.00             1.00   \n",
       "2       Neural Network            0.99          0.99             0.99   \n",
       "\n",
       "   Val Precision  Train Recall  Val Recall  Train F1  Val F1  Train AUC  \\\n",
       "0           0.32          0.82        0.03      0.84    0.06       0.94   \n",
       "1           0.91          1.00        0.72      1.00    0.80       1.00   \n",
       "2           0.43          0.99        0.82      0.99    0.57       0.99   \n",
       "\n",
       "   Val AUC  \n",
       "0     0.87  \n",
       "1     0.99  \n",
       "2     0.91  "
      ]
     },
     "execution_count": 154,
     "metadata": {},
     "output_type": "execute_result"
    }
   ],
   "source": [
    "# view summary of metrics\n",
    "train_val_df"
   ]
  },
  {
   "cell_type": "markdown",
   "id": "d6e99584-4f9d-4b30-8120-77887038c572",
   "metadata": {},
   "source": [
    "__Observations:__\n",
    "\n",
    "__1. High Training Metrics__\n",
    "\n",
    "All three models demonstrate high training metrics, which is expected due to class imbalance and the tendency of machine learning models to memorize patterns in training data. Therefore, validation metrics are critical for model selection.\n",
    "\n",
    "__2. Reported Accuracy of 1.00__\n",
    "\n",
    "The XGBoost model shows a reported validation accuracy of 1.00, but erroneous predictions are evident in the confusion matrices. This accuracy rounds up from a value very close to 1.00, indicating that while the model performs exceptionally well, it is not perfectly accurate.\n",
    "\n",
    "__3. Validation Metrics Align__\n",
    "\n",
    "Validation metrics confirm the XGBoost model's superior performance, achieving a high precision of 0.91 and a recall of 0.72, demonstrating effective detection of fraud while maintaining high accuracy. The F1 score of 0.80 reflects a balanced performance, considering both metrics, which is essential given the customer base's preference for uninterrupted service.\n",
    "\n",
    "__4. Outstanding AUC Score__\n",
    "\n",
    "The AUC score of 0.99 underscores the XGBoost model's effectiveness in distinguishing between classes. In contrast, the other two models exhibit low precision (0.32 and 0.43) and poor F1 scores (0.06 and 0.57), reinforcing the findings from the confusion matrices regarding higher false prediction rates.\n",
    "\n",
    "Following the evaluation of the metrics, an ensemble modeling approach was explored to leverage insights from both the XGBoost and neural network models. Ensemble modeling aims to improve predictive performance by combining multiple models. However, after testing various weighting variations, this approach did not outperform the XGBoost model. Consequently, the XGBoost model is selected as the final model and will be applied to the test data to confirm its viability for deployment."
   ]
  },
  {
   "cell_type": "markdown",
   "id": "57024bd3-edd0-4644-9194-cd665b4ba330",
   "metadata": {},
   "source": [
    "### Data Transformation: Test Data"
   ]
  },
  {
   "cell_type": "markdown",
   "id": "320d4580-4f11-419d-ba0c-fcff7ccb1777",
   "metadata": {},
   "source": [
    "With the model selected, the next step is to test its performance on unseen data.\n",
    "\n",
    "First, the test data is processed to match the format expected by the model. The model then makes predictions, and the results are evaluated using the metrics outlined in the introduction."
   ]
  },
  {
   "cell_type": "code",
   "execution_count": 155,
   "id": "38dcc719-e7ec-4776-a391-c4bb1a10f75b",
   "metadata": {},
   "outputs": [],
   "source": [
    "# create pipeline to preprocess test data and future data\n",
    "## using Pipeline with fitted components so that the full_pipeline does not need to be fitted\n",
    "full_pipeline = Pipeline([\n",
    "    # apply initial preprocessing steps\n",
    "    ('preprocessing', preprocessing_pipeline),\n",
    "    # apply feature selection and scaling\n",
    "    ('feature_selection_scaling', feature_selection_scaling_pipeline),\n",
    "    # include final model\n",
    "    ('model', best_xgb_clf)\n",
    "])"
   ]
  },
  {
   "cell_type": "code",
   "execution_count": 156,
   "id": "d96d4396-77e1-4618-be88-3368e3203a94",
   "metadata": {},
   "outputs": [],
   "source": [
    "# make predictions for test data\n",
    "test_preds = full_pipeline.predict(X_test)"
   ]
  },
  {
   "cell_type": "code",
   "execution_count": 157,
   "id": "ca19b819-e4f9-4695-9852-e952c32adccf",
   "metadata": {},
   "outputs": [],
   "source": [
    "# calculate metrics\n",
    "test_accuracy = accuracy_score(y_test, test_preds)\n",
    "test_precision = precision_score(y_test, test_preds)\n",
    "test_recall = recall_score(y_test, test_preds)\n",
    "test_f1 = f1_score(y_test, test_preds)\n",
    "test_auc = roc_auc_score(y_test, test_preds)"
   ]
  },
  {
   "cell_type": "code",
   "execution_count": 158,
   "id": "8b3526b5-9b3c-4b24-971a-cdf65b00af5d",
   "metadata": {},
   "outputs": [
    {
     "name": "stdout",
     "output_type": "stream",
     "text": [
      "Test Metrics:\n",
      "Accuracy: 1.00\n",
      "Precision: 0.81\n",
      "Recall: 0.84\n",
      "F1 Score: 0.82\n",
      "AUC: 0.92\n"
     ]
    }
   ],
   "source": [
    "# print validation metrics\n",
    "print(f\"Test Metrics:\")\n",
    "print(f\"Accuracy: {test_accuracy:.2f}\")\n",
    "print(f\"Precision: {test_precision:.2f}\")\n",
    "print(f\"Recall: {test_recall:.2f}\")\n",
    "print(f\"F1 Score: {test_f1:.2f}\")\n",
    "print(f\"AUC: {test_auc:.2f}\")"
   ]
  },
  {
   "cell_type": "markdown",
   "id": "74cc1392-dd8b-4455-94e2-5fae0ca4f3cc",
   "metadata": {},
   "source": [
    "The test metrics demonstrate that the XGBoost model performs well, achieving high precision (0.81) and recall (0.84) on previously unseen data. The F1 score (0.82) reflects a strong balance between precision and recall, indicating that the model is effectively identifying fraudulent transactions without generating excessive false positives. The AUC score of 0.92 suggests that the model has excellent discriminatory ability, accurately distinguishing between legitimate and fraudulent transactions."
   ]
  },
  {
   "cell_type": "markdown",
   "id": "24af195f-fe74-4329-afb6-99446b400037",
   "metadata": {},
   "source": [
    "## Conclusion <a class='anchor' id='conclusion'></a>"
   ]
  },
  {
   "cell_type": "markdown",
   "id": "c81de1fd-7061-4a3a-a689-fd75582a982d",
   "metadata": {},
   "source": [
    "[Click Here to Return to Top](#top)"
   ]
  },
  {
   "cell_type": "markdown",
   "id": "eebb6b92-c77f-49fa-a321-616b6dbdf87d",
   "metadata": {},
   "source": [
    "In an era where fraud opportunities are increasingly prevalent due to the widespread storage of credit card information in digital formats, the need for robust fraud detection solutions has never been more critical. This project focused on the development of a fraud detection model that effectively identifies fraudulent transactions while prioritizing seamless customer service.\n",
    "\n",
    "The XGBoost model has demonstrated impressive performance on unseen data, achieving high precision (0.81) and recall (0.84), along with a balanced F1 score of 0.82. The model’s AUC score of 0.92 indicates its strong capability to accurately differentiate between legitimate and fraudulent transactions. Given these promising test metrics and the model's alignment with the organization's commitment to uninterrupted service, it is recommended to proceed with the deployment of the XGBoost model. This proactive approach will enhance fraud detection capabilities while maintaining the high-quality customer experience that the user base values."
   ]
  },
  {
   "cell_type": "markdown",
   "id": "6a7a5520-34cf-4809-b8b3-8f561af58326",
   "metadata": {},
   "source": [
    "## Reflections <a class='anchor' id='reflections'></a>"
   ]
  },
  {
   "cell_type": "markdown",
   "id": "9f1e25ce-e1b8-499e-a8c7-17208adfb0d7",
   "metadata": {},
   "source": [
    "[Click Here to Return to Top](#top)"
   ]
  },
  {
   "cell_type": "markdown",
   "id": "da16f5b3-4c20-4aab-9d0f-9b3bf17f028a",
   "metadata": {},
   "source": [
    "__Upon reflection, several areas for improvement emerged during the course of this project:__\n",
    "\n",
    "__1. Proactive Code Organization:__\n",
    "\n",
    "Implementing a structured approach for saving variables and models (using tools like pickle and joblib) from the outset will enhance efficiency in future projects. This strategy minimizes redundant runs of lengthy training and tuning processes, enabling more streamlined workflows.\n",
    "\n",
    "__2. Enhanced Data Presentation:__\n",
    "\n",
    "Developing additional appendices for extensive exploratory data analysis (EDA) will contribute to a more concise and focused main report. This approach ensures that critical insights are easily accessible, improving communication with stakeholders.\n",
    "\n",
    "__3. Concurrent Validation Set Management:__\n",
    "\n",
    "By splitting the validation set concurrently with the initial train/test split in future analyses, the efficiency of model evaluation will be significantly improved. This adjustment will facilitate a more robust validation process.\n",
    "\n",
    "__4. Utilizing Dimensionality Reduction Techniques:__ \n",
    "\n",
    "Incorporating Principal Component Analysis (PCA) in future projects can improve computational efficiency and model performance. This technique will allow for a more effective handling of high-dimensional data.\n",
    "\n",
    "__5. Exploration of Advanced Hyperparameter Tuning:__\n",
    "\n",
    "Continuing to learn and implement more efficient hyperparameter tuning methods will enhance model optimization. This commitment to developing expertise in this area will save time and improve overall performance.\n",
    "\n",
    "__6. Adopting Batch Training Strategies:__\n",
    "\n",
    "Learning to train and tune models in batches will allow for the aggregation of insights regarding feature selection and optimal hyperparameters. This approach will enhance both generalization and the efficiency of the modeling process."
   ]
  },
  {
   "cell_type": "markdown",
   "id": "7eb94bcf-48a3-4551-9558-0e06c1dad696",
   "metadata": {},
   "source": [
    "## References <a class='anchor' id='references'></a>"
   ]
  },
  {
   "cell_type": "markdown",
   "id": "cd7ff03e-84cd-4c6b-a0d5-f20cd7df4cd4",
   "metadata": {},
   "source": [
    "[Click Here to Return to Top](#top)"
   ]
  },
  {
   "cell_type": "markdown",
   "id": "b50107a0-3be1-49a8-93eb-f94f60efed75",
   "metadata": {},
   "source": [
    "Chawla, N. V., De Santo, S., & Davis, D. (2004). SMOTE: synthetic minority over-sampling technique. Journal of Artificial Intelligence Research, 16, 321-357. https://doi.org/10.1613/jair.1410\n",
    "\n",
    "Chen, T., & Guestrin, C. (2016). XGBoost: A scalable tree boosting system. In Proceedings of the 22nd ACM SIGKDD International Conference on Knowledge Discovery and Data Mining (pp. 785-794). ACM. https://doi.org/10.1145/2939672.2939785\n",
    "\n",
    "Goodfellow, I., Bengio, Y., & Courville, A. (2016). Deep learning. MIT Press. http://www.deeplearningbook.org/\n",
    "\n",
    "Hosmer, D. W., & Lemeshow, S. (2000). Applied logistic regression (2nd ed.). John Wiley & Sons.\n",
    "\n",
    "Robusto, C. C. (1957). The cosine-haversine formula. The American Mathematical Monthly, 64(1), 38-40.\n",
    "\n",
    "Shenoy, Kartik. (2020, August 5). *Credit Card Transactions Fraud Detection Dataset.* Kaggle. https://www.kaggle.com/datasets/kartik2112/fraud-detection\n",
    "\n",
    "Stevens, W. R. (1998). *Unix network programming, volume 1: The sockets networking API (2nd ed.)*. Prentice Hall."
   ]
  },
  {
   "cell_type": "markdown",
   "id": "64a72c4f-911d-40a4-8f44-65229c320416",
   "metadata": {},
   "source": [
    "## Appendices <a class='anchor' id='appendices'></a>"
   ]
  },
  {
   "cell_type": "markdown",
   "id": "fba73ecc-535f-49b9-9cc1-36fcb5919a35",
   "metadata": {},
   "source": [
    "[Click Here to Return to Top](#top)"
   ]
  },
  {
   "cell_type": "markdown",
   "id": "ebc069f9-e44a-4608-8275-a29451b5ec07",
   "metadata": {},
   "source": [
    "### Appendix A: Saved Variables <a class='anchor' id='appendix_a'></a>"
   ]
  },
  {
   "cell_type": "markdown",
   "id": "3cb0e581-7800-48c8-8fdd-ed92fabf7f8f",
   "metadata": {},
   "source": [
    "This appendix contains the code used to save variables generated during the more computationally intensive stages of the project, ensuring efficiency for future runs. For quick reference, you can view the code used to load the saved .pkl file by clicking [here](#main_a)."
   ]
  },
  {
   "cell_type": "code",
   "execution_count": 159,
   "id": "d4b9c5ab-d247-45bf-a37d-3087397e7de8",
   "metadata": {},
   "outputs": [],
   "source": [
    "# create a list of variables to store\n",
    "stored_var_names = ['X_train_resampled', 'y_train_resampled', 'importances', \n",
    "                    'log_best_params', 'log_train_preds', 'log_train_probs', 'log_val_preds', 'log_val_probs',\n",
    "                    'log_train_accuracy', 'log_train_precision', 'log_train_recall', 'log_train_f1', 'log_train_auc', \n",
    "                    'log_val_accuracy', 'log_val_precision', 'log_val_recall', 'log_val_f1', 'log_val_auc', \n",
    "                    'xgb_best_params', 'xgb_train_preds', 'xgb_train_probs', 'xgb_val_preds', 'xgb_val_probs',\n",
    "                    'xgb_train_accuracy', 'xgb_train_precision', 'xgb_train_recall', 'xgb_train_f1', 'xgb_train_auc', \n",
    "                    'xgb_val_accuracy', 'xgb_val_precision', 'xgb_val_recall', 'xgb_val_f1', 'xgb_val_auc', \n",
    "                    'nn_best_params', 'nn_train_preds', 'nn_train_probs', 'nn_val_preds', 'nn_val_probs',\n",
    "                    'nn_train_accuracy', 'nn_train_precision', 'nn_train_recall', 'nn_train_f1', 'nn_train_auc', \n",
    "                    'nn_val_accuracy', 'nn_val_precision', 'nn_val_recall', 'nn_val_f1', 'nn_val_auc']"
   ]
  },
  {
   "cell_type": "code",
   "execution_count": 160,
   "id": "9030a4ce-1469-4f48-8e61-452918c5a348",
   "metadata": {},
   "outputs": [],
   "source": [
    "# use globals() to retrieve values and create a dictionary\n",
    "variables_to_save = {name: globals()[name] for name in stored_var_names}"
   ]
  },
  {
   "cell_type": "code",
   "execution_count": 161,
   "id": "c2a8a86f-46a8-4f81-a232-cf873014ee38",
   "metadata": {},
   "outputs": [],
   "source": [
    "# save dictionary to a .pkl file\n",
    "with open('stored_variables.pkl', 'wb') as f:\n",
    "    pickle.dump(variables_to_save, f)"
   ]
  },
  {
   "cell_type": "markdown",
   "id": "37cb319f-5dc1-40d8-854c-f179ef3fcd8a",
   "metadata": {},
   "source": [
    "### Appendix B: Cross Tabulations <a class='anchor' id='appendix_b'></a>"
   ]
  },
  {
   "cell_type": "markdown",
   "id": "5f505a1c-88f9-4818-be4f-cdb3a4ebf15c",
   "metadata": {},
   "source": [
    "This appendix contains detailed cross tabulations of categorical variables against the 'is_fraud' label, highlighting rows where the relative risk exceeds 1, indicating a higher likelihood of fraud. To view excerpts of these cross tabulations, click [here](#main_b) for easy reference."
   ]
  },
  {
   "cell_type": "code",
   "execution_count": 162,
   "id": "3fc29b16-14f1-4d12-a77f-5cf623309733",
   "metadata": {},
   "outputs": [],
   "source": [
    "# define function to highlight rows with a relative risk greater than the global fraud rate\n",
    "def highlight_rr_gt_1(row):\n",
    "    return ['background-color: yellow' if row['Relative Risk'] > 1 else '' for _ in row]"
   ]
  },
  {
   "cell_type": "code",
   "execution_count": 163,
   "id": "8f0f533c-e170-4899-b8d2-1649e0300386",
   "metadata": {},
   "outputs": [
    {
     "data": {
      "text/html": [
       "<style type=\"text/css\">\n",
       "#T_22493_row4_col0, #T_22493_row4_col1, #T_22493_row4_col2, #T_22493_row4_col3, #T_22493_row8_col0, #T_22493_row8_col1, #T_22493_row8_col2, #T_22493_row8_col3, #T_22493_row11_col0, #T_22493_row11_col1, #T_22493_row11_col2, #T_22493_row11_col3, #T_22493_row12_col0, #T_22493_row12_col1, #T_22493_row12_col2, #T_22493_row12_col3 {\n",
       "  background-color: yellow;\n",
       "}\n",
       "</style>\n",
       "<table id=\"T_22493\">\n",
       "  <thead>\n",
       "    <tr>\n",
       "      <th class=\"index_name level0\" >is_fraud</th>\n",
       "      <th id=\"T_22493_level0_col0\" class=\"col_heading level0 col0\" >0</th>\n",
       "      <th id=\"T_22493_level0_col1\" class=\"col_heading level0 col1\" >1</th>\n",
       "      <th id=\"T_22493_level0_col2\" class=\"col_heading level0 col2\" >Fraud %</th>\n",
       "      <th id=\"T_22493_level0_col3\" class=\"col_heading level0 col3\" >Relative Risk</th>\n",
       "    </tr>\n",
       "    <tr>\n",
       "      <th class=\"index_name level0\" >category</th>\n",
       "      <th class=\"blank col0\" >&nbsp;</th>\n",
       "      <th class=\"blank col1\" >&nbsp;</th>\n",
       "      <th class=\"blank col2\" >&nbsp;</th>\n",
       "      <th class=\"blank col3\" >&nbsp;</th>\n",
       "    </tr>\n",
       "  </thead>\n",
       "  <tbody>\n",
       "    <tr>\n",
       "      <th id=\"T_22493_level0_row0\" class=\"row_heading level0 row0\" >entertainment</th>\n",
       "      <td id=\"T_22493_row0_col0\" class=\"data row0 col0\" >107203</td>\n",
       "      <td id=\"T_22493_row0_col1\" class=\"data row0 col1\" >233</td>\n",
       "      <td id=\"T_22493_row0_col2\" class=\"data row0 col2\" >0.216873</td>\n",
       "      <td id=\"T_22493_row0_col3\" class=\"data row0 col3\" >0.416252</td>\n",
       "    </tr>\n",
       "    <tr>\n",
       "      <th id=\"T_22493_level0_row1\" class=\"row_heading level0 row1\" >food_dining</th>\n",
       "      <td id=\"T_22493_row1_col0\" class=\"data row1 col0\" >104534</td>\n",
       "      <td id=\"T_22493_row1_col1\" class=\"data row1 col1\" >157</td>\n",
       "      <td id=\"T_22493_row1_col2\" class=\"data row1 col2\" >0.149965</td>\n",
       "      <td id=\"T_22493_row1_col3\" class=\"data row1 col3\" >0.287833</td>\n",
       "    </tr>\n",
       "    <tr>\n",
       "      <th id=\"T_22493_level0_row2\" class=\"row_heading level0 row2\" >gas_transport</th>\n",
       "      <td id=\"T_22493_row2_col0\" class=\"data row2 col0\" >149802</td>\n",
       "      <td id=\"T_22493_row2_col1\" class=\"data row2 col1\" >635</td>\n",
       "      <td id=\"T_22493_row2_col2\" class=\"data row2 col2\" >0.422104</td>\n",
       "      <td id=\"T_22493_row2_col3\" class=\"data row2 col3\" >0.810156</td>\n",
       "    </tr>\n",
       "    <tr>\n",
       "      <th id=\"T_22493_level0_row3\" class=\"row_heading level0 row3\" >grocery_net</th>\n",
       "      <td id=\"T_22493_row3_col0\" class=\"data row3 col0\" >51693</td>\n",
       "      <td id=\"T_22493_row3_col1\" class=\"data row3 col1\" >142</td>\n",
       "      <td id=\"T_22493_row3_col2\" class=\"data row3 col2\" >0.273946</td>\n",
       "      <td id=\"T_22493_row3_col3\" class=\"data row3 col3\" >0.525793</td>\n",
       "    </tr>\n",
       "    <tr>\n",
       "      <th id=\"T_22493_level0_row4\" class=\"row_heading level0 row4\" >grocery_pos</th>\n",
       "      <td id=\"T_22493_row4_col0\" class=\"data row4 col0\" >139253</td>\n",
       "      <td id=\"T_22493_row4_col1\" class=\"data row4 col1\" >1759</td>\n",
       "      <td id=\"T_22493_row4_col2\" class=\"data row4 col2\" >1.247412</td>\n",
       "      <td id=\"T_22493_row4_col3\" class=\"data row4 col3\" >2.394195</td>\n",
       "    </tr>\n",
       "    <tr>\n",
       "      <th id=\"T_22493_level0_row5\" class=\"row_heading level0 row5\" >health_fitness</th>\n",
       "      <td id=\"T_22493_row5_col0\" class=\"data row5 col0\" >97943</td>\n",
       "      <td id=\"T_22493_row5_col1\" class=\"data row5 col1\" >145</td>\n",
       "      <td id=\"T_22493_row5_col2\" class=\"data row5 col2\" >0.147826</td>\n",
       "      <td id=\"T_22493_row5_col3\" class=\"data row5 col3\" >0.283728</td>\n",
       "    </tr>\n",
       "    <tr>\n",
       "      <th id=\"T_22493_level0_row6\" class=\"row_heading level0 row6\" >home</th>\n",
       "      <td id=\"T_22493_row6_col0\" class=\"data row6 col0\" >140040</td>\n",
       "      <td id=\"T_22493_row6_col1\" class=\"data row6 col1\" >205</td>\n",
       "      <td id=\"T_22493_row6_col2\" class=\"data row6 col2\" >0.146173</td>\n",
       "      <td id=\"T_22493_row6_col3\" class=\"data row6 col3\" >0.280554</td>\n",
       "    </tr>\n",
       "    <tr>\n",
       "      <th id=\"T_22493_level0_row7\" class=\"row_heading level0 row7\" >kids_pets</th>\n",
       "      <td id=\"T_22493_row7_col0\" class=\"data row7 col0\" >129094</td>\n",
       "      <td id=\"T_22493_row7_col1\" class=\"data row7 col1\" >249</td>\n",
       "      <td id=\"T_22493_row7_col2\" class=\"data row7 col2\" >0.192511</td>\n",
       "      <td id=\"T_22493_row7_col3\" class=\"data row7 col3\" >0.369493</td>\n",
       "    </tr>\n",
       "    <tr>\n",
       "      <th id=\"T_22493_level0_row8\" class=\"row_heading level0 row8\" >misc_net</th>\n",
       "      <td id=\"T_22493_row8_col0\" class=\"data row8 col0\" >71372</td>\n",
       "      <td id=\"T_22493_row8_col1\" class=\"data row8 col1\" >969</td>\n",
       "      <td id=\"T_22493_row8_col2\" class=\"data row8 col2\" >1.339489</td>\n",
       "      <td id=\"T_22493_row8_col3\" class=\"data row8 col3\" >2.570923</td>\n",
       "    </tr>\n",
       "    <tr>\n",
       "      <th id=\"T_22493_level0_row9\" class=\"row_heading level0 row9\" >misc_pos</th>\n",
       "      <td id=\"T_22493_row9_col0\" class=\"data row9 col0\" >91270</td>\n",
       "      <td id=\"T_22493_row9_col1\" class=\"data row9 col1\" >267</td>\n",
       "      <td id=\"T_22493_row9_col2\" class=\"data row9 col2\" >0.291685</td>\n",
       "      <td id=\"T_22493_row9_col3\" class=\"data row9 col3\" >0.559841</td>\n",
       "    </tr>\n",
       "    <tr>\n",
       "      <th id=\"T_22493_level0_row10\" class=\"row_heading level0 row10\" >personal_care</th>\n",
       "      <td id=\"T_22493_row10_col0\" class=\"data row10 col0\" >103905</td>\n",
       "      <td id=\"T_22493_row10_col1\" class=\"data row10 col1\" >228</td>\n",
       "      <td id=\"T_22493_row10_col2\" class=\"data row10 col2\" >0.218951</td>\n",
       "      <td id=\"T_22493_row10_col3\" class=\"data row10 col3\" >0.420239</td>\n",
       "    </tr>\n",
       "    <tr>\n",
       "      <th id=\"T_22493_level0_row11\" class=\"row_heading level0 row11\" >shopping_net</th>\n",
       "      <td id=\"T_22493_row11_col0\" class=\"data row11 col0\" >109675</td>\n",
       "      <td id=\"T_22493_row11_col1\" class=\"data row11 col1\" >1758</td>\n",
       "      <td id=\"T_22493_row11_col2\" class=\"data row11 col2\" >1.577630</td>\n",
       "      <td id=\"T_22493_row11_col3\" class=\"data row11 col3\" >3.027992</td>\n",
       "    </tr>\n",
       "    <tr>\n",
       "      <th id=\"T_22493_level0_row12\" class=\"row_heading level0 row12\" >shopping_pos</th>\n",
       "      <td id=\"T_22493_row12_col0\" class=\"data row12 col0\" >132145</td>\n",
       "      <td id=\"T_22493_row12_col1\" class=\"data row12 col1\" >836</td>\n",
       "      <td id=\"T_22493_row12_col2\" class=\"data row12 col2\" >0.628661</td>\n",
       "      <td id=\"T_22493_row12_col3\" class=\"data row12 col3\" >1.206609</td>\n",
       "    </tr>\n",
       "    <tr>\n",
       "      <th id=\"T_22493_level0_row13\" class=\"row_heading level0 row13\" >travel</th>\n",
       "      <td id=\"T_22493_row13_col0\" class=\"data row13 col0\" >46265</td>\n",
       "      <td id=\"T_22493_row13_col1\" class=\"data row13 col1\" >138</td>\n",
       "      <td id=\"T_22493_row13_col2\" class=\"data row13 col2\" >0.297395</td>\n",
       "      <td id=\"T_22493_row13_col3\" class=\"data row13 col3\" >0.570798</td>\n",
       "    </tr>\n",
       "  </tbody>\n",
       "</table>\n"
      ],
      "text/plain": [
       "<pandas.io.formats.style.Styler at 0x179ffaf4920>"
      ]
     },
     "metadata": {},
     "output_type": "display_data"
    },
    {
     "name": "stdout",
     "output_type": "stream",
     "text": [
      "\n"
     ]
    },
    {
     "data": {
      "text/html": [
       "<style type=\"text/css\">\n",
       "#T_efba4_row0_col0, #T_efba4_row0_col1, #T_efba4_row0_col2, #T_efba4_row0_col3, #T_efba4_row1_col0, #T_efba4_row1_col1, #T_efba4_row1_col2, #T_efba4_row1_col3, #T_efba4_row2_col0, #T_efba4_row2_col1, #T_efba4_row2_col2, #T_efba4_row2_col3, #T_efba4_row4_col0, #T_efba4_row4_col1, #T_efba4_row4_col2, #T_efba4_row4_col3, #T_efba4_row8_col0, #T_efba4_row8_col1, #T_efba4_row8_col2, #T_efba4_row8_col3, #T_efba4_row9_col0, #T_efba4_row9_col1, #T_efba4_row9_col2, #T_efba4_row9_col3 {\n",
       "  background-color: yellow;\n",
       "}\n",
       "</style>\n",
       "<table id=\"T_efba4\">\n",
       "  <thead>\n",
       "    <tr>\n",
       "      <th class=\"index_name level0\" >is_fraud</th>\n",
       "      <th id=\"T_efba4_level0_col0\" class=\"col_heading level0 col0\" >0</th>\n",
       "      <th id=\"T_efba4_level0_col1\" class=\"col_heading level0 col1\" >1</th>\n",
       "      <th id=\"T_efba4_level0_col2\" class=\"col_heading level0 col2\" >Fraud %</th>\n",
       "      <th id=\"T_efba4_level0_col3\" class=\"col_heading level0 col3\" >Relative Risk</th>\n",
       "    </tr>\n",
       "    <tr>\n",
       "      <th class=\"index_name level0\" >month</th>\n",
       "      <th class=\"blank col0\" >&nbsp;</th>\n",
       "      <th class=\"blank col1\" >&nbsp;</th>\n",
       "      <th class=\"blank col2\" >&nbsp;</th>\n",
       "      <th class=\"blank col3\" >&nbsp;</th>\n",
       "    </tr>\n",
       "  </thead>\n",
       "  <tbody>\n",
       "    <tr>\n",
       "      <th id=\"T_efba4_level0_row0\" class=\"row_heading level0 row0\" >1</th>\n",
       "      <td id=\"T_efba4_row0_col0\" class=\"data row0 col0\" >83070</td>\n",
       "      <td id=\"T_efba4_row0_col1\" class=\"data row0 col1\" >676</td>\n",
       "      <td id=\"T_efba4_row0_col2\" class=\"data row0 col2\" >0.807203</td>\n",
       "      <td id=\"T_efba4_row0_col3\" class=\"data row0 col3\" >1.549289</td>\n",
       "    </tr>\n",
       "    <tr>\n",
       "      <th id=\"T_efba4_level0_row1\" class=\"row_heading level0 row1\" >2</th>\n",
       "      <td id=\"T_efba4_row1_col0\" class=\"data row1 col0\" >77330</td>\n",
       "      <td id=\"T_efba4_row1_col1\" class=\"data row1 col1\" >666</td>\n",
       "      <td id=\"T_efba4_row1_col2\" class=\"data row1 col2\" >0.853890</td>\n",
       "      <td id=\"T_efba4_row1_col3\" class=\"data row1 col3\" >1.638897</td>\n",
       "    </tr>\n",
       "    <tr>\n",
       "      <th id=\"T_efba4_level0_row2\" class=\"row_heading level0 row2\" >3</th>\n",
       "      <td id=\"T_efba4_row2_col0\" class=\"data row2 col0\" >113995</td>\n",
       "      <td id=\"T_efba4_row2_col1\" class=\"data row2 col1\" >742</td>\n",
       "      <td id=\"T_efba4_row2_col2\" class=\"data row2 col2\" >0.646696</td>\n",
       "      <td id=\"T_efba4_row2_col3\" class=\"data row2 col3\" >1.241224</td>\n",
       "    </tr>\n",
       "    <tr>\n",
       "      <th id=\"T_efba4_level0_row3\" class=\"row_heading level0 row3\" >4</th>\n",
       "      <td id=\"T_efba4_row3_col0\" class=\"data row3 col0\" >107388</td>\n",
       "      <td id=\"T_efba4_row3_col1\" class=\"data row3 col1\" >537</td>\n",
       "      <td id=\"T_efba4_row3_col2\" class=\"data row3 col2\" >0.497568</td>\n",
       "      <td id=\"T_efba4_row3_col3\" class=\"data row3 col3\" >0.954997</td>\n",
       "    </tr>\n",
       "    <tr>\n",
       "      <th id=\"T_efba4_level0_row4\" class=\"row_heading level0 row4\" >5</th>\n",
       "      <td id=\"T_efba4_row4_col0\" class=\"data row4 col0\" >116692</td>\n",
       "      <td id=\"T_efba4_row4_col1\" class=\"data row4 col1\" >762</td>\n",
       "      <td id=\"T_efba4_row4_col2\" class=\"data row4 col2\" >0.648765</td>\n",
       "      <td id=\"T_efba4_row4_col3\" class=\"data row4 col3\" >1.245194</td>\n",
       "    </tr>\n",
       "    <tr>\n",
       "      <th id=\"T_efba4_level0_row5\" class=\"row_heading level0 row5\" >6</th>\n",
       "      <td id=\"T_efba4_row5_col0\" class=\"data row5 col0\" >138585</td>\n",
       "      <td id=\"T_efba4_row5_col1\" class=\"data row5 col1\" >661</td>\n",
       "      <td id=\"T_efba4_row5_col2\" class=\"data row5 col2\" >0.474699</td>\n",
       "      <td id=\"T_efba4_row5_col3\" class=\"data row5 col3\" >0.911105</td>\n",
       "    </tr>\n",
       "    <tr>\n",
       "      <th id=\"T_efba4_level0_row6\" class=\"row_heading level0 row6\" >7</th>\n",
       "      <td id=\"T_efba4_row6_col0\" class=\"data row6 col0\" >137576</td>\n",
       "      <td id=\"T_efba4_row6_col1\" class=\"data row6 col1\" >524</td>\n",
       "      <td id=\"T_efba4_row6_col2\" class=\"data row6 col2\" >0.379435</td>\n",
       "      <td id=\"T_efba4_row6_col3\" class=\"data row6 col3\" >0.728261</td>\n",
       "    </tr>\n",
       "    <tr>\n",
       "      <th id=\"T_efba4_level0_row7\" class=\"row_heading level0 row7\" >8</th>\n",
       "      <td id=\"T_efba4_row7_col0\" class=\"data row7 col0\" >140331</td>\n",
       "      <td id=\"T_efba4_row7_col1\" class=\"data row7 col1\" >637</td>\n",
       "      <td id=\"T_efba4_row7_col2\" class=\"data row7 col2\" >0.451876</td>\n",
       "      <td id=\"T_efba4_row7_col3\" class=\"data row7 col3\" >0.867299</td>\n",
       "    </tr>\n",
       "    <tr>\n",
       "      <th id=\"T_efba4_level0_row8\" class=\"row_heading level0 row8\" >9</th>\n",
       "      <td id=\"T_efba4_row8_col0\" class=\"data row8 col0\" >111696</td>\n",
       "      <td id=\"T_efba4_row8_col1\" class=\"data row8 col1\" >605</td>\n",
       "      <td id=\"T_efba4_row8_col2\" class=\"data row8 col2\" >0.538731</td>\n",
       "      <td id=\"T_efba4_row8_col3\" class=\"data row8 col3\" >1.034002</td>\n",
       "    </tr>\n",
       "    <tr>\n",
       "      <th id=\"T_efba4_level0_row9\" class=\"row_heading level0 row9\" >10</th>\n",
       "      <td id=\"T_efba4_row9_col0\" class=\"data row9 col0\" >109736</td>\n",
       "      <td id=\"T_efba4_row9_col1\" class=\"data row9 col1\" >684</td>\n",
       "      <td id=\"T_efba4_row9_col2\" class=\"data row9 col2\" >0.619453</td>\n",
       "      <td id=\"T_efba4_row9_col3\" class=\"data row9 col3\" >1.188935</td>\n",
       "    </tr>\n",
       "    <tr>\n",
       "      <th id=\"T_efba4_level0_row10\" class=\"row_heading level0 row10\" >11</th>\n",
       "      <td id=\"T_efba4_row10_col0\" class=\"data row10 col0\" >113928</td>\n",
       "      <td id=\"T_efba4_row10_col1\" class=\"data row10 col1\" >552</td>\n",
       "      <td id=\"T_efba4_row10_col2\" class=\"data row10 col2\" >0.482180</td>\n",
       "      <td id=\"T_efba4_row10_col3\" class=\"data row10 col3\" >0.925463</td>\n",
       "    </tr>\n",
       "    <tr>\n",
       "      <th id=\"T_efba4_level0_row11\" class=\"row_heading level0 row11\" >12</th>\n",
       "      <td id=\"T_efba4_row11_col0\" class=\"data row11 col0\" >223867</td>\n",
       "      <td id=\"T_efba4_row11_col1\" class=\"data row11 col1\" >675</td>\n",
       "      <td id=\"T_efba4_row11_col2\" class=\"data row11 col2\" >0.300612</td>\n",
       "      <td id=\"T_efba4_row11_col3\" class=\"data row11 col3\" >0.576974</td>\n",
       "    </tr>\n",
       "  </tbody>\n",
       "</table>\n"
      ],
      "text/plain": [
       "<pandas.io.formats.style.Styler at 0x179ffacad50>"
      ]
     },
     "metadata": {},
     "output_type": "display_data"
    },
    {
     "name": "stdout",
     "output_type": "stream",
     "text": [
      "\n"
     ]
    },
    {
     "data": {
      "text/html": [
       "<style type=\"text/css\">\n",
       "#T_4e990_row2_col0, #T_4e990_row2_col1, #T_4e990_row2_col2, #T_4e990_row2_col3, #T_4e990_row3_col0, #T_4e990_row3_col1, #T_4e990_row3_col2, #T_4e990_row3_col3, #T_4e990_row4_col0, #T_4e990_row4_col1, #T_4e990_row4_col2, #T_4e990_row4_col3, #T_4e990_row5_col0, #T_4e990_row5_col1, #T_4e990_row5_col2, #T_4e990_row5_col3 {\n",
       "  background-color: yellow;\n",
       "}\n",
       "</style>\n",
       "<table id=\"T_4e990\">\n",
       "  <thead>\n",
       "    <tr>\n",
       "      <th class=\"index_name level0\" >is_fraud</th>\n",
       "      <th id=\"T_4e990_level0_col0\" class=\"col_heading level0 col0\" >0</th>\n",
       "      <th id=\"T_4e990_level0_col1\" class=\"col_heading level0 col1\" >1</th>\n",
       "      <th id=\"T_4e990_level0_col2\" class=\"col_heading level0 col2\" >Fraud %</th>\n",
       "      <th id=\"T_4e990_level0_col3\" class=\"col_heading level0 col3\" >Relative Risk</th>\n",
       "    </tr>\n",
       "    <tr>\n",
       "      <th class=\"index_name level0\" >day_of_week</th>\n",
       "      <th class=\"blank col0\" >&nbsp;</th>\n",
       "      <th class=\"blank col1\" >&nbsp;</th>\n",
       "      <th class=\"blank col2\" >&nbsp;</th>\n",
       "      <th class=\"blank col3\" >&nbsp;</th>\n",
       "    </tr>\n",
       "  </thead>\n",
       "  <tbody>\n",
       "    <tr>\n",
       "      <th id=\"T_4e990_level0_row0\" class=\"row_heading level0 row0\" >0</th>\n",
       "      <td id=\"T_4e990_row0_col0\" class=\"data row0 col0\" >294461</td>\n",
       "      <td id=\"T_4e990_row0_col1\" class=\"data row0 col1\" >1173</td>\n",
       "      <td id=\"T_4e990_row0_col2\" class=\"data row0 col2\" >0.396774</td>\n",
       "      <td id=\"T_4e990_row0_col3\" class=\"data row0 col3\" >0.761541</td>\n",
       "    </tr>\n",
       "    <tr>\n",
       "      <th id=\"T_4e990_level0_row1\" class=\"row_heading level0 row1\" >1</th>\n",
       "      <td id=\"T_4e990_row1_col0\" class=\"data row1 col0\" >215149</td>\n",
       "      <td id=\"T_4e990_row1_col1\" class=\"data row1 col1\" >1030</td>\n",
       "      <td id=\"T_4e990_row1_col2\" class=\"data row1 col2\" >0.476457</td>\n",
       "      <td id=\"T_4e990_row1_col3\" class=\"data row1 col3\" >0.914478</td>\n",
       "    </tr>\n",
       "    <tr>\n",
       "      <th id=\"T_4e990_level0_row2\" class=\"row_heading level0 row2\" >2</th>\n",
       "      <td id=\"T_4e990_row2_col0\" class=\"data row2 col0\" >146146</td>\n",
       "      <td id=\"T_4e990_row2_col1\" class=\"data row2 col1\" >897</td>\n",
       "      <td id=\"T_4e990_row2_col2\" class=\"data row2 col2\" >0.610026</td>\n",
       "      <td id=\"T_4e990_row2_col3\" class=\"data row2 col3\" >1.170841</td>\n",
       "    </tr>\n",
       "    <tr>\n",
       "      <th id=\"T_4e990_level0_row3\" class=\"row_heading level0 row3\" >3</th>\n",
       "      <td id=\"T_4e990_row3_col0\" class=\"data row3 col0\" >164269</td>\n",
       "      <td id=\"T_4e990_row3_col1\" class=\"data row3 col1\" >1059</td>\n",
       "      <td id=\"T_4e990_row3_col2\" class=\"data row3 col2\" >0.640545</td>\n",
       "      <td id=\"T_4e990_row3_col3\" class=\"data row3 col3\" >1.229417</td>\n",
       "    </tr>\n",
       "    <tr>\n",
       "      <th id=\"T_4e990_level0_row4\" class=\"row_heading level0 row4\" >4</th>\n",
       "      <td id=\"T_4e990_row4_col0\" class=\"data row4 col0\" >170942</td>\n",
       "      <td id=\"T_4e990_row4_col1\" class=\"data row4 col1\" >1096</td>\n",
       "      <td id=\"T_4e990_row4_col2\" class=\"data row4 col2\" >0.637069</td>\n",
       "      <td id=\"T_4e990_row4_col3\" class=\"data row4 col3\" >1.222745</td>\n",
       "    </tr>\n",
       "    <tr>\n",
       "      <th id=\"T_4e990_level0_row5\" class=\"row_heading level0 row5\" >5</th>\n",
       "      <td id=\"T_4e990_row5_col0\" class=\"data row5 col0\" >209691</td>\n",
       "      <td id=\"T_4e990_row5_col1\" class=\"data row5 col1\" >1193</td>\n",
       "      <td id=\"T_4e990_row5_col2\" class=\"data row5 col2\" >0.565714</td>\n",
       "      <td id=\"T_4e990_row5_col3\" class=\"data row5 col3\" >1.085792</td>\n",
       "    </tr>\n",
       "    <tr>\n",
       "      <th id=\"T_4e990_level0_row6\" class=\"row_heading level0 row6\" >6</th>\n",
       "      <td id=\"T_4e990_row6_col0\" class=\"data row6 col0\" >273536</td>\n",
       "      <td id=\"T_4e990_row6_col1\" class=\"data row6 col1\" >1273</td>\n",
       "      <td id=\"T_4e990_row6_col2\" class=\"data row6 col2\" >0.463231</td>\n",
       "      <td id=\"T_4e990_row6_col3\" class=\"data row6 col3\" >0.889093</td>\n",
       "    </tr>\n",
       "  </tbody>\n",
       "</table>\n"
      ],
      "text/plain": [
       "<pandas.io.formats.style.Styler at 0x179ffacb650>"
      ]
     },
     "metadata": {},
     "output_type": "display_data"
    },
    {
     "name": "stdout",
     "output_type": "stream",
     "text": [
      "\n"
     ]
    },
    {
     "data": {
      "text/html": [
       "<style type=\"text/css\">\n",
       "#T_edfe2_row0_col0, #T_edfe2_row0_col1, #T_edfe2_row0_col2, #T_edfe2_row0_col3, #T_edfe2_row3_col0, #T_edfe2_row3_col1, #T_edfe2_row3_col2, #T_edfe2_row3_col3 {\n",
       "  background-color: yellow;\n",
       "}\n",
       "</style>\n",
       "<table id=\"T_edfe2\">\n",
       "  <thead>\n",
       "    <tr>\n",
       "      <th class=\"index_name level0\" >is_fraud</th>\n",
       "      <th id=\"T_edfe2_level0_col0\" class=\"col_heading level0 col0\" >0</th>\n",
       "      <th id=\"T_edfe2_level0_col1\" class=\"col_heading level0 col1\" >1</th>\n",
       "      <th id=\"T_edfe2_level0_col2\" class=\"col_heading level0 col2\" >Fraud %</th>\n",
       "      <th id=\"T_edfe2_level0_col3\" class=\"col_heading level0 col3\" >Relative Risk</th>\n",
       "    </tr>\n",
       "    <tr>\n",
       "      <th class=\"index_name level0\" >time_of_day</th>\n",
       "      <th class=\"blank col0\" >&nbsp;</th>\n",
       "      <th class=\"blank col1\" >&nbsp;</th>\n",
       "      <th class=\"blank col2\" >&nbsp;</th>\n",
       "      <th class=\"blank col3\" >&nbsp;</th>\n",
       "    </tr>\n",
       "  </thead>\n",
       "  <tbody>\n",
       "    <tr>\n",
       "      <th id=\"T_edfe2_level0_row0\" class=\"row_heading level0 row0\" >night</th>\n",
       "      <td id=\"T_edfe2_row0_col0\" class=\"data row0 col0\" >288067</td>\n",
       "      <td id=\"T_edfe2_row0_col1\" class=\"data row0 col1\" >2730</td>\n",
       "      <td id=\"T_edfe2_row0_col2\" class=\"data row0 col2\" >0.938799</td>\n",
       "      <td id=\"T_edfe2_row0_col3\" class=\"data row0 col3\" >1.801866</td>\n",
       "    </tr>\n",
       "    <tr>\n",
       "      <th id=\"T_edfe2_level0_row1\" class=\"row_heading level0 row1\" >morning</th>\n",
       "      <td id=\"T_edfe2_row1_col0\" class=\"data row1 col0\" >289582</td>\n",
       "      <td id=\"T_edfe2_row1_col1\" class=\"data row1 col1\" >289</td>\n",
       "      <td id=\"T_edfe2_row1_col2\" class=\"data row1 col2\" >0.099700</td>\n",
       "      <td id=\"T_edfe2_row1_col3\" class=\"data row1 col3\" >0.191356</td>\n",
       "    </tr>\n",
       "    <tr>\n",
       "      <th id=\"T_edfe2_level0_row2\" class=\"row_heading level0 row2\" >afternoon</th>\n",
       "      <td id=\"T_edfe2_row2_col0\" class=\"data row2 col0\" >448279</td>\n",
       "      <td id=\"T_edfe2_row2_col1\" class=\"data row2 col1\" >453</td>\n",
       "      <td id=\"T_edfe2_row2_col2\" class=\"data row2 col2\" >0.100951</td>\n",
       "      <td id=\"T_edfe2_row2_col3\" class=\"data row2 col3\" >0.193759</td>\n",
       "    </tr>\n",
       "    <tr>\n",
       "      <th id=\"T_edfe2_level0_row3\" class=\"row_heading level0 row3\" >evening</th>\n",
       "      <td id=\"T_edfe2_row3_col0\" class=\"data row3 col0\" >448266</td>\n",
       "      <td id=\"T_edfe2_row3_col1\" class=\"data row3 col1\" >4249</td>\n",
       "      <td id=\"T_edfe2_row3_col2\" class=\"data row3 col2\" >0.938974</td>\n",
       "      <td id=\"T_edfe2_row3_col3\" class=\"data row3 col3\" >1.802202</td>\n",
       "    </tr>\n",
       "  </tbody>\n",
       "</table>\n"
      ],
      "text/plain": [
       "<pandas.io.formats.style.Styler at 0x179e0341a60>"
      ]
     },
     "metadata": {},
     "output_type": "display_data"
    },
    {
     "name": "stdout",
     "output_type": "stream",
     "text": [
      "\n"
     ]
    },
    {
     "data": {
      "text/html": [
       "<style type=\"text/css\">\n",
       "#T_0b1ff_row1_col0, #T_0b1ff_row1_col1, #T_0b1ff_row1_col2, #T_0b1ff_row1_col3 {\n",
       "  background-color: yellow;\n",
       "}\n",
       "</style>\n",
       "<table id=\"T_0b1ff\">\n",
       "  <thead>\n",
       "    <tr>\n",
       "      <th class=\"index_name level0\" >is_fraud</th>\n",
       "      <th id=\"T_0b1ff_level0_col0\" class=\"col_heading level0 col0\" >0</th>\n",
       "      <th id=\"T_0b1ff_level0_col1\" class=\"col_heading level0 col1\" >1</th>\n",
       "      <th id=\"T_0b1ff_level0_col2\" class=\"col_heading level0 col2\" >Fraud %</th>\n",
       "      <th id=\"T_0b1ff_level0_col3\" class=\"col_heading level0 col3\" >Relative Risk</th>\n",
       "    </tr>\n",
       "    <tr>\n",
       "      <th class=\"index_name level0\" >gender</th>\n",
       "      <th class=\"blank col0\" >&nbsp;</th>\n",
       "      <th class=\"blank col1\" >&nbsp;</th>\n",
       "      <th class=\"blank col2\" >&nbsp;</th>\n",
       "      <th class=\"blank col3\" >&nbsp;</th>\n",
       "    </tr>\n",
       "  </thead>\n",
       "  <tbody>\n",
       "    <tr>\n",
       "      <th id=\"T_0b1ff_level0_row0\" class=\"row_heading level0 row0\" >F</th>\n",
       "      <td id=\"T_0b1ff_row0_col0\" class=\"data row0 col0\" >807322</td>\n",
       "      <td id=\"T_0b1ff_row0_col1\" class=\"data row0 col1\" >3934</td>\n",
       "      <td id=\"T_0b1ff_row0_col2\" class=\"data row0 col2\" >0.484927</td>\n",
       "      <td id=\"T_0b1ff_row0_col3\" class=\"data row0 col3\" >0.930735</td>\n",
       "    </tr>\n",
       "    <tr>\n",
       "      <th id=\"T_0b1ff_level0_row1\" class=\"row_heading level0 row1\" >M</th>\n",
       "      <td id=\"T_0b1ff_row1_col0\" class=\"data row1 col0\" >666872</td>\n",
       "      <td id=\"T_0b1ff_row1_col1\" class=\"data row1 col1\" >3787</td>\n",
       "      <td id=\"T_0b1ff_row1_col2\" class=\"data row1 col2\" >0.564668</td>\n",
       "      <td id=\"T_0b1ff_row1_col3\" class=\"data row1 col3\" >1.083785</td>\n",
       "    </tr>\n",
       "  </tbody>\n",
       "</table>\n"
      ],
      "text/plain": [
       "<pandas.io.formats.style.Styler at 0x179e03402c0>"
      ]
     },
     "metadata": {},
     "output_type": "display_data"
    },
    {
     "name": "stdout",
     "output_type": "stream",
     "text": [
      "\n"
     ]
    },
    {
     "data": {
      "text/html": [
       "<style type=\"text/css\">\n",
       "#T_7da8c_row0_col0, #T_7da8c_row0_col1, #T_7da8c_row0_col2, #T_7da8c_row0_col3 {\n",
       "  background-color: yellow;\n",
       "}\n",
       "</style>\n",
       "<table id=\"T_7da8c\">\n",
       "  <thead>\n",
       "    <tr>\n",
       "      <th class=\"index_name level0\" >is_fraud</th>\n",
       "      <th id=\"T_7da8c_level0_col0\" class=\"col_heading level0 col0\" >0</th>\n",
       "      <th id=\"T_7da8c_level0_col1\" class=\"col_heading level0 col1\" >1</th>\n",
       "      <th id=\"T_7da8c_level0_col2\" class=\"col_heading level0 col2\" >Fraud %</th>\n",
       "      <th id=\"T_7da8c_level0_col3\" class=\"col_heading level0 col3\" >Relative Risk</th>\n",
       "    </tr>\n",
       "    <tr>\n",
       "      <th class=\"index_name level0\" >year</th>\n",
       "      <th class=\"blank col0\" >&nbsp;</th>\n",
       "      <th class=\"blank col1\" >&nbsp;</th>\n",
       "      <th class=\"blank col2\" >&nbsp;</th>\n",
       "      <th class=\"blank col3\" >&nbsp;</th>\n",
       "    </tr>\n",
       "  </thead>\n",
       "  <tbody>\n",
       "    <tr>\n",
       "      <th id=\"T_7da8c_level0_row0\" class=\"row_heading level0 row0\" >2019</th>\n",
       "      <td id=\"T_7da8c_row0_col0\" class=\"data row0 col0\" >735730</td>\n",
       "      <td id=\"T_7da8c_row0_col1\" class=\"data row0 col1\" >4165</td>\n",
       "      <td id=\"T_7da8c_row0_col2\" class=\"data row0 col2\" >0.562918</td>\n",
       "      <td id=\"T_7da8c_row0_col3\" class=\"data row0 col3\" >1.080425</td>\n",
       "    </tr>\n",
       "    <tr>\n",
       "      <th id=\"T_7da8c_level0_row1\" class=\"row_heading level0 row1\" >2020</th>\n",
       "      <td id=\"T_7da8c_row1_col0\" class=\"data row1 col0\" >738464</td>\n",
       "      <td id=\"T_7da8c_row1_col1\" class=\"data row1 col1\" >3556</td>\n",
       "      <td id=\"T_7da8c_row1_col2\" class=\"data row1 col2\" >0.479232</td>\n",
       "      <td id=\"T_7da8c_row1_col3\" class=\"data row1 col3\" >0.919805</td>\n",
       "    </tr>\n",
       "  </tbody>\n",
       "</table>\n"
      ],
      "text/plain": [
       "<pandas.io.formats.style.Styler at 0x17a62b22810>"
      ]
     },
     "metadata": {},
     "output_type": "display_data"
    },
    {
     "name": "stdout",
     "output_type": "stream",
     "text": [
      "\n"
     ]
    }
   ],
   "source": [
    "# create cross tabulations for each categorical variable with less than 15 distinct categories\n",
    "## loop through relevant variables, returning a cross tabulation\n",
    "for feature in cat_less_than_15:\n",
    "    # create crosstab using the previously defined function\n",
    "    appendix_cross_tab = create_crosstab(cc_transactions_train, feature, 'is_fraud')\n",
    "    \n",
    "    # highlight categories with relative risk > 1\n",
    "    display(appendix_cross_tab.style.apply(highlight_rr_gt_1, axis=1))\n",
    "    print()"
   ]
  }
 ],
 "metadata": {
  "kernelspec": {
   "display_name": "Python 3 (ipykernel)",
   "language": "python",
   "name": "python3"
  },
  "language_info": {
   "codemirror_mode": {
    "name": "ipython",
    "version": 3
   },
   "file_extension": ".py",
   "mimetype": "text/x-python",
   "name": "python",
   "nbconvert_exporter": "python",
   "pygments_lexer": "ipython3",
   "version": "3.12.3"
  }
 },
 "nbformat": 4,
 "nbformat_minor": 5
}
